{
 "cells": [
  {
   "cell_type": "markdown",
   "metadata": {},
   "source": [
    "# Variational Quantum Deflation (VQD) Algorithm\n",
    "\n",
    "This notebook demonstrates how to use our implementation of the [Variational Quantum Deflation (VQD)](https://qiskit-community.github.io/qiskit-algorithms/stubs/qiskit_algorithms.VQD.html) algorithm for computing higher energy states of a Hamiltonian, as introduced in this [reference paper](https://arxiv.org/abs/1805.08138)."
   ]
  },
  {
   "cell_type": "markdown",
   "metadata": {},
   "source": [
    "## Introduction\n",
    "\n",
    "VQD is a quantum algorithm that uses a variational technique to find the *k* eigenvalues of the Hamiltonian *H* of a given system.\n",
    "\n",
    "The algorithm computes excited state energies of generalized hamiltonians by optimizing over a modified cost function. Each successive eigenvalue is calculated iteratively by introducing an overlap term with all the previously computed eigenstates that must be minimized. This ensures that higher energy eigenstates are found."
   ]
  },
  {
   "cell_type": "markdown",
   "metadata": {},
   "source": [
    "## Complete working example for VQD"
   ]
  },
  {
   "cell_type": "markdown",
   "metadata": {},
   "source": [
    "The first step of the VQD workflow is to create a qubit operator, ansatz and optimizer. For this example, you can use the H2 molecule, which should already look familiar if you have completed the previous VQE tutorials:"
   ]
  },
  {
   "cell_type": "code",
   "execution_count": 1,
   "metadata": {
    "execution": {
     "iopub.execute_input": "2024-04-10T17:18:39.303794Z",
     "iopub.status.busy": "2024-04-10T17:18:39.303578Z",
     "iopub.status.idle": "2024-04-10T17:18:39.637293Z",
     "shell.execute_reply": "2024-04-10T17:18:39.636651Z"
    }
   },
   "outputs": [],
   "source": [
    "from qiskit.quantum_info import SparsePauliOp\n",
    "\n",
    "H2_op = SparsePauliOp.from_list(\n",
    "    [\n",
    "        (\"II\", -1.052373245772859),\n",
    "        (\"IZ\", 0.39793742484318045),\n",
    "        (\"ZI\", -0.39793742484318045),\n",
    "        (\"ZZ\", -0.01128010425623538),\n",
    "        (\"XX\", 0.18093119978423156),\n",
    "    ]\n",
    ")"
   ]
  },
  {
   "cell_type": "markdown",
   "metadata": {},
   "source": [
    "You can set up, for example, a `TwoLocal` ansatz with two qubits, and choose `SLSQP` as the optimization method."
   ]
  },
  {
   "cell_type": "code",
   "execution_count": 2,
   "metadata": {
    "execution": {
     "iopub.execute_input": "2024-04-10T17:18:39.640497Z",
     "iopub.status.busy": "2024-04-10T17:18:39.640174Z",
     "iopub.status.idle": "2024-04-10T17:18:40.761400Z",
     "shell.execute_reply": "2024-04-10T17:18:40.760638Z"
    },
    "pycharm": {
     "name": "#%%\n"
    }
   },
   "outputs": [
    {
     "data": {
      "image/png": "[encoded data removed]",
      "text/plain": [
       "<Figure size 538.128x200.667 with 1 Axes>"
      ]
     },
     "execution_count": 2,
     "metadata": {},
     "output_type": "execute_result"
    }
   ],
   "source": [
    "from qiskit.circuit.library import TwoLocal\n",
    "from qiskit_algorithms.optimizers import SLSQP\n",
    "\n",
    "ansatz = TwoLocal(2, rotation_blocks=[\"ry\", \"rz\"], entanglement_blocks=\"cz\", reps=1)\n",
    "\n",
    "optimizer = SLSQP()\n",
    "ansatz.decompose().draw(\"mpl\")"
   ]
  },
  {
   "cell_type": "markdown",
   "metadata": {},
   "source": [
    "The next step of the workflow is to define the required primitives for running `VQD`. This algorithm requires two different primitive instances: one `Estimator` for computing the expectation values for the \"VQE part\" of the algorithm, and one `Sampler`. The sampler will be passed along to the `StateFidelity` subroutine that will be used to compute the cost for higher energy states. There are several methods that you can use to compute state fidelities, but to keep things simple, you can use the `ComputeUncompute` method already available in `qiskit_algorithm.state_fidelities`."
   ]
  },
  {
   "cell_type": "code",
   "execution_count": 3,
   "metadata": {
    "execution": {
     "iopub.execute_input": "2024-04-10T17:18:40.764443Z",
     "iopub.status.busy": "2024-04-10T17:18:40.763810Z",
     "iopub.status.idle": "2024-04-10T17:18:40.767511Z",
     "shell.execute_reply": "2024-04-10T17:18:40.766955Z"
    }
   },
   "outputs": [],
   "source": [
    "from qiskit.primitives import Sampler, Estimator\n",
    "from qiskit_algorithms.state_fidelities import ComputeUncompute\n",
    "\n",
    "estimator = Estimator()\n",
    "sampler = Sampler()\n",
    "fidelity = ComputeUncompute(sampler)"
   ]
  },
  {
   "cell_type": "markdown",
   "metadata": {},
   "source": [
    "In order to set up the VQD algorithm, it is important to define two additional inputs: the number of energy states to compute (`k`) and the `betas` defined in the original VQD paper. In this example, the number of states (`k`) will be set to three, which indicates that two excited states will be computed in addition to the ground state.\n",
    "\n",
    "The `betas` balance the contribution of each overlap term to the cost function, and they are an optional argument in the `VQD` construction. If not set by the user, they can be auto-evaluated for input operators of type `SparsePauliOp`. Please note that if you want to set your own `betas`, you should provide a list of values of length `k`."
   ]
  },
  {
   "cell_type": "code",
   "execution_count": 4,
   "metadata": {
    "execution": {
     "iopub.execute_input": "2024-04-10T17:18:40.769855Z",
     "iopub.status.busy": "2024-04-10T17:18:40.769490Z",
     "iopub.status.idle": "2024-04-10T17:18:40.772490Z",
     "shell.execute_reply": "2024-04-10T17:18:40.771867Z"
    }
   },
   "outputs": [],
   "source": [
    "k = 3\n",
    "betas = [33, 33, 33]"
   ]
  },
  {
   "cell_type": "markdown",
   "metadata": {},
   "source": [
    "You are almost ready to run the VQD algorithm, but let's define a callback first to store intermediate values:"
   ]
  },
  {
   "cell_type": "code",
   "execution_count": 5,
   "metadata": {
    "execution": {
     "iopub.execute_input": "2024-04-10T17:18:40.775064Z",
     "iopub.status.busy": "2024-04-10T17:18:40.774669Z",
     "iopub.status.idle": "2024-04-10T17:18:40.778188Z",
     "shell.execute_reply": "2024-04-10T17:18:40.777535Z"
    }
   },
   "outputs": [],
   "source": [
    "counts = []\n",
    "values = []\n",
    "steps = []\n",
    "\n",
    "\n",
    "def callback(eval_count, params, value, meta, step):\n",
    "    counts.append(eval_count)\n",
    "    values.append(value)\n",
    "    steps.append(step)"
   ]
  },
  {
   "cell_type": "markdown",
   "metadata": {},
   "source": [
    "You can finally instantiate `VQD` and compute the eigenvalues for the chosen operator."
   ]
  },
  {
   "cell_type": "code",
   "execution_count": 6,
   "metadata": {
    "execution": {
     "iopub.execute_input": "2024-04-10T17:18:40.780607Z",
     "iopub.status.busy": "2024-04-10T17:18:40.780241Z",
     "iopub.status.idle": "2024-04-10T17:18:45.290898Z",
     "shell.execute_reply": "2024-04-10T17:18:45.290172Z"
    }
   },
   "outputs": [],
   "source": [
    "from qiskit_algorithms import VQD\n",
    "\n",
    "vqd = VQD(estimator, fidelity, ansatz, optimizer, k=k, betas=betas, callback=callback)\n",
    "result = vqd.compute_eigenvalues(operator=H2_op)\n",
    "vqd_values = result.eigenvalues"
   ]
  },
  {
   "cell_type": "markdown",
   "metadata": {},
   "source": [
    "You can see the three state energies as part of the `VQD` result:"
   ]
  },
  {
   "cell_type": "code",
   "execution_count": 7,
   "metadata": {
    "execution": {
     "iopub.execute_input": "2024-04-10T17:18:45.294158Z",
     "iopub.status.busy": "2024-04-10T17:18:45.293749Z",
     "iopub.status.idle": "2024-04-10T17:18:45.297607Z",
     "shell.execute_reply": "2024-04-10T17:18:45.296881Z"
    }
   },
   "outputs": [
    {
     "name": "stdout",
     "output_type": "stream",
     "text": [
      "[-1.85720407 -1.24461715 -0.88274845]\n"
     ]
    }
   ],
   "source": [
    "print(vqd_values.real)"
   ]
  },
  {
   "cell_type": "markdown",
   "metadata": {},
   "source": [
    "And we can use the values stored by the callback to plot the energy convergence for each state:"
   ]
  },
  {
   "cell_type": "code",
   "execution_count": 8,
   "metadata": {
    "execution": {
     "iopub.execute_input": "2024-04-10T17:18:45.300254Z",
     "iopub.status.busy": "2024-04-10T17:18:45.299798Z",
     "iopub.status.idle": "2024-04-10T17:18:45.501641Z",
     "shell.execute_reply": "2024-04-10T17:18:45.500907Z"
    },
    "tags": [
     "nbsphinx-thumbnail"
    ]
   },
   "outputs": [
    {
     "data": {
      "image/png": "[encoded data removed]",
      "text/plain": [
       "<Figure size 1200x800 with 1 Axes>"
      ]
     },
     "metadata": {},
     "output_type": "display_data"
    }
   ],
   "source": [
    "import numpy as np\n",
    "import pylab\n",
    "\n",
    "pylab.rcParams[\"figure.figsize\"] = (12, 8)\n",
    "\n",
    "steps = np.asarray(steps)\n",
    "counts = np.asarray(counts)\n",
    "values = np.asarray(values)\n",
    "\n",
    "for i in range(1, 4):\n",
    "    _counts = counts[np.where(steps == i)]\n",
    "    _values = values[np.where(steps == i)]\n",
    "    pylab.plot(_counts, _values, label=f\"State {i-1}\")\n",
    "\n",
    "pylab.xlabel(\"Eval count\")\n",
    "pylab.ylabel(\"Energy\")\n",
    "pylab.title(\"Energy convergence for each computed state\")\n",
    "pylab.legend(loc=\"upper right\");"
   ]
  },
  {
   "cell_type": "markdown",
   "metadata": {},
   "source": [
    "This molecule can be solved exactly using the `NumPyEigensolver` class, which will give a reference value that you can compare with the `VQD` result:"
   ]
  },
  {
   "cell_type": "code",
   "execution_count": 9,
   "metadata": {
    "execution": {
     "iopub.execute_input": "2024-04-10T17:18:45.504458Z",
     "iopub.status.busy": "2024-04-10T17:18:45.504235Z",
     "iopub.status.idle": "2024-04-10T17:18:45.511996Z",
     "shell.execute_reply": "2024-04-10T17:18:45.511454Z"
    },
    "pycharm": {
     "name": "#%%\n"
    }
   },
   "outputs": [],
   "source": [
    "from qiskit_algorithms import NumPyEigensolver\n",
    "\n",
    "\n",
    "exact_solver = NumPyEigensolver(k=3)\n",
    "exact_result = exact_solver.compute_eigenvalues(H2_op)\n",
    "ref_values = exact_result.eigenvalues"
   ]
  },
  {
   "cell_type": "markdown",
   "metadata": {},
   "source": [
    "Let's see a comparison of the exact result with the previously computed `VQD` eigenvalues:"
   ]
  },
  {
   "cell_type": "code",
   "execution_count": 10,
   "metadata": {
    "execution": {
     "iopub.execute_input": "2024-04-10T17:18:45.514776Z",
     "iopub.status.busy": "2024-04-10T17:18:45.514372Z",
     "iopub.status.idle": "2024-04-10T17:18:45.518137Z",
     "shell.execute_reply": "2024-04-10T17:18:45.517435Z"
    }
   },
   "outputs": [
    {
     "name": "stdout",
     "output_type": "stream",
     "text": [
      "Reference values: [-1.85727503 -1.24458455 -0.88272215]\n",
      "VQD values: [-1.85720407 -1.24461715 -0.88274845]\n"
     ]
    }
   ],
   "source": [
    "print(f\"Reference values: {ref_values}\")\n",
    "print(f\"VQD values: {vqd_values.real}\")"
   ]
  },
  {
   "cell_type": "markdown",
   "metadata": {},
   "source": [
    "As you can see, the result from VQD matches the values from the exact solution, and extends VQE to also compute excited states."
   ]
  },
  {
   "cell_type": "code",
   "execution_count": 11,
   "metadata": {
    "execution": {
     "iopub.execute_input": "2024-04-10T17:18:45.520545Z",
     "iopub.status.busy": "2024-04-10T17:18:45.520334Z",
     "iopub.status.idle": "2024-04-10T17:18:45.528082Z",
     "shell.execute_reply": "2024-04-10T17:18:45.527499Z"
    }
   },
   "outputs": [
    {
     "data": {
      "text/html": [
       "<h3>Version Information</h3><table><tr><th>Software</th><th>Version</th></tr><tr><td><code>qiskit</code></td><td>1.0.2</td></tr><tr><td><code>qiskit_algorithms</code></td><td>0.3.0</td></tr><tr><th colspan='2'>System information</th></tr><tr><td>Python version</td><td>3.8.18</td></tr><tr><td>OS</td><td>Linux</td></tr><tr><td colspan='2'>Wed Apr 10 17:18:45 2024 UTC</td></tr></table>"
      ],
      "text/plain": [
       "<IPython.core.display.HTML object>"
      ]
     },
     "metadata": {},
     "output_type": "display_data"
    },
    {
     "data": {
      "text/html": [
       "<div style='width: 100%; background-color:#d5d9e0;padding-left: 10px; padding-bottom: 10px; padding-right: 10px; padding-top: 5px'><h3>This code is a part of a Qiskit project</h3><p>&copy; Copyright IBM 2017, 2024.</p><p>This code is licensed under the Apache License, Version 2.0. You may<br>obtain a copy of this license in the LICENSE.txt file in the root directory<br> of this source tree or at http://www.apache.org/licenses/LICENSE-2.0.<p>Any modifications or derivative works of this code must retain this<br>copyright notice, and modified files need to carry a notice indicating<br>that they have been altered from the originals.</p></div>"
      ],
      "text/plain": [
       "<IPython.core.display.HTML object>"
      ]
     },
     "metadata": {},
     "output_type": "display_data"
    }
   ],
   "source": [
    "import tutorial_magics\n",
    "\n",
    "%qiskit_version_table\n",
    "%qiskit_copyright"
   ]
  }
 ],
 "metadata": {
  "celltoolbar": "Edit Metadata",
  "kernelspec": {
   "display_name": "Python 3 (ipykernel)",
   "language": "python",
   "name": "python3"
  },
  "language_info": {
   "codemirror_mode": {
    "name": "ipython",
    "version": 3
   },
   "file_extension": ".py",
   "mimetype": "text/x-python",
   "name": "python",
   "nbconvert_exporter": "python",
   "pygments_lexer": "ipython3",
   "version": "3.8.18"
  }
 },
 "nbformat": 4,
 "nbformat_minor": 4
}
