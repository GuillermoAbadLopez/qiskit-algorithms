{
 "cells": [
  {
   "cell_type": "markdown",
   "metadata": {},
   "source": [
    "# Projected Variational Quantum Dynamics\n",
    "\n",
    "The projected Variational Quantum Dynamics (p-VQD) algorithm is a quantum algorithm for real time evolution. It's a variational algorithm that projects the state at time $t + \\Delta_t$, as calculated with Trotterization, onto a parameterized quantum circuit.\n",
    "\n",
    "For a quantum state $|\\phi(\\theta)\\rangle = U(\\theta)|0\\rangle$ constructed by a parameterized quantum circuit $U(\\theta)$ and a Hamiltonian $H$, the update rule can be written as\n",
    "\n",
    "$$\n",
    "\\theta_{n+1} = \\theta_n + \\arg\\min_{\\delta\\theta} 1 - |\\langle\\phi(\\theta_n + \\delta\\theta)|e^{-i\\Delta_t H}|\\phi(\\theta_n)\\rangle|^2,\n",
    "$$\n",
    "\n",
    "where $e^{-i\\Delta_t H}$ is calculated with a Trotter expansion (using e.g. the [PauliEvolutionGate](https://qiskit.org/documentation/stubs/qiskit.circuit.library.PauliEvolutionGate.html) in Qiskit!).\n",
    "\n",
    "The following tutorial explores the p-VQD algorithm, which is available as the [PVQD](https://qiskit.org/ecosystem/algorithms/stubs/qiskit_algorithms.PVQD.html) class. For details on the algorithm, see the original paper: [Barison et al. Quantum 5, 512 (2021)](https://quantum-journal.org/papers/q-2021-07-28-512/#)."
   ]
  },
  {
   "cell_type": "markdown",
   "metadata": {},
   "source": [
    "The example we're looking at is the time evolution of the $|00\\rangle$ state under the Hamiltonian\n",
    "\n",
    "$$\n",
    "    H = 0.1 Z_1 Z_2 + X_1 + X_2,\n",
    "$$\n",
    "\n",
    "which is an Ising Hamiltonian on two neighboring spins, up to a time $T=1$, where we want to keep track of the total magnetization $M = Z_1 + Z_2$ as an observable."
   ]
  },
  {
   "cell_type": "code",
   "execution_count": 1,
   "metadata": {
    "execution": {
     "iopub.execute_input": "2024-01-12T15:14:09.863480Z",
     "iopub.status.busy": "2024-01-12T15:14:09.863105Z",
     "iopub.status.idle": "2024-01-12T15:14:10.182677Z",
     "shell.execute_reply": "2024-01-12T15:14:10.182087Z"
    }
   },
   "outputs": [],
   "source": [
    "from qiskit.quantum_info import SparsePauliOp\n",
    "\n",
    "final_time = 1\n",
    "hamiltonian = SparsePauliOp.from_sparse_list([\n",
    "    (\"ZZ\", [0, 1], 0.1), (\"X\", [0], 1), (\"X\", [1], 1),\n",
    "], num_qubits=2)\n",
    "observable = SparsePauliOp([\"ZI\", \"IZ\"])"
   ]
  },
  {
   "cell_type": "markdown",
   "metadata": {},
   "source": [
    "After defining our Hamiltonian and observable, we need to choose the parameterized ansatz we project the update steps onto. We have different choices here, but for real time evolution an ansatz that contains building blocks of the evolved Hamiltonian usually performs very well."
   ]
  },
  {
   "cell_type": "code",
   "execution_count": 2,
   "metadata": {
    "execution": {
     "iopub.execute_input": "2024-01-12T15:14:10.185847Z",
     "iopub.status.busy": "2024-01-12T15:14:10.185428Z",
     "iopub.status.idle": "2024-01-12T15:14:10.900451Z",
     "shell.execute_reply": "2024-01-12T15:14:10.899775Z"
    }
   },
   "outputs": [
    {
     "data": {
      "image/png": "[encoded data removed]",
      "text/plain": [
       "<Figure size 454.517x200.667 with 1 Axes>"
      ]
     },
     "execution_count": 2,
     "metadata": {},
     "output_type": "execute_result"
    }
   ],
   "source": [
    "from qiskit.circuit import QuantumCircuit, ParameterVector\n",
    "\n",
    "theta = ParameterVector(\"th\", 5)\n",
    "ansatz = QuantumCircuit(2)\n",
    "ansatz.rx(theta[0], 0)\n",
    "ansatz.rx(theta[1], 1)\n",
    "ansatz.rzz(theta[2], 0, 1)\n",
    "ansatz.rx(theta[3], 0)\n",
    "ansatz.rx(theta[4], 1)\n",
    "\n",
    "# you can try different circuits, like:\n",
    "# from qiskit.circuit.library import EfficientSU2\n",
    "# ansatz = EfficientSU2(2, reps=1)\n",
    "\n",
    "ansatz.draw(\"mpl\", style=\"iqx\")"
   ]
  },
  {
   "cell_type": "markdown",
   "metadata": {},
   "source": [
    "With this ansatz, the $|00\\rangle$ state is prepared if all parameters are 0. Hence we'll set the initial parameters to $\\theta_0 = 0$:"
   ]
  },
  {
   "cell_type": "code",
   "execution_count": 3,
   "metadata": {
    "execution": {
     "iopub.execute_input": "2024-01-12T15:14:10.903208Z",
     "iopub.status.busy": "2024-01-12T15:14:10.902955Z",
     "iopub.status.idle": "2024-01-12T15:14:10.906139Z",
     "shell.execute_reply": "2024-01-12T15:14:10.905600Z"
    }
   },
   "outputs": [],
   "source": [
    "import numpy as np\n",
    "\n",
    "initial_parameters = np.zeros(ansatz.num_parameters)"
   ]
  },
  {
   "cell_type": "markdown",
   "metadata": {},
   "source": [
    "Before running the p-VQD algorithm, we need to select the backend and how we want to calculate the expectation values. Here, we'll perform exact statevector simulations (which are still very fast, as we investigate a 2 qubit system) through the reference primitive implementations found in `qiskit.primitives`."
   ]
  },
  {
   "cell_type": "code",
   "execution_count": 4,
   "metadata": {
    "execution": {
     "iopub.execute_input": "2024-01-12T15:14:10.908424Z",
     "iopub.status.busy": "2024-01-12T15:14:10.908234Z",
     "iopub.status.idle": "2024-01-12T15:14:11.184248Z",
     "shell.execute_reply": "2024-01-12T15:14:11.183516Z"
    }
   },
   "outputs": [],
   "source": [
    "from qiskit.primitives import Sampler, Estimator\n",
    "from qiskit_algorithms.state_fidelities import ComputeUncompute\n",
    "\n",
    "# the fidelity is used to evaluate the objective: the overlap of the variational form and the trotter step\n",
    "sampler = Sampler()\n",
    "fidelity = ComputeUncompute(sampler)\n",
    "\n",
    "# the estimator is used to evaluate the observables\n",
    "estimator = Estimator()"
   ]
  },
  {
   "cell_type": "markdown",
   "metadata": {},
   "source": [
    "Since p-VQD performs a classical optimization in each timestep to determine the best parameters for the projection, we also have to specify the classical optimizer. As a first example we're using BFGS, which typically works well in statevector simulations, but later we can switch to gradient descent."
   ]
  },
  {
   "cell_type": "code",
   "execution_count": 5,
   "metadata": {
    "execution": {
     "iopub.execute_input": "2024-01-12T15:14:11.187337Z",
     "iopub.status.busy": "2024-01-12T15:14:11.186855Z",
     "iopub.status.idle": "2024-01-12T15:14:11.190160Z",
     "shell.execute_reply": "2024-01-12T15:14:11.189600Z"
    }
   },
   "outputs": [],
   "source": [
    "from qiskit_algorithms.optimizers import L_BFGS_B\n",
    "\n",
    "bfgs = L_BFGS_B()"
   ]
  },
  {
   "cell_type": "markdown",
   "metadata": {},
   "source": [
    "Now we can define p-VQD and execute it!"
   ]
  },
  {
   "cell_type": "code",
   "execution_count": 6,
   "metadata": {
    "execution": {
     "iopub.execute_input": "2024-01-12T15:14:11.192743Z",
     "iopub.status.busy": "2024-01-12T15:14:11.192261Z",
     "iopub.status.idle": "2024-01-12T15:14:11.195617Z",
     "shell.execute_reply": "2024-01-12T15:14:11.195031Z"
    }
   },
   "outputs": [],
   "source": [
    "from qiskit_algorithms import PVQD\n",
    "\n",
    "pvqd = PVQD(\n",
    "    fidelity,\n",
    "    ansatz,\n",
    "    initial_parameters,\n",
    "    estimator=estimator,\n",
    "    num_timesteps=100,\n",
    "    optimizer=bfgs\n",
    ")"
   ]
  },
  {
   "cell_type": "markdown",
   "metadata": {},
   "source": [
    "The p-VQD implementation follows Qiskit's time evolution interface, thus we pack all information of the evolution problem into an input class: the `hamiltonian` under which we evolve the state, the `final_time` of the evolution and the observables (`aux_operators`) we keep track of."
   ]
  },
  {
   "cell_type": "code",
   "execution_count": 7,
   "metadata": {
    "execution": {
     "iopub.execute_input": "2024-01-12T15:14:11.198038Z",
     "iopub.status.busy": "2024-01-12T15:14:11.197662Z",
     "iopub.status.idle": "2024-01-12T15:14:11.200879Z",
     "shell.execute_reply": "2024-01-12T15:14:11.200209Z"
    }
   },
   "outputs": [],
   "source": [
    "from qiskit_algorithms import TimeEvolutionProblem\n",
    "\n",
    "problem = TimeEvolutionProblem(hamiltonian, time=final_time, aux_operators=[hamiltonian, observable])"
   ]
  },
  {
   "cell_type": "markdown",
   "metadata": {},
   "source": [
    "And then run the algorithm!"
   ]
  },
  {
   "cell_type": "code",
   "execution_count": 8,
   "metadata": {
    "execution": {
     "iopub.execute_input": "2024-01-12T15:14:11.203159Z",
     "iopub.status.busy": "2024-01-12T15:14:11.202961Z",
     "iopub.status.idle": "2024-01-12T15:14:18.465320Z",
     "shell.execute_reply": "2024-01-12T15:14:18.464647Z"
    }
   },
   "outputs": [
    {
     "name": "stdout",
     "output_type": "stream",
     "text": [
      "{   'aux_ops_evaluated': array([ 0.1038909 , -0.82533691]),\n",
      "    'estimated_error': 2.623988104244468e-06,\n",
      "    'evolved_state': <qiskit.circuit.quantumcircuit.QuantumCircuit object at 0x7fc6dcbfdb50>,\n",
      "    'fidelities': [   1.0,\n",
      "                      0.9999999946683212,\n",
      "                      0.999999963480262,\n",
      "                      0.9999999992067574,\n",
      "                      0.9999999994706046,\n",
      "                      0.9999999953682346,\n",
      "                      0.999999986933233,\n",
      "                      0.9999999994023404,\n",
      "                      0.9999999991686066,\n",
      "                      0.9999999988672694,\n",
      "                      0.99999999849949,\n",
      "                      0.9999999980665112,\n",
      "                      0.9999999975695812,\n",
      "                      0.9999999970098676,\n",
      "                      0.9999999963883736,\n",
      "                      0.9999999957058396,\n",
      "                      0.9999999949626486,\n",
      "                      0.9999999941587286,\n",
      "                      0.9999999932934464,\n",
      "                      0.99999999236551,\n",
      "                      0.999999991372869,\n",
      "                      0.9999999903126134,\n",
      "                      0.9999999891808862,\n",
      "                      0.9999999879727864,\n",
      "                      0.9999999866822924,\n",
      "                      0.9999999853021814,\n",
      "                      0.9999999838239678,\n",
      "                      0.9999999824234664,\n",
      "                      0.9999999807334216,\n",
      "                      0.9999999789091968,\n",
      "                      0.9999999769364037,\n",
      "                      0.9999999747992102,\n",
      "                      0.9999999724803486,\n",
      "                      0.9999999699611352,\n",
      "                      0.9999999672215067,\n",
      "                      0.9999999642400667,\n",
      "                      0.9999999626644208,\n",
      "                      0.9999999596987522,\n",
      "                      0.9999999565030278,\n",
      "                      0.999999953055494,\n",
      "                      0.9999999493332956,\n",
      "                      0.999999946651635,\n",
      "                      0.999999942842895,\n",
      "                      0.9999999387565685,\n",
      "                      0.9999999645992482,\n",
      "                      0.9999999619935932,\n",
      "                      0.9999999592156336,\n",
      "                      0.9999999562536264,\n",
      "                      0.999999953732808,\n",
      "                      0.9999999506477179,\n",
      "                      0.9999999476686416,\n",
      "                      0.9999999447409766,\n",
      "                      0.9999999416403642,\n",
      "                      0.9999999386351952,\n",
      "                      0.9999999351930208,\n",
      "                      0.9999999320310688,\n",
      "                      0.9999999289060394,\n",
      "                      0.9999999256747112,\n",
      "                      0.9999999225280546,\n",
      "                      0.9999999192862626,\n",
      "                      0.999999916581069,\n",
      "                      0.9999999131900968,\n",
      "                      0.9999999097018384,\n",
      "                      0.9999999073180496,\n",
      "                      0.9999999040960568,\n",
      "                      0.9999999008118796,\n",
      "                      0.9999999647824364,\n",
      "                      0.9999999889268798,\n",
      "                      0.9999999902958085,\n",
      "                      0.9999999916214938,\n",
      "                      0.999999992887384,\n",
      "                      0.9999999940795468,\n",
      "                      0.999999995201552,\n",
      "                      0.9999999962248222,\n",
      "                      0.9999999971377826,\n",
      "                      0.9999999979088706,\n",
      "                      0.9999999985206864,\n",
      "                      0.9999999989423904,\n",
      "                      0.9999999991507412,\n",
      "                      0.9999999991146507,\n",
      "                      0.9999999988053346,\n",
      "                      0.9999999981907384,\n",
      "                      0.9999999971061376,\n",
      "                      0.9999999959029326,\n",
      "                      0.999999994028299,\n",
      "                      0.9999999919730954,\n",
      "                      0.9999999891481822,\n",
      "                      0.9999999860703243,\n",
      "                      0.9999999821144822,\n",
      "                      0.9999999778689054,\n",
      "                      0.999999972595484,\n",
      "                      0.9999999673398478,\n",
      "                      0.9999999606431936,\n",
      "                      0.9999999530220466,\n",
      "                      0.9999999997300976,\n",
      "                      0.9999999995867986,\n",
      "                      0.9999999991821312,\n",
      "                      0.9999999984832364,\n",
      "                      0.9999999976245462,\n",
      "                      0.9999999963085336,\n",
      "                      0.999999994599112],\n",
      "    'observables': [   array([0.1, 2. ]),\n",
      "                       array([0.10016418, 1.99960002]),\n",
      "                       array([0.10065657, 1.99840032]),\n",
      "                       array([0.100689  , 1.99640137]),\n",
      "                       array([0.10058952, 1.99360394]),\n",
      "                       array([0.10035858, 1.99000913]),\n",
      "                       array([0.09999681, 1.98561835]),\n",
      "                       array([0.09994942, 1.98043342]),\n",
      "                       array([0.09989027, 1.97445651]),\n",
      "                       array([0.09982   , 1.96769008]),\n",
      "                       array([0.09973928, 1.96013691]),\n",
      "                       array([0.09964891, 1.9518001 ]),\n",
      "                       array([0.09954975, 1.94268307]),\n",
      "                       array([0.09944272, 1.93278957]),\n",
      "                       array([0.09932883, 1.92212366]),\n",
      "                       array([0.09920917, 1.91068971]),\n",
      "                       array([0.09908487, 1.89849242]),\n",
      "                       array([0.09895717, 1.8855368 ]),\n",
      "                       array([0.09882733, 1.87182816]),\n",
      "                       array([0.09869669, 1.85737212]),\n",
      "                       array([0.09856666, 1.84217463]),\n",
      "                       array([0.09843868, 1.82624191]),\n",
      "                       array([0.09831427, 1.80958051]),\n",
      "                       array([0.09819497, 1.79219725]),\n",
      "                       array([0.09808239, 1.77409927]),\n",
      "                       array([0.09797815, 1.755294  ]),\n",
      "                       array([0.09788395, 1.73578914]),\n",
      "                       array([0.09780571, 1.71557548]),\n",
      "                       array([0.09774127, 1.69467739]),\n",
      "                       array([0.09769237, 1.67310346]),\n",
      "                       array([0.09766082, 1.65086255]),\n",
      "                       array([0.09764841, 1.62796379]),\n",
      "                       array([0.09765696, 1.60441661]),\n",
      "                       array([0.0976883 , 1.58023066]),\n",
      "                       array([0.09774426, 1.55541588]),\n",
      "                       array([0.09782667, 1.52998246]),\n",
      "                       array([0.09784502, 1.50392805]),\n",
      "                       array([0.09788909, 1.47727526]),\n",
      "                       array([0.09796076, 1.45003501]),\n",
      "                       array([0.09806191, 1.42221846]),\n",
      "                       array([0.09819438, 1.393837  ]),\n",
      "                       array([0.09827845, 1.36488355]),\n",
      "                       array([0.09839427, 1.33538768]),\n",
      "                       array([0.09854368, 1.30536146]),\n",
      "                       array([0.09870527, 1.27481372]),\n",
      "                       array([0.09889444, 1.24375955]),\n",
      "                       array([0.09911253, 1.21221159]),\n",
      "                       array([0.09936082, 1.18018267]),\n",
      "                       array([0.09958824, 1.14770564]),\n",
      "                       array([0.09984634, 1.11477424]),\n",
      "                       array([0.10012069, 1.0813709 ]),\n",
      "                       array([0.10039494, 1.04756822]),\n",
      "                       array([0.10068824, 1.01332055]),\n",
      "                       array([0.10097808, 0.9786983 ]),\n",
      "                       array([0.10130094, 0.94368962]),\n",
      "                       array([0.10163516, 0.90826992]),\n",
      "                       array([0.10197257, 0.87252663]),\n",
      "                       array([0.10232507, 0.8364022 ]),\n",
      "                       array([0.10267994, 0.79998189]),\n",
      "                       array([0.10305239, 0.76320977]),\n",
      "                       array([0.10339795, 0.72615726]),\n",
      "                       array([0.10377758, 0.68881924]),\n",
      "                       array([0.10419189, 0.65121077]),\n",
      "                       array([0.10456307, 0.61332843]),\n",
      "                       array([0.10496834, 0.57520552]),\n",
      "                       array([0.10540811, 0.53685744]),\n",
      "                       array([0.10564163, 0.49830403]),\n",
      "                       array([0.10581189, 0.45955243]),\n",
      "                       array([0.10597765, 0.42061734]),\n",
      "                       array([0.10613598, 0.38152471]),\n",
      "                       array([0.10628298, 0.34227251]),\n",
      "                       array([0.10641803, 0.30290039]),\n",
      "                       array([0.10654273, 0.26339726]),\n",
      "                       array([0.10665623, 0.22380697]),\n",
      "                       array([0.10675817, 0.18411796]),\n",
      "                       array([0.10684707, 0.14437254]),\n",
      "                       array([0.10692169, 0.10456179]),\n",
      "                       array([0.10698048, 0.06472504]),\n",
      "                       array([0.10702174, 0.02485644]),\n",
      "                       array([ 0.10704402, -0.01500749]),\n",
      "                       array([ 0.10704527, -0.05487017]),\n",
      "                       array([ 0.10702421, -0.09469697]),\n",
      "                       array([ 0.10695934, -0.13448252]),\n",
      "                       array([ 0.10688651, -0.17421785]),\n",
      "                       array([ 0.10676716, -0.21387986]),\n",
      "                       array([ 0.10663626, -0.25343959]),\n",
      "                       array([ 0.10645585, -0.29289411]),\n",
      "                       array([ 0.10625814, -0.33223749]),\n",
      "                       array([ 0.10600772, -0.37144384]),\n",
      "                       array([ 0.1057372 , -0.41048128]),\n",
      "                       array([ 0.10541059, -0.44935025]),\n",
      "                       array([ 0.10507081, -0.48804201]),\n",
      "                       array([ 0.10467127, -0.52653385]),\n",
      "                       array([ 0.10421068, -0.56481038]),\n",
      "                       array([ 0.10424936, -0.60284343]),\n",
      "                       array([ 0.10426558, -0.64062855]),\n",
      "                       array([ 0.10425738, -0.67815055]),\n",
      "                       array([ 0.1042228 , -0.71539436]),\n",
      "                       array([ 0.10414236, -0.75235474]),\n",
      "                       array([ 0.10403239, -0.78900717]),\n",
      "                       array([ 0.1038909 , -0.82533691])],\n",
      "    'parameters': [   array([0., 0., 0., 0., 0.]),\n",
      "                      array([0.01259293, 0.00927002, 0.00933975, 0.00740723, 0.01073016]),\n",
      "                      array([0.02518586, 0.01854003, 0.01867949, 0.01481445, 0.02146031]),\n",
      "                      array([0.03512533, 0.02596855, 0.0171742 , 0.02487419, 0.03403136]),\n",
      "                      array([0.0450648 , 0.03339706, 0.01566891, 0.03493392, 0.0466024 ]),\n",
      "                      array([0.05500426, 0.04082557, 0.01416362, 0.04499365, 0.05917345]),\n",
      "                      array([0.06494373, 0.04825409, 0.01265833, 0.05505338, 0.0717445 ]),\n",
      "                      array([0.07502693, 0.05582892, 0.01453503, 0.0649707 , 0.08417047]),\n",
      "                      array([0.08511013, 0.06340376, 0.01641173, 0.07488801, 0.09659645]),\n",
      "                      array([0.09519333, 0.0709786 , 0.01828842, 0.08480533, 0.10902242]),\n",
      "                      array([0.10527653, 0.07855344, 0.02016512, 0.09472264, 0.1214484 ]),\n",
      "                      array([0.11535974, 0.08612827, 0.02204181, 0.10463996, 0.13387437]),\n",
      "                      array([0.12544294, 0.09370311, 0.02391851, 0.11455727, 0.14630035]),\n",
      "                      array([0.13552614, 0.10127795, 0.02579521, 0.12447459, 0.15872632]),\n",
      "                      array([0.14560934, 0.10885278, 0.0276719 , 0.1343919 , 0.1711523 ]),\n",
      "                      array([0.15569254, 0.11642762, 0.0295486 , 0.14430922, 0.18357827]),\n",
      "                      array([0.16577575, 0.12400246, 0.0314253 , 0.15422653, 0.19600425]),\n",
      "                      array([0.17585895, 0.1315773 , 0.03330199, 0.16414384, 0.20843022]),\n",
      "                      array([0.18594215, 0.13915213, 0.03517869, 0.17406116, 0.2208562 ]),\n",
      "                      array([0.19602535, 0.14672697, 0.03705538, 0.18397847, 0.23328217]),\n",
      "                      array([0.20610855, 0.15430181, 0.03893208, 0.19389579, 0.24570815]),\n",
      "                      array([0.21619176, 0.16187664, 0.04080878, 0.2038131 , 0.25813413]),\n",
      "                      array([0.22627496, 0.16945148, 0.04268547, 0.21373042, 0.2705601 ]),\n",
      "                      array([0.23635816, 0.17702632, 0.04456217, 0.22364773, 0.28298608]),\n",
      "                      array([0.24644136, 0.18460116, 0.04643887, 0.23356505, 0.29541205]),\n",
      "                      array([0.25652456, 0.19217599, 0.04831556, 0.24348236, 0.30783803]),\n",
      "                      array([0.26660777, 0.19975083, 0.05019226, 0.25339967, 0.320264  ]),\n",
      "                      array([0.27669742, 0.20733843, 0.05207934, 0.26332549, 0.33269593]),\n",
      "                      array([0.28678708, 0.21492603, 0.05396642, 0.2732513 , 0.34512786]),\n",
      "                      array([0.29687673, 0.22251363, 0.0558535 , 0.28317711, 0.35755979]),\n",
      "                      array([0.30696639, 0.23010123, 0.05774058, 0.29310292, 0.36999171]),\n",
      "                      array([0.31705605, 0.23768883, 0.05962766, 0.30302874, 0.38242364]),\n",
      "                      array([0.3271457 , 0.24527643, 0.06151474, 0.31295455, 0.39485557]),\n",
      "                      array([0.33723536, 0.25286403, 0.06340182, 0.32288036, 0.4072875 ]),\n",
      "                      array([0.34732502, 0.26045163, 0.0652889 , 0.33280617, 0.41971942]),\n",
      "                      array([0.35741467, 0.26803923, 0.06717598, 0.34273199, 0.43215135]),\n",
      "                      array([0.36744917, 0.27574381, 0.06890471, 0.35271961, 0.44447515]),\n",
      "                      array([0.37748366, 0.28344839, 0.07063345, 0.36270723, 0.45679896]),\n",
      "                      array([0.38751816, 0.29115297, 0.07236218, 0.37269485, 0.46912276]),\n",
      "                      array([0.39755265, 0.29885755, 0.07409092, 0.38268248, 0.48144656]),\n",
      "                      array([0.40758715, 0.30656213, 0.07581965, 0.3926701 , 0.49377036]),\n",
      "                      array([0.41760014, 0.31432712, 0.07742459, 0.40268858, 0.506046  ]),\n",
      "                      array([0.42761314, 0.32209211, 0.07902953, 0.41270706, 0.51832163]),\n",
      "                      array([0.43762613, 0.32985711, 0.08063447, 0.42272554, 0.53059727]),\n",
      "                      array([0.44661068, 0.3421049 , 0.08192362, 0.43376933, 0.53838981]),\n",
      "                      array([0.45559522, 0.35435269, 0.08321277, 0.44481313, 0.54618235]),\n",
      "                      array([0.46457977, 0.36660048, 0.08450191, 0.45585693, 0.55397489]),\n",
      "                      array([0.47356432, 0.37884827, 0.08579106, 0.46690073, 0.56176743]),\n",
      "                      array([0.48255767, 0.39108557, 0.08701041, 0.47792821, 0.56955063]),\n",
      "                      array([0.49155103, 0.40332287, 0.08822976, 0.4889557 , 0.57733383]),\n",
      "                      array([0.50055478, 0.41557286, 0.08942987, 0.49998329, 0.58512972]),\n",
      "                      array([0.50956451, 0.42780947, 0.09058801, 0.51099527, 0.59291247]),\n",
      "                      array([0.51858461, 0.44005902, 0.09173008, 0.52200641, 0.60070789]),\n",
      "                      array([0.52761518, 0.45229622, 0.09282648, 0.5329994 , 0.60849065]),\n",
      "                      array([0.53664575, 0.46453343, 0.09392288, 0.54399238, 0.61627341]),\n",
      "                      array([0.5456898 , 0.47678638, 0.09499304, 0.55498276, 0.62407163]),\n",
      "                      array([0.554741  , 0.48902397, 0.09602577, 0.56595586, 0.63185392]),\n",
      "                      array([0.56380596, 0.50127697, 0.0970367 , 0.57692511, 0.63965075]),\n",
      "                      array([0.57288147, 0.51351551, 0.09800972, 0.58787464, 0.64743159]),\n",
      "                      array([0.58197122, 0.5257697 , 0.09896382, 0.59881905, 0.65522661]),\n",
      "                      array([0.59109854, 0.53801733, 0.09984711, 0.60971952, 0.66300808]),\n",
      "                      array([0.60022586, 0.55026496, 0.10073039, 0.62061998, 0.67078955]),\n",
      "                      array([0.60935318, 0.5625126 , 0.10161368, 0.63152045, 0.67857103]),\n",
      "                      array([0.61853502, 0.57477094, 0.10241048, 0.64236978, 0.68635156]),\n",
      "                      array([0.62771687, 0.58702929, 0.10320727, 0.65321911, 0.69413209]),\n",
      "                      array([0.63689872, 0.59928763, 0.10400407, 0.66406845, 0.70191263]),\n",
      "                      array([0.65368252, 0.61314208, 0.10424037, 0.66729582, 0.70806892]),\n",
      "                      array([0.66977971, 0.630171  , 0.10435784, 0.67120135, 0.71105208]),\n",
      "                      array([0.68588855, 0.64720219, 0.10450806, 0.67509984, 0.71403243]),\n",
      "                      array([0.70200171, 0.6642361 , 0.10468735, 0.67898602, 0.7170114 ]),\n",
      "                      array([0.71812824, 0.68127056, 0.10489157, 0.68287201, 0.71998789]),\n",
      "                      array([0.73425261, 0.69830735, 0.1051198 , 0.68674462, 0.72296452]),\n",
      "                      array([0.75039082, 0.71534375, 0.10537389, 0.69062044, 0.72593904]),\n",
      "                      array([0.76652551, 0.73238202, 0.10565296, 0.69448327, 0.72891445]),\n",
      "                      array([0.78267292, 0.74941926, 0.10595718, 0.69834992, 0.73188848]),\n",
      "                      array([0.79881674, 0.76645759, 0.10628538, 0.70220508, 0.73486407]),\n",
      "                      array([0.81497155, 0.78349419, 0.10663715, 0.70606405, 0.73783925]),\n",
      "                      array([0.83112285, 0.80053087, 0.10701156, 0.70991334, 0.74081678]),\n",
      "                      array([0.84728331, 0.81756498, 0.10740796, 0.71376655, 0.74379502]),\n",
      "                      array([0.86344006, 0.834598  , 0.10782584, 0.7176119 , 0.74677661]),\n",
      "                      array([0.87960424, 0.85162738, 0.10826439, 0.72146166, 0.74976023]),\n",
      "                      array([0.89576402, 0.8686543 , 0.10872347, 0.72530525, 0.75274849]),\n",
      "                      array([0.91192381, 0.88568122, 0.10918255, 0.72914885, 0.75573676]),\n",
      "                      array([0.9280896 , 0.90270238, 0.10967972, 0.73299916, 0.75872959]),\n",
      "                      array([0.9442554 , 0.91972354, 0.1101769 , 0.73684948, 0.76172242]),\n",
      "                      array([0.96041319, 0.9367392 , 0.1107118 , 0.74069608, 0.76472395]),\n",
      "                      array([0.97657098, 0.95375486, 0.1112467 , 0.74454267, 0.76772549]),\n",
      "                      array([0.9927326 , 0.97076052, 0.11181722, 0.74840151, 0.7707356 ]),\n",
      "                      array([1.00889422, 0.98776619, 0.11238774, 0.75226035, 0.77374572]),\n",
      "                      array([1.02504074, 1.00476147, 0.11299485, 0.75611818, 0.77677075]),\n",
      "                      array([1.04118726, 1.02175676, 0.11360196, 0.75997602, 0.77979578]),\n",
      "                      array([1.05731873, 1.03871595, 0.11425639, 0.76386396, 0.78285576]),\n",
      "                      array([1.0734502 , 1.05567515, 0.11491082, 0.76775191, 0.78591574]),\n",
      "                      array([1.08958166, 1.07263434, 0.11556524, 0.77163985, 0.78897571]),\n",
      "                      array([1.10276348, 1.08554496, 0.11632708, 0.77848491, 0.7960949 ]),\n",
      "                      array([1.11594529, 1.09845559, 0.11708892, 0.78532998, 0.80321408]),\n",
      "                      array([1.12912711, 1.11136621, 0.11785075, 0.79217505, 0.81033326]),\n",
      "                      array([1.14230892, 1.12427684, 0.11861259, 0.79902012, 0.81745244]),\n",
      "                      array([1.15548721, 1.13718738, 0.11935046, 0.80587127, 0.82457561]),\n",
      "                      array([1.1686655 , 1.15009792, 0.12008833, 0.81272243, 0.83169878]),\n",
      "                      array([1.18184379, 1.16300846, 0.1208262 , 0.81957358, 0.83882195])],\n",
      "    'times': [   0.0,\n",
      "                 0.01,\n",
      "                 0.02,\n",
      "                 0.03,\n",
      "                 0.04,\n",
      "                 0.05,\n",
      "                 0.06,\n",
      "                 0.07,\n",
      "                 0.08,\n",
      "                 0.09,\n",
      "                 0.1,\n",
      "                 0.11,\n",
      "                 0.12,\n",
      "                 0.13,\n",
      "                 0.14,\n",
      "                 0.15,\n",
      "                 0.16,\n",
      "                 0.17,\n",
      "                 0.18,\n",
      "                 0.19,\n",
      "                 0.2,\n",
      "                 0.21,\n",
      "                 0.22,\n",
      "                 0.23,\n",
      "                 0.24,\n",
      "                 0.25,\n",
      "                 0.26,\n",
      "                 0.27,\n",
      "                 0.28,\n",
      "                 0.29,\n",
      "                 0.3,\n",
      "                 0.31,\n",
      "                 0.32,\n",
      "                 0.33,\n",
      "                 0.34,\n",
      "                 0.35000000000000003,\n",
      "                 0.36,\n",
      "                 0.37,\n",
      "                 0.38,\n",
      "                 0.39,\n",
      "                 0.4,\n",
      "                 0.41000000000000003,\n",
      "                 0.42,\n",
      "                 0.43,\n",
      "                 0.44,\n",
      "                 0.45,\n",
      "                 0.46,\n",
      "                 0.47000000000000003,\n",
      "                 0.48,\n",
      "                 0.49,\n",
      "                 0.5,\n",
      "                 0.51,\n",
      "                 0.52,\n",
      "                 0.53,\n",
      "                 0.54,\n",
      "                 0.55,\n",
      "                 0.56,\n",
      "                 0.5700000000000001,\n",
      "                 0.58,\n",
      "                 0.59,\n",
      "                 0.6,\n",
      "                 0.61,\n",
      "                 0.62,\n",
      "                 0.63,\n",
      "                 0.64,\n",
      "                 0.65,\n",
      "                 0.66,\n",
      "                 0.67,\n",
      "                 0.68,\n",
      "                 0.6900000000000001,\n",
      "                 0.7000000000000001,\n",
      "                 0.71,\n",
      "                 0.72,\n",
      "                 0.73,\n",
      "                 0.74,\n",
      "                 0.75,\n",
      "                 0.76,\n",
      "                 0.77,\n",
      "                 0.78,\n",
      "                 0.79,\n",
      "                 0.8,\n",
      "                 0.81,\n",
      "                 0.8200000000000001,\n",
      "                 0.8300000000000001,\n",
      "                 0.84,\n",
      "                 0.85,\n",
      "                 0.86,\n",
      "                 0.87,\n",
      "                 0.88,\n",
      "                 0.89,\n",
      "                 0.9,\n",
      "                 0.91,\n",
      "                 0.92,\n",
      "                 0.93,\n",
      "                 0.9400000000000001,\n",
      "                 0.9500000000000001,\n",
      "                 0.96,\n",
      "                 0.97,\n",
      "                 0.98,\n",
      "                 0.99,\n",
      "                 1.0]}\n"
     ]
    }
   ],
   "source": [
    "result = pvqd.evolve(problem)\n",
    "print(result)"
   ]
  },
  {
   "cell_type": "markdown",
   "metadata": {},
   "source": [
    "Now we can have a look at the results, which are stored in a `PVQDResult` object. This class has the fields\n",
    "\n",
    "* `evolved_state`: The quantum circuit with the parameters at the final evolution time.\n",
    "* `times`: The timesteps of the time integration. At these times we have the parameter values and evaluated the observables.\n",
    "* `parameters`: The parameter values at each timestep.\n",
    "* `observables`: The observable values at each timestep.\n",
    "* `fidelities`: The fidelity of projecting the Trotter timestep onto the variational form at each timestep.\n",
    "* `estimated_error`: The estimated error as product of all fidelities."
   ]
  },
  {
   "cell_type": "markdown",
   "metadata": {},
   "source": [
    "The energy should be constant in a real time evolution. However, we are projecting the time-evolved state onto a variational form, which might violate this rule. Ideally the energy is still more or less constant. In this evolution here we observe shifts of ~5% of the energy."
   ]
  },
  {
   "cell_type": "code",
   "execution_count": 9,
   "metadata": {
    "execution": {
     "iopub.execute_input": "2024-01-12T15:14:18.468043Z",
     "iopub.status.busy": "2024-01-12T15:14:18.467832Z",
     "iopub.status.idle": "2024-01-12T15:14:18.650480Z",
     "shell.execute_reply": "2024-01-12T15:14:18.649806Z"
    }
   },
   "outputs": [
    {
     "data": {
      "text/plain": [
       "Text(0.5, 1.0, 'Energy over time')"
      ]
     },
     "execution_count": 9,
     "metadata": {},
     "output_type": "execute_result"
    },
    {
     "data": {
      "image/png": "[encoded data removed]",
      "text/plain": [
       "<Figure size 640x480 with 1 Axes>"
      ]
     },
     "metadata": {},
     "output_type": "display_data"
    }
   ],
   "source": [
    "import matplotlib.pyplot as plt\n",
    "\n",
    "energies = np.real(result.observables)[:, 0]\n",
    "\n",
    "plt.plot(result.times, energies, color=\"royalblue\")\n",
    "plt.xlabel(\"time $t$\")\n",
    "plt.ylabel(\"energy $E$\")\n",
    "plt.title(\"Energy over time\")"
   ]
  },
  {
   "cell_type": "markdown",
   "metadata": {},
   "source": [
    "Since we also kept track of the total magnetization of the system, we can plot that quantity too. However let's first compute exact reference values to verify our algorithm results."
   ]
  },
  {
   "cell_type": "code",
   "execution_count": 10,
   "metadata": {
    "execution": {
     "iopub.execute_input": "2024-01-12T15:14:18.653081Z",
     "iopub.status.busy": "2024-01-12T15:14:18.652709Z",
     "iopub.status.idle": "2024-01-12T15:14:18.657872Z",
     "shell.execute_reply": "2024-01-12T15:14:18.657217Z"
    }
   },
   "outputs": [],
   "source": [
    "import scipy as sc\n",
    "\n",
    "def exact(final_time, timestep, hamiltonian, initial_state):\n",
    "    \"\"\"Get the exact values for energy and the observable.\"\"\"\n",
    "    O = observable.to_matrix()\n",
    "    H = hamiltonian.to_matrix()\n",
    "\n",
    "    energ, magn = [], []  # list of energies and magnetizations evaluated at timesteps timestep\n",
    "    times = []  # list of timepoints at which energy/obs are evaluated\n",
    "    time = 0\n",
    "    while time <= final_time:\n",
    "        # get exact state at time t\n",
    "        exact_state = initial_state.evolve(sc.linalg.expm(-1j * time * H))\n",
    "        # store observables and time\n",
    "        times.append(time)\n",
    "        energ.append(exact_state.expectation_value(H).real)\n",
    "        magn.append(exact_state.expectation_value(observable).real)\n",
    "\n",
    "        # next timestep\n",
    "        time += timestep\n",
    "\n",
    "    return times, energ, magn"
   ]
  },
  {
   "cell_type": "code",
   "execution_count": 11,
   "metadata": {
    "execution": {
     "iopub.execute_input": "2024-01-12T15:14:18.660262Z",
     "iopub.status.busy": "2024-01-12T15:14:18.659901Z",
     "iopub.status.idle": "2024-01-12T15:14:18.694603Z",
     "shell.execute_reply": "2024-01-12T15:14:18.693852Z"
    }
   },
   "outputs": [
    {
     "name": "stderr",
     "output_type": "stream",
     "text": [
      "/tmp/ipykernel_8024/4229986699.py:3: DeprecationWarning: The method ``qiskit.circuit.quantumcircuit.QuantumCircuit.bind_parameters()`` is deprecated as of qiskit 0.45.0. It will be removed no earlier than 3 months after the release date. Use assign_parameters() instead\n",
      "  initial_state = Statevector(ansatz.bind_parameters(initial_parameters))\n"
     ]
    }
   ],
   "source": [
    "from qiskit.quantum_info import Statevector\n",
    "\n",
    "initial_state = Statevector(ansatz.bind_parameters(initial_parameters))\n",
    "exact_times, exact_energies, exact_magnetizations = exact(final_time, 0.01, hamiltonian, initial_state)"
   ]
  },
  {
   "cell_type": "code",
   "execution_count": 12,
   "metadata": {
    "execution": {
     "iopub.execute_input": "2024-01-12T15:14:18.697838Z",
     "iopub.status.busy": "2024-01-12T15:14:18.697551Z",
     "iopub.status.idle": "2024-01-12T15:14:18.931778Z",
     "shell.execute_reply": "2024-01-12T15:14:18.931177Z"
    }
   },
   "outputs": [
    {
     "data": {
      "text/plain": [
       "<matplotlib.legend.Legend at 0x7fc6e06a7970>"
      ]
     },
     "execution_count": 12,
     "metadata": {},
     "output_type": "execute_result"
    },
    {
     "data": {
      "image/png": "[encoded data removed]",
      "text/plain": [
       "<Figure size 640x480 with 1 Axes>"
      ]
     },
     "metadata": {},
     "output_type": "display_data"
    }
   ],
   "source": [
    "magnetizations = np.real(result.observables)[:, 1]\n",
    "\n",
    "plt.plot(result.times, magnetizations.real, color=\"crimson\", label=\"PVQD\")\n",
    "plt.plot(exact_times, exact_magnetizations, \":\", color=\"k\", label=\"Exact\")\n",
    "plt.xlabel(\"time $t$\")\n",
    "plt.ylabel(r\"magnetization $\\langle Z_1 Z_2 \\rangle$\")\n",
    "plt.title(\"Magnetization over time\")\n",
    "plt.legend(loc=\"best\")"
   ]
  },
  {
   "cell_type": "markdown",
   "metadata": {},
   "source": [
    "Looks pretty good!"
   ]
  },
  {
   "cell_type": "markdown",
   "metadata": {},
   "source": [
    "### Gradient-based optimizations\n",
    "\n",
    "The `PVQD` class also implements parameter-shift gradients for the loss function and we can use a gradient descent optimization routine\n",
    "\n",
    "$$\n",
    "    \\theta_{k+1} = \\theta_{k} - \\eta_k \\nabla\\ell(\\theta_k).\n",
    "$$\n",
    "\n",
    "Here we're using a learning rate of\n",
    "\n",
    "$$\n",
    "    \\eta_k = 0.1 k^{-0.602}\n",
    "$$\n",
    "and 80 optimization steps in each timestep."
   ]
  },
  {
   "cell_type": "code",
   "execution_count": 13,
   "metadata": {
    "execution": {
     "iopub.execute_input": "2024-01-12T15:14:18.934423Z",
     "iopub.status.busy": "2024-01-12T15:14:18.934020Z",
     "iopub.status.idle": "2024-01-12T15:14:18.937559Z",
     "shell.execute_reply": "2024-01-12T15:14:18.936959Z"
    },
    "scrolled": true
   },
   "outputs": [],
   "source": [
    "from qiskit_algorithms.optimizers import GradientDescent\n",
    "\n",
    "maxiter = 80\n",
    "learning_rate = 0.1 * np.arange(1, maxiter + 1) ** (-0.602)\n",
    "gd = GradientDescent(maxiter, lambda: iter(learning_rate))"
   ]
  },
  {
   "cell_type": "code",
   "execution_count": 14,
   "metadata": {
    "execution": {
     "iopub.execute_input": "2024-01-12T15:14:18.940032Z",
     "iopub.status.busy": "2024-01-12T15:14:18.939665Z",
     "iopub.status.idle": "2024-01-12T15:14:18.942608Z",
     "shell.execute_reply": "2024-01-12T15:14:18.941979Z"
    }
   },
   "outputs": [],
   "source": [
    "pvqd.optimizer = gd"
   ]
  },
  {
   "cell_type": "markdown",
   "metadata": {},
   "source": [
    "The following cell would take a few minutes to run for 100 timesteps, so we reduce them here."
   ]
  },
  {
   "cell_type": "code",
   "execution_count": 15,
   "metadata": {
    "execution": {
     "iopub.execute_input": "2024-01-12T15:14:18.945066Z",
     "iopub.status.busy": "2024-01-12T15:14:18.944703Z",
     "iopub.status.idle": "2024-01-12T15:14:18.947600Z",
     "shell.execute_reply": "2024-01-12T15:14:18.946989Z"
    }
   },
   "outputs": [],
   "source": [
    "n = 10\n",
    "pvqd.num_timesteps = n\n",
    "problem.time = 0.1"
   ]
  },
  {
   "cell_type": "code",
   "execution_count": 16,
   "metadata": {
    "execution": {
     "iopub.execute_input": "2024-01-12T15:14:18.950045Z",
     "iopub.status.busy": "2024-01-12T15:14:18.949665Z",
     "iopub.status.idle": "2024-01-12T15:14:38.818507Z",
     "shell.execute_reply": "2024-01-12T15:14:38.817911Z"
    }
   },
   "outputs": [],
   "source": [
    "result_gd = pvqd.evolve(problem)"
   ]
  },
  {
   "cell_type": "code",
   "execution_count": 17,
   "metadata": {
    "execution": {
     "iopub.execute_input": "2024-01-12T15:14:38.821449Z",
     "iopub.status.busy": "2024-01-12T15:14:38.821040Z",
     "iopub.status.idle": "2024-01-12T15:14:39.014737Z",
     "shell.execute_reply": "2024-01-12T15:14:39.014082Z"
    }
   },
   "outputs": [
    {
     "data": {
      "text/plain": [
       "Text(0.5, 1.0, 'Energy over time')"
      ]
     },
     "execution_count": 17,
     "metadata": {},
     "output_type": "execute_result"
    },
    {
     "data": {
      "image/png": "[encoded data removed]",
      "text/plain": [
       "<Figure size 640x480 with 1 Axes>"
      ]
     },
     "metadata": {},
     "output_type": "display_data"
    }
   ],
   "source": [
    "energies_gd = np.real(result_gd.observables)[:, 0]\n",
    "\n",
    "plt.plot(result.times[:n + 1], energies[:n + 1], \"-\", color=\"royalblue\", label=\"BFGS\")\n",
    "plt.plot(result_gd.times, energies_gd, \"--\", color=\"royalblue\", label=\"Gradient descent\")\n",
    "plt.plot(exact_times[:n + 1], exact_energies[:n + 1], \":\", color=\"k\", label=\"Exact\")\n",
    "plt.legend(loc=\"best\")\n",
    "plt.xlabel(\"time $t$\")\n",
    "plt.ylabel(\"energy $E$\")\n",
    "plt.title(\"Energy over time\")"
   ]
  },
  {
   "cell_type": "markdown",
   "metadata": {},
   "source": [
    "We can observe here, that the energy does vary quite a bit! But as we mentioned before, p-VQD does not preserve the energy."
   ]
  },
  {
   "cell_type": "code",
   "execution_count": 18,
   "metadata": {
    "execution": {
     "iopub.execute_input": "2024-01-12T15:14:39.017329Z",
     "iopub.status.busy": "2024-01-12T15:14:39.016954Z",
     "iopub.status.idle": "2024-01-12T15:14:39.255998Z",
     "shell.execute_reply": "2024-01-12T15:14:39.255328Z"
    },
    "tags": [
     "nbsphinx-thumbnail"
    ]
   },
   "outputs": [
    {
     "data": {
      "text/plain": [
       "Text(0.5, 1.0, 'Magnetization over time')"
      ]
     },
     "execution_count": 18,
     "metadata": {},
     "output_type": "execute_result"
    },
    {
     "data": {
      "image/png": "[encoded data removed]",
      "text/plain": [
       "<Figure size 640x480 with 1 Axes>"
      ]
     },
     "metadata": {},
     "output_type": "display_data"
    }
   ],
   "source": [
    "magnetizations_gd = np.real(result_gd.observables)[:, 1]\n",
    "\n",
    "plt.plot(result.times[:n + 1], magnetizations[:n + 1], \"-\", color=\"crimson\", label=\"BFGS\")\n",
    "plt.plot(result_gd.times, magnetizations_gd, \"--\", color=\"crimson\", label=\"Gradient descent\")\n",
    "plt.plot(exact_times[:n + 1], exact_magnetizations[:n + 1], \":\", color=\"k\", label=\"Exact\")\n",
    "plt.legend(loc=\"best\")\n",
    "plt.xlabel(\"time $t$\")\n",
    "plt.ylabel(r\"magnetization $\\langle Z_1 + Z_2 \\rangle$\")\n",
    "plt.title(\"Magnetization over time\")"
   ]
  },
  {
   "cell_type": "markdown",
   "metadata": {},
   "source": [
    "The magnetization, however, is computed very precisely."
   ]
  },
  {
   "cell_type": "code",
   "execution_count": 19,
   "metadata": {
    "execution": {
     "iopub.execute_input": "2024-01-12T15:14:39.258491Z",
     "iopub.status.busy": "2024-01-12T15:14:39.258287Z",
     "iopub.status.idle": "2024-01-12T15:14:39.427859Z",
     "shell.execute_reply": "2024-01-12T15:14:39.427131Z"
    }
   },
   "outputs": [
    {
     "data": {
      "text/html": [
       "<h3>Version Information</h3><table><tr><th>Software</th><th>Version</th></tr><tr><td><code>qiskit</code></td><td>0.45.1</td></tr><tr><td><code>qiskit_aer</code></td><td>0.13.1</td></tr><tr><td><code>qiskit_algorithms</code></td><td>0.2.1</td></tr><tr><th colspan='2'>System information</th></tr><tr><td>Python version</td><td>3.8.18</td></tr><tr><td>Python compiler</td><td>GCC 11.4.0</td></tr><tr><td>Python build</td><td>default, Aug 28 2023 08:27:22</td></tr><tr><td>OS</td><td>Linux</td></tr><tr><td>CPUs</td><td>2</td></tr><tr><td>Memory (Gb)</td><td>15.606903076171875</td></tr><tr><td colspan='2'>Fri Jan 12 15:14:39 2024 UTC</td></tr></table>"
      ],
      "text/plain": [
       "<IPython.core.display.HTML object>"
      ]
     },
     "metadata": {},
     "output_type": "display_data"
    },
    {
     "data": {
      "text/html": [
       "<div style='width: 100%; background-color:#d5d9e0;padding-left: 10px; padding-bottom: 10px; padding-right: 10px; padding-top: 5px'><h3>This code is a part of Qiskit</h3><p>&copy; Copyright IBM 2017, 2024.</p><p>This code is licensed under the Apache License, Version 2.0. You may<br>obtain a copy of this license in the LICENSE.txt file in the root directory<br> of this source tree or at http://www.apache.org/licenses/LICENSE-2.0.<p>Any modifications or derivative works of this code must retain this<br>copyright notice, and modified files need to carry a notice indicating<br>that they have been altered from the originals.</p></div>"
      ],
      "text/plain": [
       "<IPython.core.display.HTML object>"
      ]
     },
     "metadata": {},
     "output_type": "display_data"
    }
   ],
   "source": [
    "import qiskit.tools.jupyter\n",
    "%qiskit_version_table\n",
    "%qiskit_copyright\n"
   ]
  }
 ],
 "metadata": {
  "celltoolbar": "Edit Metadata",
  "kernelspec": {
   "display_name": "Python 3",
   "language": "python",
   "name": "python3"
  },
  "language_info": {
   "codemirror_mode": {
    "name": "ipython",
    "version": 3
   },
   "file_extension": ".py",
   "mimetype": "text/x-python",
   "name": "python",
   "nbconvert_exporter": "python",
   "pygments_lexer": "ipython3",
   "version": "3.8.18"
  },
  "widgets": {
   "application/vnd.jupyter.widget-state+json": {
    "state": {
     "92386ed442634f318b242765f7fd4e88": {
      "model_module": "@jupyter-widgets/controls",
      "model_module_version": "2.0.0",
      "model_name": "HTMLModel",
      "state": {
       "_dom_classes": [],
       "_model_module": "@jupyter-widgets/controls",
       "_model_module_version": "2.0.0",
       "_model_name": "HTMLModel",
       "_view_count": null,
       "_view_module": "@jupyter-widgets/controls",
       "_view_module_version": "2.0.0",
       "_view_name": "HTMLView",
       "description": "",
       "description_allow_html": false,
       "layout": "IPY_MODEL_f2175f9f0de449b2bb80a49b0b4c9c8a",
       "placeholder": "​",
       "style": "IPY_MODEL_f9bb3908378c437f8300ab763f3911ae",
       "tabbable": null,
       "tooltip": null,
       "value": "<p style='font-family: IBM Plex Sans, Arial, Helvetica, sans-serif; font-size: 20px; font-weight: medium;'>Circuit Properties</p>"
      }
     },
     "f2175f9f0de449b2bb80a49b0b4c9c8a": {
      "model_module": "@jupyter-widgets/base",
      "model_module_version": "2.0.0",
      "model_name": "LayoutModel",
      "state": {
       "_model_module": "@jupyter-widgets/base",
       "_model_module_version": "2.0.0",
       "_model_name": "LayoutModel",
       "_view_count": null,
       "_view_module": "@jupyter-widgets/base",
       "_view_module_version": "2.0.0",
       "_view_name": "LayoutView",
       "align_content": null,
       "align_items": null,
       "align_self": null,
       "border_bottom": null,
       "border_left": null,
       "border_right": null,
       "border_top": null,
       "bottom": null,
       "display": null,
       "flex": null,
       "flex_flow": null,
       "grid_area": null,
       "grid_auto_columns": null,
       "grid_auto_flow": null,
       "grid_auto_rows": null,
       "grid_column": null,
       "grid_gap": null,
       "grid_row": null,
       "grid_template_areas": null,
       "grid_template_columns": null,
       "grid_template_rows": null,
       "height": null,
       "justify_content": null,
       "justify_items": null,
       "left": null,
       "margin": "0px 0px 10px 0px",
       "max_height": null,
       "max_width": null,
       "min_height": null,
       "min_width": null,
       "object_fit": null,
       "object_position": null,
       "order": null,
       "overflow": null,
       "padding": null,
       "right": null,
       "top": null,
       "visibility": null,
       "width": null
      }
     },
     "f9bb3908378c437f8300ab763f3911ae": {
      "model_module": "@jupyter-widgets/controls",
      "model_module_version": "2.0.0",
      "model_name": "HTMLStyleModel",
      "state": {
       "_model_module": "@jupyter-widgets/controls",
       "_model_module_version": "2.0.0",
       "_model_name": "HTMLStyleModel",
       "_view_count": null,
       "_view_module": "@jupyter-widgets/base",
       "_view_module_version": "2.0.0",
       "_view_name": "StyleView",
       "background": null,
       "description_width": "",
       "font_size": null,
       "text_color": null
      }
     }
    },
    "version_major": 2,
    "version_minor": 0
   }
  }
 },
 "nbformat": 4,
 "nbformat_minor": 4
}
