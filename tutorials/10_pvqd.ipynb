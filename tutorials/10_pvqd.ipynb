{
 "cells": [
  {
   "cell_type": "markdown",
   "metadata": {},
   "source": [
    "# Projected Variational Quantum Dynamics\n",
    "\n",
    "The projected Variational Quantum Dynamics (p-VQD) algorithm is a quantum algorithm for real time evolution. It's a variational algorithm that projects the state at time $t + \\Delta_t$, as calculated with Trotterization, onto a parameterized quantum circuit.\n",
    "\n",
    "For a quantum state $|\\phi(\\theta)\\rangle = U(\\theta)|0\\rangle$ constructed by a parameterized quantum circuit $U(\\theta)$ and a Hamiltonian $H$, the update rule can be written as\n",
    "\n",
    "$$\n",
    "\\theta_{n+1} = \\theta_n + \\arg\\min_{\\delta\\theta} 1 - |\\langle\\phi(\\theta_n + \\delta\\theta)|e^{-i\\Delta_t H}|\\phi(\\theta_n)\\rangle|^2,\n",
    "$$\n",
    "\n",
    "where $e^{-i\\Delta_t H}$ is calculated with a Trotter expansion (using e.g. the [PauliEvolutionGate](https://docs.quantum.ibm.com/api/qiskit/qiskit.circuit.library.PauliEvolutionGate) in Qiskit!).\n",
    "\n",
    "The following tutorial explores the p-VQD algorithm, which is available as the [PVQD](https://qiskit-community.github.io/qiskit-algorithms/stubs/qiskit_algorithms.PVQD.html) class. For details on the algorithm, see the original paper: [Barison et al. Quantum 5, 512 (2021)](https://quantum-journal.org/papers/q-2021-07-28-512/#)."
   ]
  },
  {
   "cell_type": "markdown",
   "metadata": {},
   "source": [
    "The example we're looking at is the time evolution of the $|00\\rangle$ state under the Hamiltonian\n",
    "\n",
    "$$\n",
    "    H = 0.1 Z_1 Z_2 + X_1 + X_2,\n",
    "$$\n",
    "\n",
    "which is an Ising Hamiltonian on two neighboring spins, up to a time $T=1$, where we want to keep track of the total magnetization $M = Z_1 + Z_2$ as an observable."
   ]
  },
  {
   "cell_type": "code",
   "execution_count": 1,
   "metadata": {
    "execution": {
     "iopub.execute_input": "2024-02-19T12:18:28.208228Z",
     "iopub.status.busy": "2024-02-19T12:18:28.208035Z",
     "iopub.status.idle": "2024-02-19T12:18:28.527591Z",
     "shell.execute_reply": "2024-02-19T12:18:28.526848Z"
    }
   },
   "outputs": [],
   "source": [
    "from qiskit.quantum_info import SparsePauliOp\n",
    "\n",
    "final_time = 1\n",
    "hamiltonian = SparsePauliOp.from_sparse_list(\n",
    "    [\n",
    "        (\"ZZ\", [0, 1], 0.1),\n",
    "        (\"X\", [0], 1),\n",
    "        (\"X\", [1], 1),\n",
    "    ],\n",
    "    num_qubits=2,\n",
    ")\n",
    "observable = SparsePauliOp([\"ZI\", \"IZ\"])"
   ]
  },
  {
   "cell_type": "markdown",
   "metadata": {},
   "source": [
    "After defining our Hamiltonian and observable, we need to choose the parameterized ansatz we project the update steps onto. We have different choices here, but for real time evolution an ansatz that contains building blocks of the evolved Hamiltonian usually performs very well."
   ]
  },
  {
   "cell_type": "code",
   "execution_count": 2,
   "metadata": {
    "execution": {
     "iopub.execute_input": "2024-02-19T12:18:28.531367Z",
     "iopub.status.busy": "2024-02-19T12:18:28.530697Z",
     "iopub.status.idle": "2024-02-19T12:18:29.280265Z",
     "shell.execute_reply": "2024-02-19T12:18:29.279585Z"
    }
   },
   "outputs": [
    {
     "data": {
      "image/png": "[encoded data removed]",
      "text/plain": [
       "<Figure size 454.517x200.667 with 1 Axes>"
      ]
     },
     "execution_count": 2,
     "metadata": {},
     "output_type": "execute_result"
    }
   ],
   "source": [
    "from qiskit.circuit import QuantumCircuit, ParameterVector\n",
    "\n",
    "theta = ParameterVector(\"th\", 5)\n",
    "ansatz = QuantumCircuit(2)\n",
    "ansatz.rx(theta[0], 0)\n",
    "ansatz.rx(theta[1], 1)\n",
    "ansatz.rzz(theta[2], 0, 1)\n",
    "ansatz.rx(theta[3], 0)\n",
    "ansatz.rx(theta[4], 1)\n",
    "\n",
    "# you can try different circuits, like:\n",
    "# from qiskit.circuit.library import EfficientSU2\n",
    "# ansatz = EfficientSU2(2, reps=1)\n",
    "\n",
    "ansatz.draw(\"mpl\", style=\"clifford\")"
   ]
  },
  {
   "cell_type": "markdown",
   "metadata": {},
   "source": [
    "With this ansatz, the $|00\\rangle$ state is prepared if all parameters are 0. Hence we'll set the initial parameters to $\\theta_0 = 0$:"
   ]
  },
  {
   "cell_type": "code",
   "execution_count": 3,
   "metadata": {
    "execution": {
     "iopub.execute_input": "2024-02-19T12:18:29.283122Z",
     "iopub.status.busy": "2024-02-19T12:18:29.282857Z",
     "iopub.status.idle": "2024-02-19T12:18:29.285917Z",
     "shell.execute_reply": "2024-02-19T12:18:29.285348Z"
    }
   },
   "outputs": [],
   "source": [
    "import numpy as np\n",
    "\n",
    "initial_parameters = np.zeros(ansatz.num_parameters)"
   ]
  },
  {
   "cell_type": "markdown",
   "metadata": {},
   "source": [
    "Before running the p-VQD algorithm, we need to select the backend and how we want to calculate the expectation values. Here, we'll perform exact statevector simulations (which are still very fast, as we investigate a 2 qubit system) through the reference primitive implementations found in `qiskit.primitives`."
   ]
  },
  {
   "cell_type": "code",
   "execution_count": 4,
   "metadata": {
    "execution": {
     "iopub.execute_input": "2024-02-19T12:18:29.288218Z",
     "iopub.status.busy": "2024-02-19T12:18:29.288017Z",
     "iopub.status.idle": "2024-02-19T12:18:29.568084Z",
     "shell.execute_reply": "2024-02-19T12:18:29.567344Z"
    }
   },
   "outputs": [],
   "source": [
    "from qiskit.primitives import Sampler, Estimator\n",
    "from qiskit_algorithms.state_fidelities import ComputeUncompute\n",
    "\n",
    "# the fidelity is used to evaluate the objective: the overlap of the variational form and the trotter step\n",
    "sampler = Sampler()\n",
    "fidelity = ComputeUncompute(sampler)\n",
    "\n",
    "# the estimator is used to evaluate the observables\n",
    "estimator = Estimator()"
   ]
  },
  {
   "cell_type": "markdown",
   "metadata": {},
   "source": [
    "Since p-VQD performs a classical optimization in each timestep to determine the best parameters for the projection, we also have to specify the classical optimizer. As a first example we're using BFGS, which typically works well in statevector simulations, but later we can switch to gradient descent."
   ]
  },
  {
   "cell_type": "code",
   "execution_count": 5,
   "metadata": {
    "execution": {
     "iopub.execute_input": "2024-02-19T12:18:29.571339Z",
     "iopub.status.busy": "2024-02-19T12:18:29.570867Z",
     "iopub.status.idle": "2024-02-19T12:18:29.573991Z",
     "shell.execute_reply": "2024-02-19T12:18:29.573389Z"
    }
   },
   "outputs": [],
   "source": [
    "from qiskit_algorithms.optimizers import L_BFGS_B\n",
    "\n",
    "bfgs = L_BFGS_B()"
   ]
  },
  {
   "cell_type": "markdown",
   "metadata": {},
   "source": [
    "Now we can define p-VQD and execute it!"
   ]
  },
  {
   "cell_type": "code",
   "execution_count": 6,
   "metadata": {
    "execution": {
     "iopub.execute_input": "2024-02-19T12:18:29.576580Z",
     "iopub.status.busy": "2024-02-19T12:18:29.576186Z",
     "iopub.status.idle": "2024-02-19T12:18:29.579353Z",
     "shell.execute_reply": "2024-02-19T12:18:29.578723Z"
    }
   },
   "outputs": [],
   "source": [
    "from qiskit_algorithms import PVQD\n",
    "\n",
    "pvqd = PVQD(\n",
    "    fidelity, ansatz, initial_parameters, estimator=estimator, num_timesteps=100, optimizer=bfgs\n",
    ")"
   ]
  },
  {
   "cell_type": "markdown",
   "metadata": {},
   "source": [
    "The p-VQD implementation follows Qiskit's time evolution interface, thus we pack all information of the evolution problem into an input class: the `hamiltonian` under which we evolve the state, the `final_time` of the evolution and the observables (`aux_operators`) we keep track of."
   ]
  },
  {
   "cell_type": "code",
   "execution_count": 7,
   "metadata": {
    "execution": {
     "iopub.execute_input": "2024-02-19T12:18:29.581721Z",
     "iopub.status.busy": "2024-02-19T12:18:29.581362Z",
     "iopub.status.idle": "2024-02-19T12:18:29.584599Z",
     "shell.execute_reply": "2024-02-19T12:18:29.583969Z"
    }
   },
   "outputs": [],
   "source": [
    "from qiskit_algorithms import TimeEvolutionProblem\n",
    "\n",
    "problem = TimeEvolutionProblem(\n",
    "    hamiltonian, time=final_time, aux_operators=[hamiltonian, observable]\n",
    ")"
   ]
  },
  {
   "cell_type": "markdown",
   "metadata": {},
   "source": [
    "And then run the algorithm!"
   ]
  },
  {
   "cell_type": "code",
   "execution_count": 8,
   "metadata": {
    "execution": {
     "iopub.execute_input": "2024-02-19T12:18:29.587168Z",
     "iopub.status.busy": "2024-02-19T12:18:29.586697Z",
     "iopub.status.idle": "2024-02-19T12:18:36.122710Z",
     "shell.execute_reply": "2024-02-19T12:18:36.121984Z"
    }
   },
   "outputs": [
    {
     "name": "stdout",
     "output_type": "stream",
     "text": [
      "{   'aux_ops_evaluated': array([ 0.10680874, -0.82395076]),\n",
      "    'estimated_error': 1.2141100973472874e-06,\n",
      "    'evolved_state': <qiskit.circuit.quantumcircuit.QuantumCircuit object at 0x7f5939776730>,\n",
      "    'fidelities': [   1.0,\n",
      "                      0.9999999983290364,\n",
      "                      0.999999991084008,\n",
      "                      0.9999999781161836,\n",
      "                      0.9999999999499158,\n",
      "                      0.9999999984116914,\n",
      "                      0.9999999933541682,\n",
      "                      0.9999999991633746,\n",
      "                      0.9999999982103234,\n",
      "                      0.9999999968509325,\n",
      "                      0.9999999995288557,\n",
      "                      0.9999999994311378,\n",
      "                      0.9999999993194492,\n",
      "                      0.9999999991942896,\n",
      "                      0.9999999990561018,\n",
      "                      0.9999999989052418,\n",
      "                      0.999999998741947,\n",
      "                      0.999999998566298,\n",
      "                      0.9999999985455444,\n",
      "                      0.9999999983514714,\n",
      "                      0.9999999981442074,\n",
      "                      0.9999999979228298,\n",
      "                      0.9999999976860978,\n",
      "                      0.999999997432429,\n",
      "                      0.9999999971598728,\n",
      "                      0.999999996866095,\n",
      "                      0.9999999965483622,\n",
      "                      0.9999999962035262,\n",
      "                      0.9999999958280242,\n",
      "                      0.9999999954178768,\n",
      "                      0.9999999949686882,\n",
      "                      0.9999999944756616,\n",
      "                      0.999999993933608,\n",
      "                      0.9999999933369744,\n",
      "                      0.999999992679864,\n",
      "                      0.9999999922095282,\n",
      "                      0.9999999917580507,\n",
      "                      0.9999999910257236,\n",
      "                      0.9999999904913706,\n",
      "                      0.999999989984747,\n",
      "                      0.9999999891875772,\n",
      "                      0.9999999885733386,\n",
      "                      0.9999999879947514,\n",
      "                      0.9999999871407206,\n",
      "                      0.9999999864449718,\n",
      "                      0.9999999857893276,\n",
      "                      0.999999984883683,\n",
      "                      0.9999999841230214,\n",
      "                      0.9999999834022832,\n",
      "                      0.9999999824502492,\n",
      "                      0.9999999816551483,\n",
      "                      0.9999999808946184,\n",
      "                      0.9999999799075222,\n",
      "                      0.9999999791146084,\n",
      "                      0.9999999783447062,\n",
      "                      0.999999977344216,\n",
      "                      0.9999999765916422,\n",
      "                      0.9999999758448036,\n",
      "                      0.9999999750642476,\n",
      "                      0.9999999741004199,\n",
      "                      0.9999999737282182,\n",
      "                      0.9999999729391292,\n",
      "                      0.9999999721135407,\n",
      "                      0.9999999712502682,\n",
      "                      0.9999999709198854,\n",
      "                      0.9999999702187095,\n",
      "                      0.9999999694930533,\n",
      "                      0.9999999694795844,\n",
      "                      0.9999999689870264,\n",
      "                      0.999999968485997,\n",
      "                      0.9999999687657882,\n",
      "                      0.9999999685162237,\n",
      "                      0.9999999682737102,\n",
      "                      0.99999996803964,\n",
      "                      0.999999968635055,\n",
      "                      0.9999999686861594,\n",
      "                      0.999999968759524,\n",
      "                      0.9999999688563568,\n",
      "                      0.999999995576646,\n",
      "                      0.9999999959910558,\n",
      "                      0.9999999963663022,\n",
      "                      0.9999999966905952,\n",
      "                      0.9999999969508988,\n",
      "                      0.9999999971328576,\n",
      "                      0.999999997390808,\n",
      "                      0.9999999974047714,\n",
      "                      0.9999999972939164,\n",
      "                      0.999999997038513,\n",
      "                      0.9999999966172564,\n",
      "                      0.9999999960072212,\n",
      "                      0.999999995183825,\n",
      "                      0.9999999941208008,\n",
      "                      0.999999992790179,\n",
      "                      0.9999999913878151,\n",
      "                      0.9999999895108448,\n",
      "                      0.9999999872831846,\n",
      "                      0.9999999846710532,\n",
      "                      0.9999999816390795,\n",
      "                      0.9999999781503592,\n",
      "                      0.9999999994488756,\n",
      "                      0.9999999990590857],\n",
      "    'observables': [   array([0.1, 2. ]),\n",
      "                       array([0.10007531, 1.99960001]),\n",
      "                       array([0.10030117, 1.99840025]),\n",
      "                       array([0.10067738, 1.99640126]),\n",
      "                       array([0.10064488, 1.99360378]),\n",
      "                       array([0.10049375, 1.99000894]),\n",
      "                       array([0.10022454, 1.98561816]),\n",
      "                       array([0.10011484, 1.9804293 ]),\n",
      "                       array([0.099965  , 1.97444727]),\n",
      "                       array([0.0997756 , 1.96767449]),\n",
      "                       array([0.099726  , 1.96012541]),\n",
      "                       array([0.09967284, 1.95179378]),\n",
      "                       array([0.09961662, 1.94268297]),\n",
      "                       array([0.09955789, 1.9327967 ]),\n",
      "                       array([0.09949725, 1.922139  ]),\n",
      "                       array([0.09943533, 1.9107142 ]),\n",
      "                       array([0.09937282, 1.89852695]),\n",
      "                       array([0.09931041, 1.88558221]),\n",
      "                       array([0.09924937, 1.871874  ]),\n",
      "                       array([0.09919001, 1.85741795]),\n",
      "                       array([0.09913315, 1.84221996]),\n",
      "                       array([0.09907962, 1.82628623]),\n",
      "                       array([0.09903027, 1.80962325]),\n",
      "                       array([0.09898598, 1.79223781]),\n",
      "                       array([0.09894766, 1.774137  ]),\n",
      "                       array([0.09891621, 1.7553282 ]),\n",
      "                       array([0.09889256, 1.73581908]),\n",
      "                       array([0.09887766, 1.71561758]),\n",
      "                       array([0.09887244, 1.69473195]),\n",
      "                       array([0.09887786, 1.67317068]),\n",
      "                       array([0.09889487, 1.65094258]),\n",
      "                       array([0.09892442, 1.62805669]),\n",
      "                       array([0.09896745, 1.60452235]),\n",
      "                       array([0.0990249 , 1.58034914]),\n",
      "                       array([0.0990977 , 1.55554691]),\n",
      "                       array([0.09917184, 1.53010209]),\n",
      "                       array([0.09924015, 1.50407027]),\n",
      "                       array([0.09932493, 1.47744034]),\n",
      "                       array([0.09941187, 1.45019709]),\n",
      "                       array([0.09949002, 1.42240017]),\n",
      "                       array([0.09958575, 1.39403817]),\n",
      "                       array([0.09968526, 1.36509564]),\n",
      "                       array([0.09977445, 1.33563342]),\n",
      "                       array([0.09988238, 1.30564114]),\n",
      "                       array([0.09999582, 1.27510391]),\n",
      "                       array([0.10009954, 1.24408271]),\n",
      "                       array([0.10022321, 1.21256835]),\n",
      "                       array([0.10035337, 1.18054625]),\n",
      "                       array([0.10047624, 1.14807877]),\n",
      "                       array([0.10062022, 1.11515683]),\n",
      "                       array([0.10077026, 1.0817649 ]),\n",
      "                       array([0.10091599, 1.04796915]),\n",
      "                       array([0.10108386, 1.01375929]),\n",
      "                       array([0.10125581, 0.97911774]),\n",
      "                       array([0.1014262 , 0.94411614]),\n",
      "                       array([0.1016195 , 0.90874227]),\n",
      "                       array([0.10181378, 0.87297619]),\n",
      "                       array([0.10200887, 0.83689527]),\n",
      "                       array([0.1022125 , 0.80045523]),\n",
      "                       array([0.10243962, 0.76370026]),\n",
      "                       array([0.10262891, 0.72664477]),\n",
      "                       array([0.10284138, 0.689304  ]),\n",
      "                       array([0.10307714, 0.65169307]),\n",
      "                       array([0.10333625, 0.61382721]),\n",
      "                       array([0.1035678 , 0.57573237]),\n",
      "                       array([0.10382222, 0.53741325]),\n",
      "                       array([0.10409939, 0.49888532]),\n",
      "                       array([0.10434066, 0.46015306]),\n",
      "                       array([0.10460392, 0.42124284]),\n",
      "                       array([0.10488885, 0.38217039]),\n",
      "                       array([0.1051401 , 0.34294924]),\n",
      "                       array([0.10541196, 0.30359719]),\n",
      "                       array([0.10570393, 0.26413011]),\n",
      "                       array([0.10601541, 0.22456394]),\n",
      "                       array([0.10629001, 0.18490413]),\n",
      "                       array([0.10658275, 0.14517685]),\n",
      "                       array([0.10689283, 0.10539813]),\n",
      "                       array([0.10721938, 0.06558399]),\n",
      "                       array([0.10736647, 0.02573808]),\n",
      "                       array([ 0.10750817, -0.0141121 ]),\n",
      "                       array([ 0.10764324, -0.0539505 ]),\n",
      "                       array([ 0.10777038, -0.0937611 ]),\n",
      "                       array([ 0.10788824, -0.13352788]),\n",
      "                       array([ 0.10799541, -0.17323484]),\n",
      "                       array([ 0.10806639, -0.21286533]),\n",
      "                       array([ 0.1081242 , -0.25240425]),\n",
      "                       array([ 0.10816736, -0.29183572]),\n",
      "                       array([ 0.10819429, -0.33114387]),\n",
      "                       array([ 0.10820341, -0.3703129 ]),\n",
      "                       array([ 0.10819306, -0.40932708]),\n",
      "                       array([ 0.10816156, -0.44817073]),\n",
      "                       array([ 0.10810721, -0.48682822]),\n",
      "                       array([ 0.10802825, -0.52528404]),\n",
      "                       array([ 0.10790345, -0.56354577]),\n",
      "                       array([ 0.10775132, -0.60157491]),\n",
      "                       array([ 0.10757007, -0.63935618]),\n",
      "                       array([ 0.10735789, -0.6768744 ]),\n",
      "                       array([ 0.10711297, -0.71411448]),\n",
      "                       array([ 0.10683346, -0.75106146]),\n",
      "                       array([ 0.10683096, -0.78766755]),\n",
      "                       array([ 0.10680874, -0.82395076])],\n",
      "    'parameters': [   array([0., 0., 0., 0., 0.]),\n",
      "                      array([0.01272394, 0.01098577, 0.00486367, 0.00727608, 0.00901425]),\n",
      "                      array([0.02544788, 0.02197155, 0.00972735, 0.01455217, 0.01802849]),\n",
      "                      array([0.03817183, 0.03295732, 0.01459102, 0.02182825, 0.02704274]),\n",
      "                      array([0.05025283, 0.04342218, 0.01372189, 0.02974659, 0.0365774 ]),\n",
      "                      array([0.06233383, 0.05388704, 0.01285275, 0.03766493, 0.04611206]),\n",
      "                      array([0.07441483, 0.06435191, 0.01198361, 0.04558326, 0.05564672]),\n",
      "                      array([0.08656151, 0.07488363, 0.01283024, 0.05345271, 0.06512705]),\n",
      "                      array([0.09870819, 0.08541535, 0.01367687, 0.06132216, 0.07460737]),\n",
      "                      array([0.11085487, 0.09594707, 0.0145235 , 0.06919161, 0.08408769]),\n",
      "                      array([0.12300515, 0.10649917, 0.01614925, 0.07702397, 0.09352338]),\n",
      "                      array([0.13515542, 0.11705127, 0.01777499, 0.08485633, 0.10295908]),\n",
      "                      array([0.14730569, 0.12760338, 0.01940074, 0.0926887 , 0.11239477]),\n",
      "                      array([0.15945596, 0.13815548, 0.02102648, 0.10052106, 0.12183046]),\n",
      "                      array([0.17160623, 0.14870759, 0.02265223, 0.10835342, 0.13126615]),\n",
      "                      array([0.1837565 , 0.15925969, 0.02427797, 0.11618578, 0.14070185]),\n",
      "                      array([0.19590677, 0.1698118 , 0.02590371, 0.12401814, 0.15013754]),\n",
      "                      array([0.20805704, 0.1803639 , 0.02752946, 0.1318505 , 0.15957323]),\n",
      "                      array([0.22021611, 0.19092349, 0.02915803, 0.13969199, 0.16901552]),\n",
      "                      array([0.23237518, 0.20148307, 0.03078659, 0.14753348, 0.1784578 ]),\n",
      "                      array([0.24453425, 0.21204266, 0.03241516, 0.15537497, 0.18790009]),\n",
      "                      array([0.25669332, 0.22260224, 0.03404372, 0.16321646, 0.19734237]),\n",
      "                      array([0.26885239, 0.23316183, 0.03567229, 0.17105796, 0.20678466]),\n",
      "                      array([0.28101146, 0.24372142, 0.03730086, 0.17889945, 0.21622695]),\n",
      "                      array([0.29317053, 0.254281  , 0.03892942, 0.18674094, 0.22566923]),\n",
      "                      array([0.3053296 , 0.26484059, 0.04055799, 0.19458243, 0.23511152]),\n",
      "                      array([0.31748866, 0.27540017, 0.04218655, 0.20242392, 0.2445538 ]),\n",
      "                      array([0.32964773, 0.28595976, 0.04381512, 0.21026541, 0.25399609]),\n",
      "                      array([0.3418068 , 0.29651935, 0.04544369, 0.2181069 , 0.26343837]),\n",
      "                      array([0.35396587, 0.30707893, 0.04707225, 0.22594839, 0.27288066]),\n",
      "                      array([0.36612494, 0.31763852, 0.04870082, 0.23378988, 0.28232295]),\n",
      "                      array([0.37828401, 0.3281981 , 0.05032938, 0.24163137, 0.29176523]),\n",
      "                      array([0.39044308, 0.33875769, 0.05195795, 0.24947286, 0.30120752]),\n",
      "                      array([0.40260215, 0.34931728, 0.05358652, 0.25731435, 0.3106498 ]),\n",
      "                      array([0.41476122, 0.35987686, 0.05521508, 0.26515584, 0.32009209]),\n",
      "                      array([0.42692648, 0.37044864, 0.05682428, 0.27300761, 0.32954211]),\n",
      "                      array([0.43908019, 0.38101502, 0.05840146, 0.28085488, 0.33897847]),\n",
      "                      array([0.45123389, 0.39158139, 0.05997864, 0.28870215, 0.34841483]),\n",
      "                      array([0.46339404, 0.40216063, 0.0615373 , 0.2965599 , 0.35785883]),\n",
      "                      array([0.47554226, 0.41273608, 0.06306039, 0.30441377, 0.36728791]),\n",
      "                      array([0.48769047, 0.42331152, 0.06458349, 0.31226764, 0.37671699]),\n",
      "                      array([0.49984497, 0.43390004, 0.06608963, 0.32013171, 0.386153  ]),\n",
      "                      array([0.5119877 , 0.44448711, 0.06755872, 0.32799276, 0.39557303]),\n",
      "                      array([0.52413043, 0.45507418, 0.06902781, 0.33585382, 0.40499306]),\n",
      "                      array([0.53627907, 0.46567441, 0.07048135, 0.3437246 , 0.41441893]),\n",
      "                      array([0.5484164 , 0.47627546, 0.07189884, 0.35159293, 0.42382785]),\n",
      "                      array([0.56055373, 0.48687651, 0.07331633, 0.35946126, 0.43323676]),\n",
      "                      array([0.57269669, 0.49749111, 0.07471861, 0.36733901, 0.44265042]),\n",
      "                      array([0.58482881, 0.50810781, 0.0760877 , 0.37521415, 0.45204626]),\n",
      "                      array([0.59696093, 0.51872452, 0.07745678, 0.38308929, 0.4614421 ]),\n",
      "                      array([0.60909871, 0.52935581, 0.07880946, 0.39097396, 0.47084183]),\n",
      "                      array([0.62122601, 0.53998933, 0.08013215, 0.39885522, 0.48022309]),\n",
      "                      array([0.63335332, 0.55062285, 0.08145485, 0.40673648, 0.48960435]),\n",
      "                      array([0.64548657, 0.56127253, 0.0827585 , 0.41462762, 0.49898882]),\n",
      "                      array([0.65760959, 0.57192396, 0.08403503, 0.42251435, 0.50835428]),\n",
      "                      array([0.66973261, 0.58257538, 0.08531156, 0.43040108, 0.51771975]),\n",
      "                      array([0.68186193, 0.5932448 , 0.08656558, 0.43829802, 0.52708766]),\n",
      "                      array([0.69398123, 0.60391545, 0.08779501, 0.4461896 , 0.536436  ]),\n",
      "                      array([0.70610615, 0.61460301, 0.08900982, 0.45408987, 0.54578507]),\n",
      "                      array([0.71823108, 0.62529056, 0.09022462, 0.46199014, 0.55513415]),\n",
      "                      array([0.73034969, 0.6360101 , 0.09137599, 0.46989496, 0.56444966]),\n",
      "                      array([0.7424683 , 0.64672964, 0.09252736, 0.47779977, 0.57376517]),\n",
      "                      array([0.75458691, 0.65744918, 0.09367873, 0.48570459, 0.58308068]),\n",
      "                      array([0.76670552, 0.66816873, 0.0948301 , 0.49360941, 0.59239619]),\n",
      "                      array([0.77881745, 0.67890411, 0.09592973, 0.50151244, 0.60168961]),\n",
      "                      array([0.79092938, 0.6896395 , 0.09702937, 0.50941547, 0.61098303]),\n",
      "                      array([0.80304131, 0.70037488, 0.098129  , 0.5173185 , 0.62027645]),\n",
      "                      array([0.81515251, 0.71114844, 0.09917013, 0.52522577, 0.62953515]),\n",
      "                      array([0.8272637 , 0.721922  , 0.10021125, 0.53313305, 0.63879384]),\n",
      "                      array([0.8393749 , 0.73269556, 0.10125238, 0.54104032, 0.64805254]),\n",
      "                      array([0.85148411, 0.7435235 , 0.10223859, 0.54894831, 0.6572558 ]),\n",
      "                      array([0.86359332, 0.75435145, 0.10322481, 0.55685629, 0.66645905]),\n",
      "                      array([0.87570253, 0.7651794 , 0.10421103, 0.56476427, 0.67566231]),\n",
      "                      array([0.88781174, 0.77600735, 0.10519724, 0.57267226, 0.68486556]),\n",
      "                      array([0.89992206, 0.78688245, 0.106128  , 0.58058079, 0.69402533]),\n",
      "                      array([0.91203239, 0.79775755, 0.10705876, 0.58848931, 0.70318511]),\n",
      "                      array([0.92414272, 0.80863265, 0.10798952, 0.59639784, 0.71234488]),\n",
      "                      array([0.93625304, 0.81950775, 0.10892028, 0.60430637, 0.72150466]),\n",
      "                      array([0.94859634, 0.83383276, 0.10973781, 0.61197904, 0.72721532]),\n",
      "                      array([0.96093964, 0.84815777, 0.11055535, 0.61965171, 0.73292598]),\n",
      "                      array([0.97328294, 0.86248279, 0.11137289, 0.62732438, 0.73863664]),\n",
      "                      array([0.98562624, 0.8768078 , 0.11219042, 0.63499705, 0.7443473 ]),\n",
      "                      array([0.99796954, 0.89113281, 0.11300796, 0.64266973, 0.75005797]),\n",
      "                      array([1.01031284, 0.90545782, 0.1138255 , 0.6503424 , 0.75576863]),\n",
      "                      array([1.02266082, 0.91977731, 0.1146172 , 0.65800933, 0.761482  ]),\n",
      "                      array([1.0350088 , 0.93409679, 0.11540891, 0.66567626, 0.76719537]),\n",
      "                      array([1.04735677, 0.94841628, 0.11620062, 0.6733432 , 0.77290874]),\n",
      "                      array([1.05970475, 0.96273576, 0.11699233, 0.68101013, 0.77862211]),\n",
      "                      array([1.07205273, 0.97705525, 0.11778403, 0.68867706, 0.78433548]),\n",
      "                      array([1.08440071, 0.99137473, 0.11857574, 0.696344  , 0.79004885]),\n",
      "                      array([1.09674868, 1.00569422, 0.11936745, 0.70401093, 0.79576222]),\n",
      "                      array([1.10909666, 1.02001371, 0.12015916, 0.71167786, 0.80147559]),\n",
      "                      array([1.12144464, 1.03433319, 0.12095086, 0.7193448 , 0.80718896]),\n",
      "                      array([1.13379828, 1.04864468, 0.1217179 , 0.72701679, 0.81291988]),\n",
      "                      array([1.14615193, 1.06295617, 0.12248494, 0.73468878, 0.8186508 ]),\n",
      "                      array([1.15850558, 1.07726767, 0.12325198, 0.74236077, 0.82438172]),\n",
      "                      array([1.17085923, 1.09157916, 0.12401902, 0.75003277, 0.83011264]),\n",
      "                      array([1.18321288, 1.10589065, 0.12478605, 0.75770476, 0.83584357]),\n",
      "                      array([1.19556653, 1.12020214, 0.12555309, 0.76537675, 0.84157449]),\n",
      "                      array([1.20712778, 1.13186099, 0.126336  , 0.77383599, 0.84993942]),\n",
      "                      array([1.21868903, 1.14351984, 0.1271189 , 0.78229523, 0.85830435])],\n",
      "    'times': [   0.0,\n",
      "                 0.01,\n",
      "                 0.02,\n",
      "                 0.03,\n",
      "                 0.04,\n",
      "                 0.05,\n",
      "                 0.06,\n",
      "                 0.07,\n",
      "                 0.08,\n",
      "                 0.09,\n",
      "                 0.1,\n",
      "                 0.11,\n",
      "                 0.12,\n",
      "                 0.13,\n",
      "                 0.14,\n",
      "                 0.15,\n",
      "                 0.16,\n",
      "                 0.17,\n",
      "                 0.18,\n",
      "                 0.19,\n",
      "                 0.2,\n",
      "                 0.21,\n",
      "                 0.22,\n",
      "                 0.23,\n",
      "                 0.24,\n",
      "                 0.25,\n",
      "                 0.26,\n",
      "                 0.27,\n",
      "                 0.28,\n",
      "                 0.29,\n",
      "                 0.3,\n",
      "                 0.31,\n",
      "                 0.32,\n",
      "                 0.33,\n",
      "                 0.34,\n",
      "                 0.35000000000000003,\n",
      "                 0.36,\n",
      "                 0.37,\n",
      "                 0.38,\n",
      "                 0.39,\n",
      "                 0.4,\n",
      "                 0.41000000000000003,\n",
      "                 0.42,\n",
      "                 0.43,\n",
      "                 0.44,\n",
      "                 0.45,\n",
      "                 0.46,\n",
      "                 0.47000000000000003,\n",
      "                 0.48,\n",
      "                 0.49,\n",
      "                 0.5,\n",
      "                 0.51,\n",
      "                 0.52,\n",
      "                 0.53,\n",
      "                 0.54,\n",
      "                 0.55,\n",
      "                 0.56,\n",
      "                 0.5700000000000001,\n",
      "                 0.58,\n",
      "                 0.59,\n",
      "                 0.6,\n",
      "                 0.61,\n",
      "                 0.62,\n",
      "                 0.63,\n",
      "                 0.64,\n",
      "                 0.65,\n",
      "                 0.66,\n",
      "                 0.67,\n",
      "                 0.68,\n",
      "                 0.6900000000000001,\n",
      "                 0.7000000000000001,\n",
      "                 0.71,\n",
      "                 0.72,\n",
      "                 0.73,\n",
      "                 0.74,\n",
      "                 0.75,\n",
      "                 0.76,\n",
      "                 0.77,\n",
      "                 0.78,\n",
      "                 0.79,\n",
      "                 0.8,\n",
      "                 0.81,\n",
      "                 0.8200000000000001,\n",
      "                 0.8300000000000001,\n",
      "                 0.84,\n",
      "                 0.85,\n",
      "                 0.86,\n",
      "                 0.87,\n",
      "                 0.88,\n",
      "                 0.89,\n",
      "                 0.9,\n",
      "                 0.91,\n",
      "                 0.92,\n",
      "                 0.93,\n",
      "                 0.9400000000000001,\n",
      "                 0.9500000000000001,\n",
      "                 0.96,\n",
      "                 0.97,\n",
      "                 0.98,\n",
      "                 0.99,\n",
      "                 1.0]}\n"
     ]
    }
   ],
   "source": [
    "result = pvqd.evolve(problem)\n",
    "print(result)"
   ]
  },
  {
   "cell_type": "markdown",
   "metadata": {},
   "source": [
    "Now we can have a look at the results, which are stored in a `PVQDResult` object. This class has the fields\n",
    "\n",
    "* `evolved_state`: The quantum circuit with the parameters at the final evolution time.\n",
    "* `times`: The timesteps of the time integration. At these times we have the parameter values and evaluated the observables.\n",
    "* `parameters`: The parameter values at each timestep.\n",
    "* `observables`: The observable values at each timestep.\n",
    "* `fidelities`: The fidelity of projecting the Trotter timestep onto the variational form at each timestep.\n",
    "* `estimated_error`: The estimated error as product of all fidelities."
   ]
  },
  {
   "cell_type": "markdown",
   "metadata": {},
   "source": [
    "The energy should be constant in a real time evolution. However, we are projecting the time-evolved state onto a variational form, which might violate this rule. Ideally the energy is still more or less constant. In this evolution here we observe shifts of ~5% of the energy."
   ]
  },
  {
   "cell_type": "code",
   "execution_count": 9,
   "metadata": {
    "execution": {
     "iopub.execute_input": "2024-02-19T12:18:36.125678Z",
     "iopub.status.busy": "2024-02-19T12:18:36.125270Z",
     "iopub.status.idle": "2024-02-19T12:18:36.309371Z",
     "shell.execute_reply": "2024-02-19T12:18:36.308789Z"
    }
   },
   "outputs": [
    {
     "data": {
      "text/plain": [
       "Text(0.5, 1.0, 'Energy over time')"
      ]
     },
     "execution_count": 9,
     "metadata": {},
     "output_type": "execute_result"
    },
    {
     "data": {
      "image/png": "[encoded data removed]",
      "text/plain": [
       "<Figure size 640x480 with 1 Axes>"
      ]
     },
     "metadata": {},
     "output_type": "display_data"
    }
   ],
   "source": [
    "import matplotlib.pyplot as plt\n",
    "\n",
    "energies = np.real(result.observables)[:, 0]\n",
    "\n",
    "plt.plot(result.times, energies, color=\"royalblue\")\n",
    "plt.xlabel(\"time $t$\")\n",
    "plt.ylabel(\"energy $E$\")\n",
    "plt.title(\"Energy over time\")"
   ]
  },
  {
   "cell_type": "markdown",
   "metadata": {},
   "source": [
    "Since we also kept track of the total magnetization of the system, we can plot that quantity too. However let's first compute exact reference values to verify our algorithm results."
   ]
  },
  {
   "cell_type": "code",
   "execution_count": 10,
   "metadata": {
    "execution": {
     "iopub.execute_input": "2024-02-19T12:18:36.312021Z",
     "iopub.status.busy": "2024-02-19T12:18:36.311620Z",
     "iopub.status.idle": "2024-02-19T12:18:36.316903Z",
     "shell.execute_reply": "2024-02-19T12:18:36.316268Z"
    }
   },
   "outputs": [],
   "source": [
    "import scipy as sc\n",
    "\n",
    "\n",
    "def exact(final_time, timestep, hamiltonian, initial_state):\n",
    "    \"\"\"Get the exact values for energy and the observable.\"\"\"\n",
    "    O = observable.to_matrix()\n",
    "    H = hamiltonian.to_matrix()\n",
    "\n",
    "    energ, magn = [], []  # list of energies and magnetizations evaluated at timesteps timestep\n",
    "    times = []  # list of timepoints at which energy/obs are evaluated\n",
    "    time = 0\n",
    "    while time <= final_time:\n",
    "        # get exact state at time t\n",
    "        exact_state = initial_state.evolve(sc.linalg.expm(-1j * time * H))\n",
    "        # store observables and time\n",
    "        times.append(time)\n",
    "        energ.append(exact_state.expectation_value(H).real)\n",
    "        magn.append(exact_state.expectation_value(observable).real)\n",
    "\n",
    "        # next timestep\n",
    "        time += timestep\n",
    "\n",
    "    return times, energ, magn"
   ]
  },
  {
   "cell_type": "code",
   "execution_count": 11,
   "metadata": {
    "execution": {
     "iopub.execute_input": "2024-02-19T12:18:36.319171Z",
     "iopub.status.busy": "2024-02-19T12:18:36.318962Z",
     "iopub.status.idle": "2024-02-19T12:18:36.351730Z",
     "shell.execute_reply": "2024-02-19T12:18:36.351088Z"
    }
   },
   "outputs": [],
   "source": [
    "from qiskit.quantum_info import Statevector\n",
    "\n",
    "initial_state = Statevector(ansatz.assign_parameters(initial_parameters))\n",
    "exact_times, exact_energies, exact_magnetizations = exact(\n",
    "    final_time, 0.01, hamiltonian, initial_state\n",
    ")"
   ]
  },
  {
   "cell_type": "code",
   "execution_count": 12,
   "metadata": {
    "execution": {
     "iopub.execute_input": "2024-02-19T12:18:36.354931Z",
     "iopub.status.busy": "2024-02-19T12:18:36.354514Z",
     "iopub.status.idle": "2024-02-19T12:18:36.573058Z",
     "shell.execute_reply": "2024-02-19T12:18:36.572451Z"
    }
   },
   "outputs": [
    {
     "data": {
      "text/plain": [
       "<matplotlib.legend.Legend at 0x7f593958c8b0>"
      ]
     },
     "execution_count": 12,
     "metadata": {},
     "output_type": "execute_result"
    },
    {
     "data": {
      "image/png": "[encoded data removed]",
      "text/plain": [
       "<Figure size 640x480 with 1 Axes>"
      ]
     },
     "metadata": {},
     "output_type": "display_data"
    }
   ],
   "source": [
    "magnetizations = np.real(result.observables)[:, 1]\n",
    "\n",
    "plt.plot(result.times, magnetizations.real, color=\"crimson\", label=\"PVQD\")\n",
    "plt.plot(exact_times, exact_magnetizations, \":\", color=\"k\", label=\"Exact\")\n",
    "plt.xlabel(\"time $t$\")\n",
    "plt.ylabel(r\"magnetization $\\langle Z_1 Z_2 \\rangle$\")\n",
    "plt.title(\"Magnetization over time\")\n",
    "plt.legend(loc=\"best\")"
   ]
  },
  {
   "cell_type": "markdown",
   "metadata": {},
   "source": [
    "Looks pretty good!"
   ]
  },
  {
   "cell_type": "markdown",
   "metadata": {},
   "source": [
    "### Gradient-based optimizations\n",
    "\n",
    "The `PVQD` class also implements parameter-shift gradients for the loss function and we can use a gradient descent optimization routine\n",
    "\n",
    "$$\n",
    "    \\theta_{k+1} = \\theta_{k} - \\eta_k \\nabla\\ell(\\theta_k).\n",
    "$$\n",
    "\n",
    "Here we're using a learning rate of\n",
    "\n",
    "$$\n",
    "    \\eta_k = 0.1 k^{-0.602}\n",
    "$$\n",
    "and 80 optimization steps in each timestep."
   ]
  },
  {
   "cell_type": "code",
   "execution_count": 13,
   "metadata": {
    "execution": {
     "iopub.execute_input": "2024-02-19T12:18:36.575603Z",
     "iopub.status.busy": "2024-02-19T12:18:36.575397Z",
     "iopub.status.idle": "2024-02-19T12:18:36.578897Z",
     "shell.execute_reply": "2024-02-19T12:18:36.578285Z"
    },
    "scrolled": true
   },
   "outputs": [],
   "source": [
    "from qiskit_algorithms.optimizers import GradientDescent\n",
    "\n",
    "maxiter = 80\n",
    "learning_rate = 0.1 * np.arange(1, maxiter + 1) ** (-0.602)\n",
    "gd = GradientDescent(maxiter, lambda: iter(learning_rate))"
   ]
  },
  {
   "cell_type": "code",
   "execution_count": 14,
   "metadata": {
    "execution": {
     "iopub.execute_input": "2024-02-19T12:18:36.581243Z",
     "iopub.status.busy": "2024-02-19T12:18:36.581035Z",
     "iopub.status.idle": "2024-02-19T12:18:36.584049Z",
     "shell.execute_reply": "2024-02-19T12:18:36.583398Z"
    }
   },
   "outputs": [],
   "source": [
    "pvqd.optimizer = gd"
   ]
  },
  {
   "cell_type": "markdown",
   "metadata": {},
   "source": [
    "The following cell would take a few minutes to run for 100 timesteps, so we reduce them here."
   ]
  },
  {
   "cell_type": "code",
   "execution_count": 15,
   "metadata": {
    "execution": {
     "iopub.execute_input": "2024-02-19T12:18:36.587295Z",
     "iopub.status.busy": "2024-02-19T12:18:36.586693Z",
     "iopub.status.idle": "2024-02-19T12:18:36.589994Z",
     "shell.execute_reply": "2024-02-19T12:18:36.589342Z"
    }
   },
   "outputs": [],
   "source": [
    "n = 10\n",
    "pvqd.num_timesteps = n\n",
    "problem.time = 0.1"
   ]
  },
  {
   "cell_type": "code",
   "execution_count": 16,
   "metadata": {
    "execution": {
     "iopub.execute_input": "2024-02-19T12:18:36.592937Z",
     "iopub.status.busy": "2024-02-19T12:18:36.592472Z",
     "iopub.status.idle": "2024-02-19T12:18:58.208422Z",
     "shell.execute_reply": "2024-02-19T12:18:58.207818Z"
    }
   },
   "outputs": [],
   "source": [
    "result_gd = pvqd.evolve(problem)"
   ]
  },
  {
   "cell_type": "code",
   "execution_count": 17,
   "metadata": {
    "execution": {
     "iopub.execute_input": "2024-02-19T12:18:58.211679Z",
     "iopub.status.busy": "2024-02-19T12:18:58.211100Z",
     "iopub.status.idle": "2024-02-19T12:18:58.435919Z",
     "shell.execute_reply": "2024-02-19T12:18:58.435217Z"
    }
   },
   "outputs": [
    {
     "data": {
      "text/plain": [
       "Text(0.5, 1.0, 'Energy over time')"
      ]
     },
     "execution_count": 17,
     "metadata": {},
     "output_type": "execute_result"
    },
    {
     "data": {
      "image/png": "[encoded data removed]",
      "text/plain": [
       "<Figure size 640x480 with 1 Axes>"
      ]
     },
     "metadata": {},
     "output_type": "display_data"
    }
   ],
   "source": [
    "energies_gd = np.real(result_gd.observables)[:, 0]\n",
    "\n",
    "plt.plot(result.times[: n + 1], energies[: n + 1], \"-\", color=\"royalblue\", label=\"BFGS\")\n",
    "plt.plot(result_gd.times, energies_gd, \"--\", color=\"royalblue\", label=\"Gradient descent\")\n",
    "plt.plot(exact_times[: n + 1], exact_energies[: n + 1], \":\", color=\"k\", label=\"Exact\")\n",
    "plt.legend(loc=\"best\")\n",
    "plt.xlabel(\"time $t$\")\n",
    "plt.ylabel(\"energy $E$\")\n",
    "plt.title(\"Energy over time\")"
   ]
  },
  {
   "cell_type": "markdown",
   "metadata": {},
   "source": [
    "We can observe here, that the energy does vary quite a bit! But as we mentioned before, p-VQD does not preserve the energy."
   ]
  },
  {
   "cell_type": "code",
   "execution_count": 18,
   "metadata": {
    "execution": {
     "iopub.execute_input": "2024-02-19T12:18:58.438800Z",
     "iopub.status.busy": "2024-02-19T12:18:58.438380Z",
     "iopub.status.idle": "2024-02-19T12:18:58.677683Z",
     "shell.execute_reply": "2024-02-19T12:18:58.677011Z"
    },
    "tags": [
     "nbsphinx-thumbnail"
    ]
   },
   "outputs": [
    {
     "data": {
      "text/plain": [
       "Text(0.5, 1.0, 'Magnetization over time')"
      ]
     },
     "execution_count": 18,
     "metadata": {},
     "output_type": "execute_result"
    },
    {
     "data": {
      "image/png": "[encoded data removed]",
      "text/plain": [
       "<Figure size 640x480 with 1 Axes>"
      ]
     },
     "metadata": {},
     "output_type": "display_data"
    }
   ],
   "source": [
    "magnetizations_gd = np.real(result_gd.observables)[:, 1]\n",
    "\n",
    "plt.plot(result.times[: n + 1], magnetizations[: n + 1], \"-\", color=\"crimson\", label=\"BFGS\")\n",
    "plt.plot(result_gd.times, magnetizations_gd, \"--\", color=\"crimson\", label=\"Gradient descent\")\n",
    "plt.plot(exact_times[: n + 1], exact_magnetizations[: n + 1], \":\", color=\"k\", label=\"Exact\")\n",
    "plt.legend(loc=\"best\")\n",
    "plt.xlabel(\"time $t$\")\n",
    "plt.ylabel(r\"magnetization $\\langle Z_1 + Z_2 \\rangle$\")\n",
    "plt.title(\"Magnetization over time\")"
   ]
  },
  {
   "cell_type": "markdown",
   "metadata": {},
   "source": [
    "The magnetization, however, is computed very precisely."
   ]
  },
  {
   "cell_type": "code",
   "execution_count": 19,
   "metadata": {
    "execution": {
     "iopub.execute_input": "2024-02-19T12:18:58.680239Z",
     "iopub.status.busy": "2024-02-19T12:18:58.679865Z",
     "iopub.status.idle": "2024-02-19T12:18:58.687460Z",
     "shell.execute_reply": "2024-02-19T12:18:58.686856Z"
    }
   },
   "outputs": [
    {
     "data": {
      "text/html": [
       "<h3>Version Information</h3><table><tr><th>Software</th><th>Version</th></tr><tr><td><code>qiskit</code></td><td>1.0.0</td></tr><tr><td><code>qiskit_aer</code></td><td>0.13.3</td></tr><tr><td><code>qiskit_algorithms</code></td><td>0.3.0</td></tr><tr><th colspan='2'>System information</th></tr><tr><td>Python version</td><td>3.8.18</td></tr><tr><td>OS</td><td>Linux</td></tr><tr><td colspan='2'>Mon Feb 19 12:18:58 2024 UTC</td></tr></table>"
      ],
      "text/plain": [
       "<IPython.core.display.HTML object>"
      ]
     },
     "metadata": {},
     "output_type": "display_data"
    },
    {
     "data": {
      "text/html": [
       "<div style='width: 100%; background-color:#d5d9e0;padding-left: 10px; padding-bottom: 10px; padding-right: 10px; padding-top: 5px'><h3>This code is a part of a Qiskit project</h3><p>&copy; Copyright IBM 2017, 2024.</p><p>This code is licensed under the Apache License, Version 2.0. You may<br>obtain a copy of this license in the LICENSE.txt file in the root directory<br> of this source tree or at http://www.apache.org/licenses/LICENSE-2.0.<p>Any modifications or derivative works of this code must retain this<br>copyright notice, and modified files need to carry a notice indicating<br>that they have been altered from the originals.</p></div>"
      ],
      "text/plain": [
       "<IPython.core.display.HTML object>"
      ]
     },
     "metadata": {},
     "output_type": "display_data"
    }
   ],
   "source": [
    "import tutorial_magics\n",
    "\n",
    "%qiskit_version_table\n",
    "%qiskit_copyright"
   ]
  }
 ],
 "metadata": {
  "celltoolbar": "Edit Metadata",
  "kernelspec": {
   "display_name": "Python 3 (ipykernel)",
   "language": "python",
   "name": "python3"
  },
  "language_info": {
   "codemirror_mode": {
    "name": "ipython",
    "version": 3
   },
   "file_extension": ".py",
   "mimetype": "text/x-python",
   "name": "python",
   "nbconvert_exporter": "python",
   "pygments_lexer": "ipython3",
   "version": "3.8.18"
  }
 },
 "nbformat": 4,
 "nbformat_minor": 4
}
