{
 "cells": [
  {
   "cell_type": "markdown",
   "metadata": {},
   "source": [
    "# Projected Variational Quantum Dynamics\n",
    "\n",
    "The projected Variational Quantum Dynamics (p-VQD) algorithm is a quantum algorithm for real time evolution. It's a variational algorithm that projects the state at time $t + \\Delta_t$, as calculated with Trotterization, onto a parameterized quantum circuit.\n",
    "\n",
    "For a quantum state $|\\phi(\\theta)\\rangle = U(\\theta)|0\\rangle$ constructed by a parameterized quantum circuit $U(\\theta)$ and a Hamiltonian $H$, the update rule can be written as\n",
    "\n",
    "$$\n",
    "\\theta_{n+1} = \\theta_n + \\arg\\min_{\\delta\\theta} 1 - |\\langle\\phi(\\theta_n + \\delta\\theta)|e^{-i\\Delta_t H}|\\phi(\\theta_n)\\rangle|^2,\n",
    "$$\n",
    "\n",
    "where $e^{-i\\Delta_t H}$ is calculated with a Trotter expansion (using e.g. the [PauliEvolutionGate](https://docs.quantum.ibm.com/api/qiskit/qiskit.circuit.library.PauliEvolutionGate) in Qiskit!).\n",
    "\n",
    "The following tutorial explores the p-VQD algorithm, which is available as the [PVQD](https://qiskit-community.github.io/qiskit-algorithms/stubs/qiskit_algorithms.PVQD.html) class. For details on the algorithm, see the original paper: [Barison et al. Quantum 5, 512 (2021)](https://quantum-journal.org/papers/q-2021-07-28-512/#)."
   ]
  },
  {
   "cell_type": "markdown",
   "metadata": {},
   "source": [
    "The example we're looking at is the time evolution of the $|00\\rangle$ state under the Hamiltonian\n",
    "\n",
    "$$\n",
    "    H = 0.1 Z_1 Z_2 + X_1 + X_2,\n",
    "$$\n",
    "\n",
    "which is an Ising Hamiltonian on two neighboring spins, up to a time $T=1$, where we want to keep track of the total magnetization $M = Z_1 + Z_2$ as an observable."
   ]
  },
  {
   "cell_type": "code",
   "execution_count": 1,
   "metadata": {
    "execution": {
     "iopub.execute_input": "2024-02-13T19:48:48.349185Z",
     "iopub.status.busy": "2024-02-13T19:48:48.348970Z",
     "iopub.status.idle": "2024-02-13T19:48:48.809493Z",
     "shell.execute_reply": "2024-02-13T19:48:48.808869Z"
    }
   },
   "outputs": [],
   "source": [
    "from qiskit.quantum_info import SparsePauliOp\n",
    "\n",
    "final_time = 1\n",
    "hamiltonian = SparsePauliOp.from_sparse_list([\n",
    "    (\"ZZ\", [0, 1], 0.1), (\"X\", [0], 1), (\"X\", [1], 1),\n",
    "], num_qubits=2)\n",
    "observable = SparsePauliOp([\"ZI\", \"IZ\"])"
   ]
  },
  {
   "cell_type": "markdown",
   "metadata": {},
   "source": [
    "After defining our Hamiltonian and observable, we need to choose the parameterized ansatz we project the update steps onto. We have different choices here, but for real time evolution an ansatz that contains building blocks of the evolved Hamiltonian usually performs very well."
   ]
  },
  {
   "cell_type": "code",
   "execution_count": 2,
   "metadata": {
    "execution": {
     "iopub.execute_input": "2024-02-13T19:48:48.812809Z",
     "iopub.status.busy": "2024-02-13T19:48:48.812197Z",
     "iopub.status.idle": "2024-02-13T19:48:49.621900Z",
     "shell.execute_reply": "2024-02-13T19:48:49.621158Z"
    }
   },
   "outputs": [
    {
     "data": {
      "image/png": "[encoded data removed]",
      "text/plain": [
       "<Figure size 454.517x200.667 with 1 Axes>"
      ]
     },
     "execution_count": 2,
     "metadata": {},
     "output_type": "execute_result"
    }
   ],
   "source": [
    "from qiskit.circuit import QuantumCircuit, ParameterVector\n",
    "\n",
    "theta = ParameterVector(\"th\", 5)\n",
    "ansatz = QuantumCircuit(2)\n",
    "ansatz.rx(theta[0], 0)\n",
    "ansatz.rx(theta[1], 1)\n",
    "ansatz.rzz(theta[2], 0, 1)\n",
    "ansatz.rx(theta[3], 0)\n",
    "ansatz.rx(theta[4], 1)\n",
    "\n",
    "# you can try different circuits, like:\n",
    "# from qiskit.circuit.library import EfficientSU2\n",
    "# ansatz = EfficientSU2(2, reps=1)\n",
    "\n",
    "ansatz.draw(\"mpl\", style=\"iqx\")"
   ]
  },
  {
   "cell_type": "markdown",
   "metadata": {},
   "source": [
    "With this ansatz, the $|00\\rangle$ state is prepared if all parameters are 0. Hence we'll set the initial parameters to $\\theta_0 = 0$:"
   ]
  },
  {
   "cell_type": "code",
   "execution_count": 3,
   "metadata": {
    "execution": {
     "iopub.execute_input": "2024-02-13T19:48:49.624602Z",
     "iopub.status.busy": "2024-02-13T19:48:49.624293Z",
     "iopub.status.idle": "2024-02-13T19:48:49.627817Z",
     "shell.execute_reply": "2024-02-13T19:48:49.627229Z"
    }
   },
   "outputs": [],
   "source": [
    "import numpy as np\n",
    "\n",
    "initial_parameters = np.zeros(ansatz.num_parameters)"
   ]
  },
  {
   "cell_type": "markdown",
   "metadata": {},
   "source": [
    "Before running the p-VQD algorithm, we need to select the backend and how we want to calculate the expectation values. Here, we'll perform exact statevector simulations (which are still very fast, as we investigate a 2 qubit system) through the reference primitive implementations found in `qiskit.primitives`."
   ]
  },
  {
   "cell_type": "code",
   "execution_count": 4,
   "metadata": {
    "execution": {
     "iopub.execute_input": "2024-02-13T19:48:49.630484Z",
     "iopub.status.busy": "2024-02-13T19:48:49.630066Z",
     "iopub.status.idle": "2024-02-13T19:48:49.804718Z",
     "shell.execute_reply": "2024-02-13T19:48:49.804051Z"
    }
   },
   "outputs": [],
   "source": [
    "from qiskit.primitives import Sampler, Estimator\n",
    "from qiskit_algorithms.state_fidelities import ComputeUncompute\n",
    "\n",
    "# the fidelity is used to evaluate the objective: the overlap of the variational form and the trotter step\n",
    "sampler = Sampler()\n",
    "fidelity = ComputeUncompute(sampler)\n",
    "\n",
    "# the estimator is used to evaluate the observables\n",
    "estimator = Estimator()"
   ]
  },
  {
   "cell_type": "markdown",
   "metadata": {},
   "source": [
    "Since p-VQD performs a classical optimization in each timestep to determine the best parameters for the projection, we also have to specify the classical optimizer. As a first example we're using BFGS, which typically works well in statevector simulations, but later we can switch to gradient descent."
   ]
  },
  {
   "cell_type": "code",
   "execution_count": 5,
   "metadata": {
    "execution": {
     "iopub.execute_input": "2024-02-13T19:48:49.807852Z",
     "iopub.status.busy": "2024-02-13T19:48:49.807434Z",
     "iopub.status.idle": "2024-02-13T19:48:49.810582Z",
     "shell.execute_reply": "2024-02-13T19:48:49.809915Z"
    }
   },
   "outputs": [],
   "source": [
    "from qiskit_algorithms.optimizers import L_BFGS_B\n",
    "\n",
    "bfgs = L_BFGS_B()"
   ]
  },
  {
   "cell_type": "markdown",
   "metadata": {},
   "source": [
    "Now we can define p-VQD and execute it!"
   ]
  },
  {
   "cell_type": "code",
   "execution_count": 6,
   "metadata": {
    "execution": {
     "iopub.execute_input": "2024-02-13T19:48:49.813193Z",
     "iopub.status.busy": "2024-02-13T19:48:49.812733Z",
     "iopub.status.idle": "2024-02-13T19:48:49.816205Z",
     "shell.execute_reply": "2024-02-13T19:48:49.815562Z"
    }
   },
   "outputs": [],
   "source": [
    "from qiskit_algorithms import PVQD\n",
    "\n",
    "pvqd = PVQD(\n",
    "    fidelity,\n",
    "    ansatz,\n",
    "    initial_parameters,\n",
    "    estimator=estimator,\n",
    "    num_timesteps=100,\n",
    "    optimizer=bfgs\n",
    ")"
   ]
  },
  {
   "cell_type": "markdown",
   "metadata": {},
   "source": [
    "The p-VQD implementation follows Qiskit's time evolution interface, thus we pack all information of the evolution problem into an input class: the `hamiltonian` under which we evolve the state, the `final_time` of the evolution and the observables (`aux_operators`) we keep track of."
   ]
  },
  {
   "cell_type": "code",
   "execution_count": 7,
   "metadata": {
    "execution": {
     "iopub.execute_input": "2024-02-13T19:48:49.818889Z",
     "iopub.status.busy": "2024-02-13T19:48:49.818405Z",
     "iopub.status.idle": "2024-02-13T19:48:49.821685Z",
     "shell.execute_reply": "2024-02-13T19:48:49.821107Z"
    }
   },
   "outputs": [],
   "source": [
    "from qiskit_algorithms import TimeEvolutionProblem\n",
    "\n",
    "problem = TimeEvolutionProblem(hamiltonian, time=final_time, aux_operators=[hamiltonian, observable])"
   ]
  },
  {
   "cell_type": "markdown",
   "metadata": {},
   "source": [
    "And then run the algorithm!"
   ]
  },
  {
   "cell_type": "code",
   "execution_count": 8,
   "metadata": {
    "execution": {
     "iopub.execute_input": "2024-02-13T19:48:49.824400Z",
     "iopub.status.busy": "2024-02-13T19:48:49.824011Z",
     "iopub.status.idle": "2024-02-13T19:48:57.963641Z",
     "shell.execute_reply": "2024-02-13T19:48:57.962916Z"
    }
   },
   "outputs": [
    {
     "name": "stdout",
     "output_type": "stream",
     "text": [
      "{   'aux_ops_evaluated': array([ 0.10446968, -0.82488667]),\n",
      "    'estimated_error': 2.4020200682928206e-06,\n",
      "    'evolved_state': <qiskit.circuit.quantumcircuit.QuantumCircuit object at 0x7fabd77f73a0>,\n",
      "    'fidelities': [   1.0,\n",
      "                      0.9999999981359374,\n",
      "                      0.9999999897485944,\n",
      "                      0.9999999746246854,\n",
      "                      0.9999999999374378,\n",
      "                      0.9999999989938644,\n",
      "                      0.9999999950666985,\n",
      "                      0.99999998818885,\n",
      "                      0.9999999984645426,\n",
      "                      0.9999999974045624,\n",
      "                      0.999999996065293,\n",
      "                      0.9999999997404067,\n",
      "                      0.999999999643631,\n",
      "                      0.9999999995162608,\n",
      "                      0.9999999993516822,\n",
      "                      0.9999999991424006,\n",
      "                      0.9999999988799936,\n",
      "                      0.9999999985550566,\n",
      "                      0.999999998157149,\n",
      "                      0.9999999976747462,\n",
      "                      0.9999999970951958,\n",
      "                      0.9999999964046712,\n",
      "                      0.9999999955881383,\n",
      "                      0.999999995056334,\n",
      "                      0.999999994401884,\n",
      "                      0.999999993763711,\n",
      "                      0.9999999929880454,\n",
      "                      0.9999999921859388,\n",
      "                      0.9999999912459336,\n",
      "                      0.999999990095427,\n",
      "                      0.9999999894564546,\n",
      "                      0.9999999879746138,\n",
      "                      0.9999999863231575,\n",
      "                      0.9999999847039132,\n",
      "                      0.999999982700822,\n",
      "                      0.9999999811266864,\n",
      "                      0.9999999789345172,\n",
      "                      0.999999976518057,\n",
      "                      0.9999999743835062,\n",
      "                      0.9999999718101295,\n",
      "                      0.9999999692082604,\n",
      "                      0.9999999663500811,\n",
      "                      0.9999999636468382,\n",
      "                      0.9999999604904204,\n",
      "                      0.9999999574445734,\n",
      "                      0.999999953857522,\n",
      "                      0.9999999499921922,\n",
      "                      0.9999999467218786,\n",
      "                      0.9999999427433002,\n",
      "                      0.9999999384861068,\n",
      "                      0.9999999346367694,\n",
      "                      0.9999999301521056,\n",
      "                      0.9999999258642638,\n",
      "                      0.9999999212451915,\n",
      "                      0.999999917021805,\n",
      "                      0.9999999121639078,\n",
      "                      0.9999999070309086,\n",
      "                      0.9999999029544936,\n",
      "                      0.9999998979092009,\n",
      "                      0.9999998926120854,\n",
      "                      0.9999998881467111,\n",
      "                      0.9999998828532926,\n",
      "                      0.9999999775187708,\n",
      "                      0.99999997937707,\n",
      "                      0.9999999812641834,\n",
      "                      0.999999982363262,\n",
      "                      0.9999999840125304,\n",
      "                      0.9999999853011984,\n",
      "                      0.999999985790086,\n",
      "                      0.9999999864290672,\n",
      "                      0.9999999867057546,\n",
      "                      0.9999999866081442,\n",
      "                      0.9999999861962172,\n",
      "                      0.999999985714655,\n",
      "                      0.9999999847109564,\n",
      "                      0.9999999829887082,\n",
      "                      0.9999999813659216,\n",
      "                      0.9999999786912696,\n",
      "                      0.9999999761008688,\n",
      "                      0.9999999723165008,\n",
      "                      0.9999999964604986,\n",
      "                      0.9999999950421498,\n",
      "                      0.9999999933205236,\n",
      "                      0.9999999910396646,\n",
      "                      0.9999999886112512,\n",
      "                      0.999999985424626,\n",
      "                      0.9999999819806322,\n",
      "                      0.9999999777046832,\n",
      "                      0.9999999734480854,\n",
      "                      0.9999999679927039,\n",
      "                      0.9999999617634848,\n",
      "                      0.9999999995555702,\n",
      "                      0.9999999994177986,\n",
      "                      0.9999999990652546,\n",
      "                      0.9999999985902354,\n",
      "                      0.9999999977712039,\n",
      "                      0.9999999966524634,\n",
      "                      0.9999999952005004,\n",
      "                      0.9999999935708044,\n",
      "                      0.9999999914439464,\n",
      "                      0.9999999888850344],\n",
      "    'observables': [   array([0.1, 2. ]),\n",
      "                       array([0.10008203, 1.99960001]),\n",
      "                       array([0.1003281 , 1.99840024]),\n",
      "                       array([0.10073809, 1.9964013 ]),\n",
      "                       array([0.10071853, 1.99360386]),\n",
      "                       array([0.10058981, 1.99000905]),\n",
      "                       array([0.10035246, 1.9856183 ]),\n",
      "                       array([0.10000718, 1.98043336]),\n",
      "                       array([0.09986506, 1.97445157]),\n",
      "                       array([0.09968996, 1.967679  ]),\n",
      "                       array([0.09948268, 1.96011839]),\n",
      "                       array([0.09944992, 1.95178157]),\n",
      "                       array([0.09942281, 1.94266493]),\n",
      "                       array([0.09940221, 1.93277227]),\n",
      "                       array([0.09938904, 1.92210766]),\n",
      "                       array([0.09938425, 1.91067554]),\n",
      "                       array([0.09938889, 1.89848062]),\n",
      "                       array([0.09940404, 1.88552796]),\n",
      "                       array([0.09943086, 1.87182293]),\n",
      "                       array([0.09947052, 1.85737121]),\n",
      "                       array([0.09952428, 1.84217877]),\n",
      "                       array([0.09959342, 1.82625192]),\n",
      "                       array([0.09967927, 1.80959724]),\n",
      "                       array([0.09976966, 1.79220162]),\n",
      "                       array([0.0998604 , 1.77411048]),\n",
      "                       array([0.09995485, 1.75529013]),\n",
      "                       array([0.10004713, 1.73579118]),\n",
      "                       array([0.10014326, 1.71557688]),\n",
      "                       array([0.1002349 , 1.69470101]),\n",
      "                       array([0.10033924, 1.67312875]),\n",
      "                       array([0.10039059, 1.65090668]),\n",
      "                       array([0.10046007, 1.62802796]),\n",
      "                       array([0.10054947, 1.60450198]),\n",
      "                       array([0.10065537, 1.58031624]),\n",
      "                       array([0.10078449, 1.55550169]),\n",
      "                       array([0.10088352, 1.53004498]),\n",
      "                       array([0.10100669, 1.50397883]),\n",
      "                       array([0.10115582, 1.47731396]),\n",
      "                       array([0.1013039 , 1.45008908]),\n",
      "                       array([0.10146748, 1.42226423]),\n",
      "                       array([0.10163374, 1.39390175]),\n",
      "                       array([0.10181949, 1.36495808]),\n",
      "                       array([0.10198608, 1.33549785]),\n",
      "                       array([0.10217733, 1.3054826 ]),\n",
      "                       array([0.10235017, 1.27495099]),\n",
      "                       array([0.10255592, 1.24391402]),\n",
      "                       array([0.10279633, 1.21238436]),\n",
      "                       array([0.10298934, 1.18037007]),\n",
      "                       array([0.10321765, 1.14788855]),\n",
      "                       array([0.10348296, 1.11495301]),\n",
      "                       array([0.1037285 , 1.08155596]),\n",
      "                       array([0.10401252, 1.04773113]),\n",
      "                       array([0.10429636, 1.01351355]),\n",
      "                       array([0.10460965, 0.97886613]),\n",
      "                       array([0.10489325, 0.94383956]),\n",
      "                       array([0.10521784, 0.90844064]),\n",
      "                       array([0.10558477, 0.87268375]),\n",
      "                       array([0.10590345, 0.836584  ]),\n",
      "                       array([0.10626463, 0.80015501]),\n",
      "                       array([0.1066695 , 0.76341153]),\n",
      "                       array([0.10704832, 0.72634174]),\n",
      "                       array([0.1074714, 0.6889866]),\n",
      "                       array([0.10760641, 0.65137165]),\n",
      "                       array([0.10773341, 0.61350313]),\n",
      "                       array([0.10787066, 0.5753929 ]),\n",
      "                       array([0.10794079, 0.53705252]),\n",
      "                       array([0.10804509, 0.498501  ]),\n",
      "                       array([0.10814491, 0.45975413]),\n",
      "                       array([0.10818238, 0.420824  ]),\n",
      "                       array([0.10823665, 0.38173952]),\n",
      "                       array([0.10827891, 0.34248464]),\n",
      "                       array([0.1082882 , 0.30313217]),\n",
      "                       array([0.10827341, 0.26361946]),\n",
      "                       array([0.10825785, 0.2240334 ]),\n",
      "                       array([0.10822862, 0.18434704]),\n",
      "                       array([0.10813882, 0.14458883]),\n",
      "                       array([0.10805803, 0.10477899]),\n",
      "                       array([0.10791542, 0.06492946]),\n",
      "                       array([0.10777752, 0.0250634 ]),\n",
      "                       array([ 0.10757598, -0.01481014]),\n",
      "                       array([ 0.10753135, -0.05464561]),\n",
      "                       array([ 0.10744566, -0.09445527]),\n",
      "                       array([ 0.10733507, -0.13424535]),\n",
      "                       array([ 0.10718085, -0.17397758]),\n",
      "                       array([ 0.10701655, -0.21361353]),\n",
      "                       array([ 0.10680555, -0.25315971]),\n",
      "                       array([ 0.10657515, -0.29262282]),\n",
      "                       array([ 0.10629488, -0.33196421]),\n",
      "                       array([ 0.10600699, -0.37114999]),\n",
      "                       array([ 0.10566568, -0.41018241]),\n",
      "                       array([ 0.10526959, -0.44904581]),\n",
      "                       array([ 0.10530978, -0.48771128]),\n",
      "                       array([ 0.10533114, -0.52617477]),\n",
      "                       array([ 0.10533181, -0.56442082]),\n",
      "                       array([ 0.10529706, -0.60244985]),\n",
      "                       array([ 0.10523838, -0.64023072]),\n",
      "                       array([ 0.10515383, -0.67774824]),\n",
      "                       array([ 0.10504149, -0.71498733]),\n",
      "                       array([ 0.10488231, -0.75193338]),\n",
      "                       array([ 0.10469235, -0.7885714 ]),\n",
      "                       array([ 0.10446968, -0.82488667])],\n",
      "    'parameters': [   array([0., 0., 0., 0., 0.]),\n",
      "                      array([0.00950504, 0.01024232, 0.00617994, 0.01049518, 0.00975794]),\n",
      "                      array([0.01901009, 0.02048464, 0.01235987, 0.02099035, 0.01951588]),\n",
      "                      array([0.02851513, 0.03072695, 0.01853981, 0.03148553, 0.02927381]),\n",
      "                      array([0.03698296, 0.03981775, 0.01768898, 0.04301735, 0.04018256]),\n",
      "                      array([0.04545078, 0.04890855, 0.01683815, 0.05454918, 0.05109131]),\n",
      "                      array([0.05391861, 0.05799935, 0.01598733, 0.066081  , 0.06200006]),\n",
      "                      array([0.06238643, 0.06709015, 0.0151365 , 0.07761282, 0.07290881]),\n",
      "                      array([0.07096412, 0.07629049, 0.01638252, 0.08904858, 0.0837263 ]),\n",
      "                      array([0.07954181, 0.08549084, 0.01762853, 0.10048433, 0.09454379]),\n",
      "                      array([0.0881195 , 0.09469118, 0.01887455, 0.11192009, 0.10536128]),\n",
      "                      array([0.09674821, 0.10392526, 0.02114061, 0.12328907, 0.11612302]),\n",
      "                      array([0.10537692, 0.11315934, 0.02340667, 0.13465806, 0.12688476]),\n",
      "                      array([0.11400564, 0.12239341, 0.02567273, 0.14602704, 0.1376465 ]),\n",
      "                      array([0.12263435, 0.13162749, 0.02793879, 0.15739603, 0.14840824]),\n",
      "                      array([0.13126306, 0.14086157, 0.03020485, 0.16876501, 0.15916999]),\n",
      "                      array([0.13989177, 0.15009564, 0.03247091, 0.18013399, 0.16993173]),\n",
      "                      array([0.14852049, 0.15932972, 0.03473697, 0.19150298, 0.18069347]),\n",
      "                      array([0.1571492 , 0.1685638 , 0.03700303, 0.20287196, 0.19145521]),\n",
      "                      array([0.16577791, 0.17779788, 0.03926909, 0.21424095, 0.20221695]),\n",
      "                      array([0.17440662, 0.18703195, 0.04153515, 0.22560993, 0.2129787 ]),\n",
      "                      array([0.18303534, 0.19626603, 0.04380122, 0.23697891, 0.22374044]),\n",
      "                      array([0.19166405, 0.20550011, 0.04606728, 0.2483479 , 0.23450218]),\n",
      "                      array([0.20030328, 0.21474348, 0.048302  , 0.25972779, 0.24527798]),\n",
      "                      array([0.20893203, 0.223972  , 0.05049218, 0.27109761, 0.25604565]),\n",
      "                      array([0.21757209, 0.23321056, 0.05265072, 0.28247854, 0.2668281 ]),\n",
      "                      array([0.22620206, 0.2424337 , 0.05476112, 0.29384885, 0.27760228]),\n",
      "                      array([0.23484366, 0.25166718, 0.05684137, 0.30522974, 0.28839127]),\n",
      "                      array([0.24347637, 0.26088524, 0.05887045, 0.31659968, 0.29917224]),\n",
      "                      array([0.25211886, 0.27011333, 0.06088735, 0.32797854, 0.30996496]),\n",
      "                      array([0.26075931, 0.27932208, 0.06275991, 0.3393459 , 0.32075801]),\n",
      "                      array([0.26939976, 0.28853083, 0.06463247, 0.35071327, 0.33155106]),\n",
      "                      array([0.27804021, 0.29773958, 0.06650503, 0.36208064, 0.34234412]),\n",
      "                      array([0.28668937, 0.30695808, 0.06836959, 0.37345487, 0.35314786]),\n",
      "                      array([0.29533854, 0.31617657, 0.07023416, 0.38482909, 0.3639516 ]),\n",
      "                      array([0.30400348, 0.32539847, 0.07200609, 0.39620548, 0.37476816]),\n",
      "                      array([0.31266842, 0.33462038, 0.07377802, 0.40758188, 0.38558473]),\n",
      "                      array([0.32133336, 0.34384229, 0.07554995, 0.41895828, 0.39640129]),\n",
      "                      array([0.3299926 , 0.35305265, 0.07727452, 0.43031842, 0.40720957]),\n",
      "                      array([0.3386634 , 0.36227068, 0.07898015, 0.44168498, 0.41802644]),\n",
      "                      array([0.34732911, 0.37147834, 0.08064333, 0.45303566, 0.42883481]),\n",
      "                      array([0.35600737, 0.38069501, 0.08229143, 0.46439419, 0.43965249]),\n",
      "                      array([0.36468629, 0.38990232, 0.08386348, 0.47573258, 0.45046224]),\n",
      "                      array([0.37337676, 0.3991179 , 0.0854265 , 0.48707748, 0.46127966]),\n",
      "                      array([0.38208135, 0.40833403, 0.08691556, 0.49840554, 0.47209454]),\n",
      "                      array([0.39078594, 0.41755015, 0.08840463, 0.5097336 , 0.48290942]),\n",
      "                      array([0.39949053, 0.42676628, 0.0898937 , 0.52106166, 0.49372429]),\n",
      "                      array([0.40822065, 0.43598745, 0.09126822, 0.53236482, 0.50453422]),\n",
      "                      array([0.41695076, 0.44520861, 0.09264275, 0.54366799, 0.51534414]),\n",
      "                      array([0.42568087, 0.45442978, 0.09401727, 0.55497115, 0.52615407]),\n",
      "                      array([0.43443999, 0.46366326, 0.09531522, 0.5662565 , 0.53696146]),\n",
      "                      array([0.4431991 , 0.47289674, 0.09661317, 0.57754184, 0.54776884]),\n",
      "                      array([0.4519684 , 0.48213032, 0.09785887, 0.58880228, 0.55856328]),\n",
      "                      array([0.46075334, 0.49137449, 0.09909111, 0.60006518, 0.56936276]),\n",
      "                      array([0.46957285, 0.5006319 , 0.10023304, 0.6112864 , 0.58014255]),\n",
      "                      array([0.47839236, 0.50988931, 0.10137497, 0.62250762, 0.59092234]),\n",
      "                      array([0.48721187, 0.51914671, 0.10251689, 0.63372883, 0.60170213]),\n",
      "                      array([0.49609289, 0.52843407, 0.10354512, 0.64488453, 0.61244789]),\n",
      "                      array([0.50497392, 0.53772143, 0.10457335, 0.65604023, 0.62319366]),\n",
      "                      array([0.51385494, 0.54700878, 0.10560158, 0.66719593, 0.63393942]),\n",
      "                      array([0.5227821 , 0.55632373, 0.10654605, 0.67831738, 0.6446684 ]),\n",
      "                      array([0.53170926, 0.56563868, 0.10749052, 0.68943884, 0.65539738]),\n",
      "                      array([0.55139018, 0.58192542, 0.10714751, 0.6897611 , 0.6591042 ]),\n",
      "                      array([0.57105102, 0.59824411, 0.10687439, 0.69009583, 0.6627841 ]),\n",
      "                      array([0.59068126, 0.61461368, 0.10668649, 0.69045983, 0.66641701]),\n",
      "                      array([0.61031151, 0.63098326, 0.10649859, 0.69082383, 0.67004991]),\n",
      "                      array([0.6299158 , 0.64739635, 0.1064154 , 0.6912174 , 0.67364053]),\n",
      "                      array([0.64949393, 0.66384641, 0.10639324, 0.69164197, 0.6771907 ]),\n",
      "                      array([0.66907206, 0.68029647, 0.10637108, 0.69206654, 0.68074088]),\n",
      "                      array([0.68863632, 0.69676175, 0.10642905, 0.69250157, 0.68427268]),\n",
      "                      array([0.70819083, 0.71325024, 0.10653659, 0.6929572 , 0.68779394]),\n",
      "                      array([0.72772662, 0.72973902, 0.10667132, 0.69341413, 0.69129597]),\n",
      "                      array([0.74726302, 0.74624854, 0.10684267, 0.69389102, 0.69480098]),\n",
      "                      array([0.76677262, 0.7627675 , 0.10707325, 0.69438265, 0.69828325]),\n",
      "                      array([0.78626419, 0.77930562, 0.10735053, 0.69489919, 0.70175658]),\n",
      "                      array([0.80575575, 0.79584373, 0.10762782, 0.69541572, 0.7052299 ]),\n",
      "                      array([0.82521662, 0.8123972 , 0.10797527, 0.69596438, 0.70868926]),\n",
      "                      array([0.84467749, 0.82895068, 0.10832272, 0.69651304, 0.71214863]),\n",
      "                      array([0.86410296, 0.84551436, 0.10873769, 0.69709711, 0.71559774]),\n",
      "                      array([0.88352844, 0.86207804, 0.10915265, 0.69768118, 0.71904685]),\n",
      "                      array([0.89931692, 0.87878338, 0.10971246, 0.70189661, 0.72235059]),\n",
      "                      array([0.91510541, 0.89548873, 0.11027227, 0.70611203, 0.72565433]),\n",
      "                      array([0.93089952, 0.91219414, 0.11085004, 0.71033521, 0.72896905]),\n",
      "                      array([0.94669362, 0.92889954, 0.11142781, 0.71455838, 0.73228377]),\n",
      "                      array([0.96247977, 0.94559198, 0.11204178, 0.71877965, 0.73560303]),\n",
      "                      array([0.97826593, 0.96228443, 0.11265576, 0.72300092, 0.73892229]),\n",
      "                      array([0.99405422, 0.97897194, 0.11330021, 0.72723465, 0.74225869]),\n",
      "                      array([1.00984252, 0.99565945, 0.11394467, 0.73146837, 0.7455951 ]),\n",
      "                      array([1.02560876, 1.01231061, 0.1146348 , 0.7357175 , 0.74896225]),\n",
      "                      array([1.04137499, 1.02896178, 0.11532493, 0.73996663, 0.75232941]),\n",
      "                      array([1.05714123, 1.04561294, 0.11601506, 0.74421576, 0.75569657]),\n",
      "                      array([1.07035473, 1.05840482, 0.1168154 , 0.75102885, 0.76292764]),\n",
      "                      array([1.08356824, 1.07119669, 0.11761573, 0.75784195, 0.77015872]),\n",
      "                      array([1.09678175, 1.08398857, 0.11841607, 0.76465504, 0.7773898 ]),\n",
      "                      array([1.1099931 , 1.09678605, 0.11920022, 0.77147243, 0.78462723]),\n",
      "                      array([1.12320445, 1.10958354, 0.11998436, 0.77828981, 0.79186465]),\n",
      "                      array([1.1364158 , 1.12238103, 0.12076851, 0.7851072 , 0.79910208]),\n",
      "                      array([1.14962715, 1.13517851, 0.12155266, 0.79192458, 0.8063395 ]),\n",
      "                      array([1.16283029, 1.14796834, 0.12231205, 0.79875215, 0.81357872]),\n",
      "                      array([1.17603343, 1.16075817, 0.12307144, 0.80557972, 0.82081793]),\n",
      "                      array([1.18923657, 1.173548  , 0.12383083, 0.81240728, 0.82805715])],\n",
      "    'times': [   0.0,\n",
      "                 0.01,\n",
      "                 0.02,\n",
      "                 0.03,\n",
      "                 0.04,\n",
      "                 0.05,\n",
      "                 0.06,\n",
      "                 0.07,\n",
      "                 0.08,\n",
      "                 0.09,\n",
      "                 0.1,\n",
      "                 0.11,\n",
      "                 0.12,\n",
      "                 0.13,\n",
      "                 0.14,\n",
      "                 0.15,\n",
      "                 0.16,\n",
      "                 0.17,\n",
      "                 0.18,\n",
      "                 0.19,\n",
      "                 0.2,\n",
      "                 0.21,\n",
      "                 0.22,\n",
      "                 0.23,\n",
      "                 0.24,\n",
      "                 0.25,\n",
      "                 0.26,\n",
      "                 0.27,\n",
      "                 0.28,\n",
      "                 0.29,\n",
      "                 0.3,\n",
      "                 0.31,\n",
      "                 0.32,\n",
      "                 0.33,\n",
      "                 0.34,\n",
      "                 0.35000000000000003,\n",
      "                 0.36,\n",
      "                 0.37,\n",
      "                 0.38,\n",
      "                 0.39,\n",
      "                 0.4,\n",
      "                 0.41000000000000003,\n",
      "                 0.42,\n",
      "                 0.43,\n",
      "                 0.44,\n",
      "                 0.45,\n",
      "                 0.46,\n",
      "                 0.47000000000000003,\n",
      "                 0.48,\n",
      "                 0.49,\n",
      "                 0.5,\n",
      "                 0.51,\n",
      "                 0.52,\n",
      "                 0.53,\n",
      "                 0.54,\n",
      "                 0.55,\n",
      "                 0.56,\n",
      "                 0.5700000000000001,\n",
      "                 0.58,\n",
      "                 0.59,\n",
      "                 0.6,\n",
      "                 0.61,\n",
      "                 0.62,\n",
      "                 0.63,\n",
      "                 0.64,\n",
      "                 0.65,\n",
      "                 0.66,\n",
      "                 0.67,\n",
      "                 0.68,\n",
      "                 0.6900000000000001,\n",
      "                 0.7000000000000001,\n",
      "                 0.71,\n",
      "                 0.72,\n",
      "                 0.73,\n",
      "                 0.74,\n",
      "                 0.75,\n",
      "                 0.76,\n",
      "                 0.77,\n",
      "                 0.78,\n",
      "                 0.79,\n",
      "                 0.8,\n",
      "                 0.81,\n",
      "                 0.8200000000000001,\n",
      "                 0.8300000000000001,\n",
      "                 0.84,\n",
      "                 0.85,\n",
      "                 0.86,\n",
      "                 0.87,\n",
      "                 0.88,\n",
      "                 0.89,\n",
      "                 0.9,\n",
      "                 0.91,\n",
      "                 0.92,\n",
      "                 0.93,\n",
      "                 0.9400000000000001,\n",
      "                 0.9500000000000001,\n",
      "                 0.96,\n",
      "                 0.97,\n",
      "                 0.98,\n",
      "                 0.99,\n",
      "                 1.0]}\n"
     ]
    }
   ],
   "source": [
    "result = pvqd.evolve(problem)\n",
    "print(result)"
   ]
  },
  {
   "cell_type": "markdown",
   "metadata": {},
   "source": [
    "Now we can have a look at the results, which are stored in a `PVQDResult` object. This class has the fields\n",
    "\n",
    "* `evolved_state`: The quantum circuit with the parameters at the final evolution time.\n",
    "* `times`: The timesteps of the time integration. At these times we have the parameter values and evaluated the observables.\n",
    "* `parameters`: The parameter values at each timestep.\n",
    "* `observables`: The observable values at each timestep.\n",
    "* `fidelities`: The fidelity of projecting the Trotter timestep onto the variational form at each timestep.\n",
    "* `estimated_error`: The estimated error as product of all fidelities."
   ]
  },
  {
   "cell_type": "markdown",
   "metadata": {},
   "source": [
    "The energy should be constant in a real time evolution. However, we are projecting the time-evolved state onto a variational form, which might violate this rule. Ideally the energy is still more or less constant. In this evolution here we observe shifts of ~5% of the energy."
   ]
  },
  {
   "cell_type": "code",
   "execution_count": 9,
   "metadata": {
    "execution": {
     "iopub.execute_input": "2024-02-13T19:48:57.966646Z",
     "iopub.status.busy": "2024-02-13T19:48:57.966266Z",
     "iopub.status.idle": "2024-02-13T19:48:58.154797Z",
     "shell.execute_reply": "2024-02-13T19:48:58.154017Z"
    }
   },
   "outputs": [
    {
     "data": {
      "text/plain": [
       "Text(0.5, 1.0, 'Energy over time')"
      ]
     },
     "execution_count": 9,
     "metadata": {},
     "output_type": "execute_result"
    },
    {
     "data": {
      "image/png": "[encoded data removed]",
      "text/plain": [
       "<Figure size 640x480 with 1 Axes>"
      ]
     },
     "metadata": {},
     "output_type": "display_data"
    }
   ],
   "source": [
    "import matplotlib.pyplot as plt\n",
    "\n",
    "energies = np.real(result.observables)[:, 0]\n",
    "\n",
    "plt.plot(result.times, energies, color=\"royalblue\")\n",
    "plt.xlabel(\"time $t$\")\n",
    "plt.ylabel(\"energy $E$\")\n",
    "plt.title(\"Energy over time\")"
   ]
  },
  {
   "cell_type": "markdown",
   "metadata": {},
   "source": [
    "Since we also kept track of the total magnetization of the system, we can plot that quantity too. However let's first compute exact reference values to verify our algorithm results."
   ]
  },
  {
   "cell_type": "code",
   "execution_count": 10,
   "metadata": {
    "execution": {
     "iopub.execute_input": "2024-02-13T19:48:58.157669Z",
     "iopub.status.busy": "2024-02-13T19:48:58.157255Z",
     "iopub.status.idle": "2024-02-13T19:48:58.162470Z",
     "shell.execute_reply": "2024-02-13T19:48:58.161887Z"
    }
   },
   "outputs": [],
   "source": [
    "import scipy as sc\n",
    "\n",
    "def exact(final_time, timestep, hamiltonian, initial_state):\n",
    "    \"\"\"Get the exact values for energy and the observable.\"\"\"\n",
    "    O = observable.to_matrix()\n",
    "    H = hamiltonian.to_matrix()\n",
    "\n",
    "    energ, magn = [], []  # list of energies and magnetizations evaluated at timesteps timestep\n",
    "    times = []  # list of timepoints at which energy/obs are evaluated\n",
    "    time = 0\n",
    "    while time <= final_time:\n",
    "        # get exact state at time t\n",
    "        exact_state = initial_state.evolve(sc.linalg.expm(-1j * time * H))\n",
    "        # store observables and time\n",
    "        times.append(time)\n",
    "        energ.append(exact_state.expectation_value(H).real)\n",
    "        magn.append(exact_state.expectation_value(observable).real)\n",
    "\n",
    "        # next timestep\n",
    "        time += timestep\n",
    "\n",
    "    return times, energ, magn"
   ]
  },
  {
   "cell_type": "code",
   "execution_count": 11,
   "metadata": {
    "execution": {
     "iopub.execute_input": "2024-02-13T19:48:58.164896Z",
     "iopub.status.busy": "2024-02-13T19:48:58.164495Z",
     "iopub.status.idle": "2024-02-13T19:48:58.198277Z",
     "shell.execute_reply": "2024-02-13T19:48:58.197512Z"
    }
   },
   "outputs": [
    {
     "name": "stderr",
     "output_type": "stream",
     "text": [
      "/tmp/ipykernel_7557/4229986699.py:3: DeprecationWarning: The method ``qiskit.circuit.quantumcircuit.QuantumCircuit.bind_parameters()`` is deprecated as of qiskit 0.45.0. It will be removed in the Qiskit 1.0.0 release. Use assign_parameters() instead\n",
      "  initial_state = Statevector(ansatz.bind_parameters(initial_parameters))\n"
     ]
    }
   ],
   "source": [
    "from qiskit.quantum_info import Statevector\n",
    "\n",
    "initial_state = Statevector(ansatz.bind_parameters(initial_parameters))\n",
    "exact_times, exact_energies, exact_magnetizations = exact(final_time, 0.01, hamiltonian, initial_state)"
   ]
  },
  {
   "cell_type": "code",
   "execution_count": 12,
   "metadata": {
    "execution": {
     "iopub.execute_input": "2024-02-13T19:48:58.201634Z",
     "iopub.status.busy": "2024-02-13T19:48:58.201244Z",
     "iopub.status.idle": "2024-02-13T19:48:58.424755Z",
     "shell.execute_reply": "2024-02-13T19:48:58.424038Z"
    }
   },
   "outputs": [
    {
     "data": {
      "text/plain": [
       "<matplotlib.legend.Legend at 0x7fabd8b25550>"
      ]
     },
     "execution_count": 12,
     "metadata": {},
     "output_type": "execute_result"
    },
    {
     "data": {
      "image/png": "[encoded data removed]",
      "text/plain": [
       "<Figure size 640x480 with 1 Axes>"
      ]
     },
     "metadata": {},
     "output_type": "display_data"
    }
   ],
   "source": [
    "magnetizations = np.real(result.observables)[:, 1]\n",
    "\n",
    "plt.plot(result.times, magnetizations.real, color=\"crimson\", label=\"PVQD\")\n",
    "plt.plot(exact_times, exact_magnetizations, \":\", color=\"k\", label=\"Exact\")\n",
    "plt.xlabel(\"time $t$\")\n",
    "plt.ylabel(r\"magnetization $\\langle Z_1 Z_2 \\rangle$\")\n",
    "plt.title(\"Magnetization over time\")\n",
    "plt.legend(loc=\"best\")"
   ]
  },
  {
   "cell_type": "markdown",
   "metadata": {},
   "source": [
    "Looks pretty good!"
   ]
  },
  {
   "cell_type": "markdown",
   "metadata": {},
   "source": [
    "### Gradient-based optimizations\n",
    "\n",
    "The `PVQD` class also implements parameter-shift gradients for the loss function and we can use a gradient descent optimization routine\n",
    "\n",
    "$$\n",
    "    \\theta_{k+1} = \\theta_{k} - \\eta_k \\nabla\\ell(\\theta_k).\n",
    "$$\n",
    "\n",
    "Here we're using a learning rate of\n",
    "\n",
    "$$\n",
    "    \\eta_k = 0.1 k^{-0.602}\n",
    "$$\n",
    "and 80 optimization steps in each timestep."
   ]
  },
  {
   "cell_type": "code",
   "execution_count": 13,
   "metadata": {
    "execution": {
     "iopub.execute_input": "2024-02-13T19:48:58.427740Z",
     "iopub.status.busy": "2024-02-13T19:48:58.427291Z",
     "iopub.status.idle": "2024-02-13T19:48:58.431172Z",
     "shell.execute_reply": "2024-02-13T19:48:58.430594Z"
    },
    "scrolled": true
   },
   "outputs": [],
   "source": [
    "from qiskit_algorithms.optimizers import GradientDescent\n",
    "\n",
    "maxiter = 80\n",
    "learning_rate = 0.1 * np.arange(1, maxiter + 1) ** (-0.602)\n",
    "gd = GradientDescent(maxiter, lambda: iter(learning_rate))"
   ]
  },
  {
   "cell_type": "code",
   "execution_count": 14,
   "metadata": {
    "execution": {
     "iopub.execute_input": "2024-02-13T19:48:58.433663Z",
     "iopub.status.busy": "2024-02-13T19:48:58.433263Z",
     "iopub.status.idle": "2024-02-13T19:48:58.436330Z",
     "shell.execute_reply": "2024-02-13T19:48:58.435768Z"
    }
   },
   "outputs": [],
   "source": [
    "pvqd.optimizer = gd"
   ]
  },
  {
   "cell_type": "markdown",
   "metadata": {},
   "source": [
    "The following cell would take a few minutes to run for 100 timesteps, so we reduce them here."
   ]
  },
  {
   "cell_type": "code",
   "execution_count": 15,
   "metadata": {
    "execution": {
     "iopub.execute_input": "2024-02-13T19:48:58.438876Z",
     "iopub.status.busy": "2024-02-13T19:48:58.438480Z",
     "iopub.status.idle": "2024-02-13T19:48:58.441482Z",
     "shell.execute_reply": "2024-02-13T19:48:58.440870Z"
    }
   },
   "outputs": [],
   "source": [
    "n = 10\n",
    "pvqd.num_timesteps = n\n",
    "problem.time = 0.1"
   ]
  },
  {
   "cell_type": "code",
   "execution_count": 16,
   "metadata": {
    "execution": {
     "iopub.execute_input": "2024-02-13T19:48:58.443931Z",
     "iopub.status.busy": "2024-02-13T19:48:58.443540Z",
     "iopub.status.idle": "2024-02-13T19:49:19.429205Z",
     "shell.execute_reply": "2024-02-13T19:49:19.428588Z"
    }
   },
   "outputs": [],
   "source": [
    "result_gd = pvqd.evolve(problem)"
   ]
  },
  {
   "cell_type": "code",
   "execution_count": 17,
   "metadata": {
    "execution": {
     "iopub.execute_input": "2024-02-13T19:49:19.432430Z",
     "iopub.status.busy": "2024-02-13T19:49:19.431975Z",
     "iopub.status.idle": "2024-02-13T19:49:19.664410Z",
     "shell.execute_reply": "2024-02-13T19:49:19.663664Z"
    }
   },
   "outputs": [
    {
     "data": {
      "text/plain": [
       "Text(0.5, 1.0, 'Energy over time')"
      ]
     },
     "execution_count": 17,
     "metadata": {},
     "output_type": "execute_result"
    },
    {
     "data": {
      "image/png": "[encoded data removed]",
      "text/plain": [
       "<Figure size 640x480 with 1 Axes>"
      ]
     },
     "metadata": {},
     "output_type": "display_data"
    }
   ],
   "source": [
    "energies_gd = np.real(result_gd.observables)[:, 0]\n",
    "\n",
    "plt.plot(result.times[:n + 1], energies[:n + 1], \"-\", color=\"royalblue\", label=\"BFGS\")\n",
    "plt.plot(result_gd.times, energies_gd, \"--\", color=\"royalblue\", label=\"Gradient descent\")\n",
    "plt.plot(exact_times[:n + 1], exact_energies[:n + 1], \":\", color=\"k\", label=\"Exact\")\n",
    "plt.legend(loc=\"best\")\n",
    "plt.xlabel(\"time $t$\")\n",
    "plt.ylabel(\"energy $E$\")\n",
    "plt.title(\"Energy over time\")"
   ]
  },
  {
   "cell_type": "markdown",
   "metadata": {},
   "source": [
    "We can observe here, that the energy does vary quite a bit! But as we mentioned before, p-VQD does not preserve the energy."
   ]
  },
  {
   "cell_type": "code",
   "execution_count": 18,
   "metadata": {
    "execution": {
     "iopub.execute_input": "2024-02-13T19:49:19.667437Z",
     "iopub.status.busy": "2024-02-13T19:49:19.667199Z",
     "iopub.status.idle": "2024-02-13T19:49:19.882712Z",
     "shell.execute_reply": "2024-02-13T19:49:19.881985Z"
    },
    "tags": [
     "nbsphinx-thumbnail"
    ]
   },
   "outputs": [
    {
     "data": {
      "text/plain": [
       "Text(0.5, 1.0, 'Magnetization over time')"
      ]
     },
     "execution_count": 18,
     "metadata": {},
     "output_type": "execute_result"
    },
    {
     "data": {
      "image/png": "[encoded data removed]",
      "text/plain": [
       "<Figure size 640x480 with 1 Axes>"
      ]
     },
     "metadata": {},
     "output_type": "display_data"
    }
   ],
   "source": [
    "magnetizations_gd = np.real(result_gd.observables)[:, 1]\n",
    "\n",
    "plt.plot(result.times[:n + 1], magnetizations[:n + 1], \"-\", color=\"crimson\", label=\"BFGS\")\n",
    "plt.plot(result_gd.times, magnetizations_gd, \"--\", color=\"crimson\", label=\"Gradient descent\")\n",
    "plt.plot(exact_times[:n + 1], exact_magnetizations[:n + 1], \":\", color=\"k\", label=\"Exact\")\n",
    "plt.legend(loc=\"best\")\n",
    "plt.xlabel(\"time $t$\")\n",
    "plt.ylabel(r\"magnetization $\\langle Z_1 + Z_2 \\rangle$\")\n",
    "plt.title(\"Magnetization over time\")"
   ]
  },
  {
   "cell_type": "markdown",
   "metadata": {},
   "source": [
    "The magnetization, however, is computed very precisely."
   ]
  },
  {
   "cell_type": "code",
   "execution_count": 19,
   "metadata": {
    "execution": {
     "iopub.execute_input": "2024-02-13T19:49:19.885855Z",
     "iopub.status.busy": "2024-02-13T19:49:19.885378Z",
     "iopub.status.idle": "2024-02-13T19:49:19.975598Z",
     "shell.execute_reply": "2024-02-13T19:49:19.974936Z"
    }
   },
   "outputs": [
    {
     "name": "stderr",
     "output_type": "stream",
     "text": [
      "/tmp/ipykernel_7557/2169806890.py:1: DeprecationWarning: qiskit.tools.jupyter is deprecated and will be removed in Qiskit 1.0.0\n",
      "  import qiskit.tools.jupyter\n"
     ]
    },
    {
     "data": {
      "text/html": [
       "<h3>Version Information</h3><table><tr><th>Software</th><th>Version</th></tr><tr><td><code>qiskit</code></td><td>0.46.0</td></tr><tr><td><code>qiskit_aer</code></td><td>0.13.3</td></tr><tr><td><code>qiskit_algorithms</code></td><td>0.2.2</td></tr><tr><th colspan='2'>System information</th></tr><tr><td>Python version</td><td>3.8.18</td></tr><tr><td>Python compiler</td><td>GCC 11.4.0</td></tr><tr><td>Python build</td><td>default, Aug 28 2023 08:27:22</td></tr><tr><td>OS</td><td>Linux</td></tr><tr><td>CPUs</td><td>2</td></tr><tr><td>Memory (Gb)</td><td>15.60690689086914</td></tr><tr><td colspan='2'>Tue Feb 13 19:49:19 2024 UTC</td></tr></table>"
      ],
      "text/plain": [
       "<IPython.core.display.HTML object>"
      ]
     },
     "metadata": {},
     "output_type": "display_data"
    },
    {
     "data": {
      "text/html": [
       "<div style='width: 100%; background-color:#d5d9e0;padding-left: 10px; padding-bottom: 10px; padding-right: 10px; padding-top: 5px'><h3>This code is a part of Qiskit</h3><p>&copy; Copyright IBM 2017, 2024.</p><p>This code is licensed under the Apache License, Version 2.0. You may<br>obtain a copy of this license in the LICENSE.txt file in the root directory<br> of this source tree or at http://www.apache.org/licenses/LICENSE-2.0.<p>Any modifications or derivative works of this code must retain this<br>copyright notice, and modified files need to carry a notice indicating<br>that they have been altered from the originals.</p></div>"
      ],
      "text/plain": [
       "<IPython.core.display.HTML object>"
      ]
     },
     "metadata": {},
     "output_type": "display_data"
    }
   ],
   "source": [
    "import qiskit.tools.jupyter\n",
    "%qiskit_version_table\n",
    "%qiskit_copyright\n"
   ]
  }
 ],
 "metadata": {
  "celltoolbar": "Edit Metadata",
  "kernelspec": {
   "display_name": "Python 3",
   "language": "python",
   "name": "python3"
  },
  "language_info": {
   "codemirror_mode": {
    "name": "ipython",
    "version": 3
   },
   "file_extension": ".py",
   "mimetype": "text/x-python",
   "name": "python",
   "nbconvert_exporter": "python",
   "pygments_lexer": "ipython3",
   "version": "3.8.18"
  },
  "widgets": {
   "application/vnd.jupyter.widget-state+json": {
    "state": {
     "451c2d4b4fb6418bbbe768171536ca2b": {
      "model_module": "@jupyter-widgets/base",
      "model_module_version": "2.0.0",
      "model_name": "LayoutModel",
      "state": {
       "_model_module": "@jupyter-widgets/base",
       "_model_module_version": "2.0.0",
       "_model_name": "LayoutModel",
       "_view_count": null,
       "_view_module": "@jupyter-widgets/base",
       "_view_module_version": "2.0.0",
       "_view_name": "LayoutView",
       "align_content": null,
       "align_items": null,
       "align_self": null,
       "border_bottom": null,
       "border_left": null,
       "border_right": null,
       "border_top": null,
       "bottom": null,
       "display": null,
       "flex": null,
       "flex_flow": null,
       "grid_area": null,
       "grid_auto_columns": null,
       "grid_auto_flow": null,
       "grid_auto_rows": null,
       "grid_column": null,
       "grid_gap": null,
       "grid_row": null,
       "grid_template_areas": null,
       "grid_template_columns": null,
       "grid_template_rows": null,
       "height": null,
       "justify_content": null,
       "justify_items": null,
       "left": null,
       "margin": "0px 0px 10px 0px",
       "max_height": null,
       "max_width": null,
       "min_height": null,
       "min_width": null,
       "object_fit": null,
       "object_position": null,
       "order": null,
       "overflow": null,
       "padding": null,
       "right": null,
       "top": null,
       "visibility": null,
       "width": null
      }
     },
     "74e742bd91294edbb04ad976e4171556": {
      "model_module": "@jupyter-widgets/controls",
      "model_module_version": "2.0.0",
      "model_name": "HTMLStyleModel",
      "state": {
       "_model_module": "@jupyter-widgets/controls",
       "_model_module_version": "2.0.0",
       "_model_name": "HTMLStyleModel",
       "_view_count": null,
       "_view_module": "@jupyter-widgets/base",
       "_view_module_version": "2.0.0",
       "_view_name": "StyleView",
       "background": null,
       "description_width": "",
       "font_size": null,
       "text_color": null
      }
     },
     "c243e94503394a838b950c338e071d89": {
      "model_module": "@jupyter-widgets/controls",
      "model_module_version": "2.0.0",
      "model_name": "HTMLModel",
      "state": {
       "_dom_classes": [],
       "_model_module": "@jupyter-widgets/controls",
       "_model_module_version": "2.0.0",
       "_model_name": "HTMLModel",
       "_view_count": null,
       "_view_module": "@jupyter-widgets/controls",
       "_view_module_version": "2.0.0",
       "_view_name": "HTMLView",
       "description": "",
       "description_allow_html": false,
       "layout": "IPY_MODEL_451c2d4b4fb6418bbbe768171536ca2b",
       "placeholder": "​",
       "style": "IPY_MODEL_74e742bd91294edbb04ad976e4171556",
       "tabbable": null,
       "tooltip": null,
       "value": "<p style='font-family: IBM Plex Sans, Arial, Helvetica, sans-serif; font-size: 20px; font-weight: medium;'>Circuit Properties</p>"
      }
     }
    },
    "version_major": 2,
    "version_minor": 0
   }
  }
 },
 "nbformat": 4,
 "nbformat_minor": 4
}
