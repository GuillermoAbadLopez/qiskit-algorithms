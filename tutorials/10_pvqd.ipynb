{
 "cells": [
  {
   "cell_type": "markdown",
   "metadata": {},
   "source": [
    "# Projected Variational Quantum Dynamics\n",
    "\n",
    "The projected Variational Quantum Dynamics (p-VQD) algorithm is a quantum algorithm for real time evolution. It's a variational algorithm that projects the state at time $t + \\Delta_t$, as calculated with Trotterization, onto a parameterized quantum circuit.\n",
    "\n",
    "For a quantum state $|\\phi(\\theta)\\rangle = U(\\theta)|0\\rangle$ constructed by a parameterized quantum circuit $U(\\theta)$ and a Hamiltonian $H$, the update rule can be written as\n",
    "\n",
    "$$\n",
    "\\theta_{n+1} = \\theta_n + \\arg\\min_{\\delta\\theta} 1 - |\\langle\\phi(\\theta_n + \\delta\\theta)|e^{-i\\Delta_t H}|\\phi(\\theta_n)\\rangle|^2,\n",
    "$$\n",
    "\n",
    "where $e^{-i\\Delta_t H}$ is calculated with a Trotter expansion (using e.g. the [PauliEvolutionGate](https://qiskit.org/documentation/stubs/qiskit.circuit.library.PauliEvolutionGate.html) in Qiskit!).\n",
    "\n",
    "The following tutorial explores the p-VQD algorithm, which is available as the [PVQD](https://qiskit.org/ecosystem/algorithms/stubs/qiskit_algorithms.PVQD.html) class. For details on the algorithm, see the original paper: [Barison et al. Quantum 5, 512 (2021)](https://quantum-journal.org/papers/q-2021-07-28-512/#)."
   ]
  },
  {
   "cell_type": "markdown",
   "metadata": {},
   "source": [
    "The example we're looking at is the time evolution of the $|00\\rangle$ state under the Hamiltonian\n",
    "\n",
    "$$\n",
    "    H = 0.1 Z_1 Z_2 + X_1 + X_2,\n",
    "$$\n",
    "\n",
    "which is an Ising Hamiltonian on two neighboring spins, up to a time $T=1$, where we want to keep track of the total magnetization $M = Z_1 + Z_2$ as an observable."
   ]
  },
  {
   "cell_type": "code",
   "execution_count": 1,
   "metadata": {
    "execution": {
     "iopub.execute_input": "2024-01-19T16:19:14.665324Z",
     "iopub.status.busy": "2024-01-19T16:19:14.665120Z",
     "iopub.status.idle": "2024-01-19T16:19:14.989241Z",
     "shell.execute_reply": "2024-01-19T16:19:14.988545Z"
    }
   },
   "outputs": [],
   "source": [
    "from qiskit.quantum_info import SparsePauliOp\n",
    "\n",
    "final_time = 1\n",
    "hamiltonian = SparsePauliOp.from_sparse_list([\n",
    "    (\"ZZ\", [0, 1], 0.1), (\"X\", [0], 1), (\"X\", [1], 1),\n",
    "], num_qubits=2)\n",
    "observable = SparsePauliOp([\"ZI\", \"IZ\"])"
   ]
  },
  {
   "cell_type": "markdown",
   "metadata": {},
   "source": [
    "After defining our Hamiltonian and observable, we need to choose the parameterized ansatz we project the update steps onto. We have different choices here, but for real time evolution an ansatz that contains building blocks of the evolved Hamiltonian usually performs very well."
   ]
  },
  {
   "cell_type": "code",
   "execution_count": 2,
   "metadata": {
    "execution": {
     "iopub.execute_input": "2024-01-19T16:19:14.992676Z",
     "iopub.status.busy": "2024-01-19T16:19:14.992060Z",
     "iopub.status.idle": "2024-01-19T16:19:15.752668Z",
     "shell.execute_reply": "2024-01-19T16:19:15.751906Z"
    }
   },
   "outputs": [
    {
     "data": {
      "image/png": "[encoded data removed]",
      "text/plain": [
       "<Figure size 454.517x200.667 with 1 Axes>"
      ]
     },
     "execution_count": 2,
     "metadata": {},
     "output_type": "execute_result"
    }
   ],
   "source": [
    "from qiskit.circuit import QuantumCircuit, ParameterVector\n",
    "\n",
    "theta = ParameterVector(\"th\", 5)\n",
    "ansatz = QuantumCircuit(2)\n",
    "ansatz.rx(theta[0], 0)\n",
    "ansatz.rx(theta[1], 1)\n",
    "ansatz.rzz(theta[2], 0, 1)\n",
    "ansatz.rx(theta[3], 0)\n",
    "ansatz.rx(theta[4], 1)\n",
    "\n",
    "# you can try different circuits, like:\n",
    "# from qiskit.circuit.library import EfficientSU2\n",
    "# ansatz = EfficientSU2(2, reps=1)\n",
    "\n",
    "ansatz.draw(\"mpl\", style=\"iqx\")"
   ]
  },
  {
   "cell_type": "markdown",
   "metadata": {},
   "source": [
    "With this ansatz, the $|00\\rangle$ state is prepared if all parameters are 0. Hence we'll set the initial parameters to $\\theta_0 = 0$:"
   ]
  },
  {
   "cell_type": "code",
   "execution_count": 3,
   "metadata": {
    "execution": {
     "iopub.execute_input": "2024-01-19T16:19:15.755604Z",
     "iopub.status.busy": "2024-01-19T16:19:15.755056Z",
     "iopub.status.idle": "2024-01-19T16:19:15.758319Z",
     "shell.execute_reply": "2024-01-19T16:19:15.757776Z"
    }
   },
   "outputs": [],
   "source": [
    "import numpy as np\n",
    "\n",
    "initial_parameters = np.zeros(ansatz.num_parameters)"
   ]
  },
  {
   "cell_type": "markdown",
   "metadata": {},
   "source": [
    "Before running the p-VQD algorithm, we need to select the backend and how we want to calculate the expectation values. Here, we'll perform exact statevector simulations (which are still very fast, as we investigate a 2 qubit system) through the reference primitive implementations found in `qiskit.primitives`."
   ]
  },
  {
   "cell_type": "code",
   "execution_count": 4,
   "metadata": {
    "execution": {
     "iopub.execute_input": "2024-01-19T16:19:15.760859Z",
     "iopub.status.busy": "2024-01-19T16:19:15.760467Z",
     "iopub.status.idle": "2024-01-19T16:19:16.039845Z",
     "shell.execute_reply": "2024-01-19T16:19:16.039255Z"
    }
   },
   "outputs": [],
   "source": [
    "from qiskit.primitives import Sampler, Estimator\n",
    "from qiskit_algorithms.state_fidelities import ComputeUncompute\n",
    "\n",
    "# the fidelity is used to evaluate the objective: the overlap of the variational form and the trotter step\n",
    "sampler = Sampler()\n",
    "fidelity = ComputeUncompute(sampler)\n",
    "\n",
    "# the estimator is used to evaluate the observables\n",
    "estimator = Estimator()"
   ]
  },
  {
   "cell_type": "markdown",
   "metadata": {},
   "source": [
    "Since p-VQD performs a classical optimization in each timestep to determine the best parameters for the projection, we also have to specify the classical optimizer. As a first example we're using BFGS, which typically works well in statevector simulations, but later we can switch to gradient descent."
   ]
  },
  {
   "cell_type": "code",
   "execution_count": 5,
   "metadata": {
    "execution": {
     "iopub.execute_input": "2024-01-19T16:19:16.043044Z",
     "iopub.status.busy": "2024-01-19T16:19:16.042470Z",
     "iopub.status.idle": "2024-01-19T16:19:16.045779Z",
     "shell.execute_reply": "2024-01-19T16:19:16.045100Z"
    }
   },
   "outputs": [],
   "source": [
    "from qiskit_algorithms.optimizers import L_BFGS_B\n",
    "\n",
    "bfgs = L_BFGS_B()"
   ]
  },
  {
   "cell_type": "markdown",
   "metadata": {},
   "source": [
    "Now we can define p-VQD and execute it!"
   ]
  },
  {
   "cell_type": "code",
   "execution_count": 6,
   "metadata": {
    "execution": {
     "iopub.execute_input": "2024-01-19T16:19:16.048228Z",
     "iopub.status.busy": "2024-01-19T16:19:16.047846Z",
     "iopub.status.idle": "2024-01-19T16:19:16.051145Z",
     "shell.execute_reply": "2024-01-19T16:19:16.050503Z"
    }
   },
   "outputs": [],
   "source": [
    "from qiskit_algorithms import PVQD\n",
    "\n",
    "pvqd = PVQD(\n",
    "    fidelity,\n",
    "    ansatz,\n",
    "    initial_parameters,\n",
    "    estimator=estimator,\n",
    "    num_timesteps=100,\n",
    "    optimizer=bfgs\n",
    ")"
   ]
  },
  {
   "cell_type": "markdown",
   "metadata": {},
   "source": [
    "The p-VQD implementation follows Qiskit's time evolution interface, thus we pack all information of the evolution problem into an input class: the `hamiltonian` under which we evolve the state, the `final_time` of the evolution and the observables (`aux_operators`) we keep track of."
   ]
  },
  {
   "cell_type": "code",
   "execution_count": 7,
   "metadata": {
    "execution": {
     "iopub.execute_input": "2024-01-19T16:19:16.053479Z",
     "iopub.status.busy": "2024-01-19T16:19:16.053293Z",
     "iopub.status.idle": "2024-01-19T16:19:16.056484Z",
     "shell.execute_reply": "2024-01-19T16:19:16.055938Z"
    }
   },
   "outputs": [],
   "source": [
    "from qiskit_algorithms import TimeEvolutionProblem\n",
    "\n",
    "problem = TimeEvolutionProblem(hamiltonian, time=final_time, aux_operators=[hamiltonian, observable])"
   ]
  },
  {
   "cell_type": "markdown",
   "metadata": {},
   "source": [
    "And then run the algorithm!"
   ]
  },
  {
   "cell_type": "code",
   "execution_count": 8,
   "metadata": {
    "execution": {
     "iopub.execute_input": "2024-01-19T16:19:16.058974Z",
     "iopub.status.busy": "2024-01-19T16:19:16.058632Z",
     "iopub.status.idle": "2024-01-19T16:19:21.717771Z",
     "shell.execute_reply": "2024-01-19T16:19:21.717068Z"
    }
   },
   "outputs": [
    {
     "name": "stdout",
     "output_type": "stream",
     "text": [
      "{   'aux_ops_evaluated': array([ 0.11101033, -0.82525166]),\n",
      "    'estimated_error': 2.424696751490707e-06,\n",
      "    'evolved_state': <qiskit.circuit.quantumcircuit.QuantumCircuit object at 0x7f614dcb8760>,\n",
      "    'fidelities': [   1.0,\n",
      "                      0.9999999988928084,\n",
      "                      0.9999999946138094,\n",
      "                      0.9999999870514558,\n",
      "                      0.9999999762084952,\n",
      "                      0.9999999987997928,\n",
      "                      0.9999999976154382,\n",
      "                      0.9999999944079512,\n",
      "                      0.9999999892072942,\n",
      "                      0.9999999956212154,\n",
      "                      0.999999994457609,\n",
      "                      0.9999999931100432,\n",
      "                      0.9999999915830557,\n",
      "                      0.9999999898815332,\n",
      "                      0.9999999880106026,\n",
      "                      0.9999999859755282,\n",
      "                      0.999999983781598,\n",
      "                      0.999999981434007,\n",
      "                      0.999999978937743,\n",
      "                      0.9999999762974604,\n",
      "                      0.9999999756305218,\n",
      "                      0.999999972938706,\n",
      "                      0.999999970075608,\n",
      "                      0.9999999670325804,\n",
      "                      0.9999999637998978,\n",
      "                      0.9999999603667228,\n",
      "                      0.9999999567210724,\n",
      "                      0.9999999555279222,\n",
      "                      0.9999999520125572,\n",
      "                      0.999999948341831,\n",
      "                      0.9999999445074306,\n",
      "                      0.999999940499743,\n",
      "                      0.9999999363078538,\n",
      "                      0.9999999894870598,\n",
      "                      0.9999999882569148,\n",
      "                      0.9999999868590672,\n",
      "                      0.9999999852827486,\n",
      "                      0.9999999835168178,\n",
      "                      0.9999999815498396,\n",
      "                      0.9999999793701811,\n",
      "                      0.9999999775801008,\n",
      "                      0.999999975292486,\n",
      "                      0.9999999728109392,\n",
      "                      0.9999999701251056,\n",
      "                      0.999999967952962,\n",
      "                      0.9999999652381998,\n",
      "                      0.9999999623412908,\n",
      "                      0.9999999592535612,\n",
      "                      0.9999999568609896,\n",
      "                      0.9999999538551492,\n",
      "                      0.9999999506884042,\n",
      "                      0.9999999473542002,\n",
      "                      0.9999999447822226,\n",
      "                      0.9999999414986366,\n",
      "                      0.9999999380678576,\n",
      "                      0.999999970699673,\n",
      "                      0.9999999701832561,\n",
      "                      0.9999999697098187,\n",
      "                      0.9999999692809441,\n",
      "                      0.9999999688981818,\n",
      "                      0.9999999685630678,\n",
      "                      0.9999999682771442,\n",
      "                      0.9999999680419686,\n",
      "                      0.9999999682850644,\n",
      "                      0.999999968219468,\n",
      "                      0.9999999682170388,\n",
      "                      0.9999999682790726,\n",
      "                      0.9999999684067912,\n",
      "                      0.9999999686013193,\n",
      "                      0.9999999691805068,\n",
      "                      0.9999999695571198,\n",
      "                      0.9999999700067472,\n",
      "                      0.9999999705294838,\n",
      "                      0.99999997112509,\n",
      "                      0.9999999723120586,\n",
      "                      0.999999973106621,\n",
      "                      0.999999973974279,\n",
      "                      0.9999999749125262,\n",
      "                      0.9999999759181722,\n",
      "                      0.9999999769872546,\n",
      "                      0.9999999781149438,\n",
      "                      0.9999999796361204,\n",
      "                      0.999999980894064,\n",
      "                      0.9999999821924676,\n",
      "                      0.999999983522264,\n",
      "                      0.9999999848730922,\n",
      "                      0.9999999862332029,\n",
      "                      0.9999999875893608,\n",
      "                      0.9999999891906421,\n",
      "                      0.9999999905139978,\n",
      "                      0.9999999917877171,\n",
      "                      0.9999999929923538,\n",
      "                      0.9999999941066378,\n",
      "                      0.9999999951074194,\n",
      "                      0.9999999959696146,\n",
      "                      0.9999999966661628,\n",
      "                      0.9999999973230448,\n",
      "                      0.9999999976269052,\n",
      "                      0.9999999976790092,\n",
      "                      0.999999997445093,\n",
      "                      0.999999996888946],\n",
      "    'observables': [   array([0.1, 2. ]),\n",
      "                       array([0.10004962, 1.99960001]),\n",
      "                       array([0.10019849, 1.99840023]),\n",
      "                       array([0.10044659, 1.99640121]),\n",
      "                       array([0.10079393, 1.99360388]),\n",
      "                       array([0.10074378, 1.99001138]),\n",
      "                       array([0.10060398, 1.98562388]),\n",
      "                       array([0.10037517, 1.98044312]),\n",
      "                       array([0.10005809, 1.97447116]),\n",
      "                       array([0.09997059, 1.9677054 ]),\n",
      "                       array([0.09986428, 1.9601526 ]),\n",
      "                       array([0.09973997, 1.95181585]),\n",
      "                       array([0.09959855, 1.94269855]),\n",
      "                       array([0.09944099, 1.93280443]),\n",
      "                       array([0.09926833, 1.92213751]),\n",
      "                       array([0.09908171, 1.91070216]),\n",
      "                       array([0.09888231, 1.89850305]),\n",
      "                       array([0.09867141, 1.88554513]),\n",
      "                       array([0.09845034, 1.87183371]),\n",
      "                       array([0.0982205 , 1.85737437]),\n",
      "                       array([0.09810577, 1.84217115]),\n",
      "                       array([0.09799684, 1.82623213]),\n",
      "                       array([0.09789514, 1.80956384]),\n",
      "                       array([0.09780218, 1.79217314]),\n",
      "                       array([0.09771948, 1.77406716]),\n",
      "                       array([0.09764862, 1.75525333]),\n",
      "                       array([0.09759121, 1.73573937]),\n",
      "                       array([0.09742674, 1.71552643]),\n",
      "                       array([0.09727069, 1.69462893]),\n",
      "                       array([0.09712487, 1.67305541]),\n",
      "                       array([0.0969911 , 1.65081469]),\n",
      "                       array([0.09687124, 1.62791585]),\n",
      "                       array([0.09676714, 1.60436823]),\n",
      "                       array([0.09680195, 1.5801745 ]),\n",
      "                       array([0.09685587, 1.55535107]),\n",
      "                       array([0.09693013, 1.52990806]),\n",
      "                       array([0.09702597, 1.50385587]),\n",
      "                       array([0.09714461, 1.47720511]),\n",
      "                       array([0.09728721, 1.44996665]),\n",
      "                       array([0.09745495, 1.4221516 ]),\n",
      "                       array([0.09758134, 1.39376672]),\n",
      "                       array([0.09773187, 1.36482775]),\n",
      "                       array([0.0979077 , 1.33534648]),\n",
      "                       array([0.0981099 , 1.30533491]),\n",
      "                       array([0.09826689, 1.27479953]),\n",
      "                       array([0.09844946, 1.24375803]),\n",
      "                       array([0.09865867, 1.21222304]),\n",
      "                       array([0.09889553, 1.18020737]),\n",
      "                       array([0.09907819, 1.14772248]),\n",
      "                       array([0.0992876 , 1.11478276]),\n",
      "                       array([0.09952472, 1.08140156]),\n",
      "                       array([0.09979043, 1.04759241]),\n",
      "                       array([0.10002184, 1.01334435]),\n",
      "                       array([0.1002817 , 0.97869511]),\n",
      "                       array([0.10057078, 0.94365874]),\n",
      "                       array([0.10075174, 0.90825501]),\n",
      "                       array([0.10094565, 0.8724917 ]),\n",
      "                       array([0.10115288, 0.83638323]),\n",
      "                       array([0.10137371, 0.79994416]),\n",
      "                       array([0.10160836, 0.76318918]),\n",
      "                       array([0.10185699, 0.7261331 ]),\n",
      "                       array([0.10211967, 0.68879087]),\n",
      "                       array([0.10239641, 0.65117753]),\n",
      "                       array([0.10263925, 0.61330326]),\n",
      "                       array([0.10289509, 0.57518804]),\n",
      "                       array([0.10316381, 0.53684722]),\n",
      "                       array([0.10344519, 0.49829625]),\n",
      "                       array([0.10373895, 0.45955065]),\n",
      "                       array([0.10404472, 0.42062603]),\n",
      "                       array([0.10432732, 0.38152371]),\n",
      "                       array([0.10462068, 0.3422735 ]),\n",
      "                       array([0.10492426, 0.30289123]),\n",
      "                       array([0.10523744, 0.26339275]),\n",
      "                       array([0.10555953, 0.22379397]),\n",
      "                       array([0.10584262, 0.1841147 ]),\n",
      "                       array([0.10613284, 0.14436682]),\n",
      "                       array([0.10642933, 0.10456631]),\n",
      "                       array([0.10673118, 0.0647292 ]),\n",
      "                       array([0.10703741, 0.02487149]),\n",
      "                       array([ 0.10734693, -0.01499079]),\n",
      "                       array([ 0.10765862, -0.05484159]),\n",
      "                       array([ 0.10793518, -0.09466761]),\n",
      "                       array([ 0.10821168, -0.13445033]),\n",
      "                       array([ 0.10848684, -0.17417377]),\n",
      "                       array([ 0.10875932, -0.21382195]),\n",
      "                       array([ 0.10902771, -0.25337896]),\n",
      "                       array([ 0.10929053, -0.29282888]),\n",
      "                       array([ 0.10954623, -0.33215588]),\n",
      "                       array([ 0.10976355, -0.37135106]),\n",
      "                       array([ 0.10997107, -0.41039193]),\n",
      "                       array([ 0.11016713, -0.44926281]),\n",
      "                       array([ 0.11035005, -0.48794807]),\n",
      "                       array([ 0.11051808, -0.52643219]),\n",
      "                       array([ 0.11066944, -0.56469971]),\n",
      "                       array([ 0.11080228, -0.60273525]),\n",
      "                       array([ 0.11091476, -0.64052356]),\n",
      "                       array([ 0.11098477, -0.67805366]),\n",
      "                       array([ 0.11103126, -0.71530641]),\n",
      "                       array([ 0.11105232, -0.75226686]),\n",
      "                       array([ 0.111046  , -0.78892018]),\n",
      "                       array([ 0.11101033, -0.82525166])],\n",
      "    'parameters': [   array([0., 0., 0., 0., 0.]),\n",
      "                      array([0.01239941, 0.00637747, 0.004773  , 0.0076007 , 0.01362262]),\n",
      "                      array([0.02479881, 0.01275494, 0.00954601, 0.0152014 , 0.02724525]),\n",
      "                      array([0.03719822, 0.01913241, 0.01431901, 0.0228021 , 0.04086787]),\n",
      "                      array([0.04959762, 0.02550988, 0.01909202, 0.0304028 , 0.05449049]),\n",
      "                      array([0.06114718, 0.03162626, 0.01878497, 0.03884059, 0.06836343]),\n",
      "                      array([0.07269673, 0.03774264, 0.01847792, 0.04727839, 0.08223637]),\n",
      "                      array([0.08424629, 0.04385902, 0.01817087, 0.05571618, 0.09610931]),\n",
      "                      array([0.09579584, 0.04997539, 0.01786381, 0.06415397, 0.10998225]),\n",
      "                      array([0.10743377, 0.05624645, 0.0194794 , 0.07251933, 0.12371541]),\n",
      "                      array([0.1190717 , 0.06251751, 0.02109498, 0.08088468, 0.13744856]),\n",
      "                      array([0.13070963, 0.06878857, 0.02271057, 0.08925003, 0.15118171]),\n",
      "                      array([0.14234756, 0.07505963, 0.02432615, 0.09761539, 0.16491487]),\n",
      "                      array([0.15398549, 0.08133069, 0.02594174, 0.10598074, 0.17864802]),\n",
      "                      array([0.16562341, 0.08760175, 0.02755732, 0.1143461 , 0.19238117]),\n",
      "                      array([0.17726134, 0.09387281, 0.02917291, 0.12271145, 0.20611433]),\n",
      "                      array([0.18889927, 0.10014387, 0.03078849, 0.1310768 , 0.21984748]),\n",
      "                      array([0.2005372 , 0.10641493, 0.03240408, 0.13944216, 0.23358063]),\n",
      "                      array([0.21217513, 0.11268599, 0.03401966, 0.14780751, 0.24731378]),\n",
      "                      array([0.22381306, 0.11895705, 0.03563525, 0.15617287, 0.26104694]),\n",
      "                      array([0.23542222, 0.1253438 , 0.03758976, 0.16456923, 0.27466933]),\n",
      "                      array([0.24703137, 0.13173055, 0.03954428, 0.1729656 , 0.28829173]),\n",
      "                      array([0.25864053, 0.13811729, 0.0414988 , 0.18136197, 0.30191412]),\n",
      "                      array([0.27024968, 0.14450404, 0.04345332, 0.18975834, 0.31553652]),\n",
      "                      array([0.28185884, 0.15089079, 0.04540783, 0.19815471, 0.32915891]),\n",
      "                      array([0.29346799, 0.15727754, 0.04736235, 0.20655107, 0.34278131]),\n",
      "                      array([0.30507715, 0.16366428, 0.04931687, 0.21494744, 0.3564037 ]),\n",
      "                      array([0.31660103, 0.17020027, 0.05100502, 0.22343215, 0.36988377]),\n",
      "                      array([0.32812492, 0.17673627, 0.05269317, 0.23191687, 0.38336384]),\n",
      "                      array([0.3396488 , 0.18327226, 0.05438133, 0.24040158, 0.39684391]),\n",
      "                      array([0.35117268, 0.18980825, 0.05606948, 0.24888629, 0.41032398]),\n",
      "                      array([0.36269657, 0.19634424, 0.05775763, 0.257371  , 0.42380405]),\n",
      "                      array([0.37422045, 0.20288024, 0.05944578, 0.26585572, 0.43728412]),\n",
      "                      array([0.38260601, 0.21684806, 0.06096502, 0.27748366, 0.44334183]),\n",
      "                      array([0.39099157, 0.23081588, 0.06248426, 0.28911161, 0.44939955]),\n",
      "                      array([0.39937713, 0.24478369, 0.06400351, 0.30073955, 0.45545726]),\n",
      "                      array([0.4077627 , 0.25875151, 0.06552275, 0.3123675 , 0.46151497]),\n",
      "                      array([0.41614826, 0.27271933, 0.06704199, 0.32399544, 0.46757269]),\n",
      "                      array([0.42453382, 0.28668715, 0.06856123, 0.33562339, 0.4736304 ]),\n",
      "                      array([0.43291938, 0.30065497, 0.07008047, 0.34725134, 0.47968811]),\n",
      "                      array([0.44132252, 0.31461135, 0.07150098, 0.35886394, 0.48575854]),\n",
      "                      array([0.44972566, 0.32856773, 0.07292149, 0.37047654, 0.49182896]),\n",
      "                      array([0.4581288 , 0.34252411, 0.074342  , 0.38208913, 0.49789938]),\n",
      "                      array([0.46653193, 0.35648049, 0.0757625 , 0.39370173, 0.5039698 ]),\n",
      "                      array([0.47496195, 0.37042185, 0.07708535, 0.40528982, 0.51005681]),\n",
      "                      array([0.48339197, 0.38436321, 0.0784082 , 0.4168779 , 0.51614382]),\n",
      "                      array([0.49182199, 0.39830457, 0.07973105, 0.42846598, 0.52223083]),\n",
      "                      array([0.500252  , 0.41224593, 0.0810539 , 0.44005406, 0.52831784]),\n",
      "                      array([0.50871946, 0.42616686, 0.08227265, 0.45160332, 0.5344241 ]),\n",
      "                      array([0.51718691, 0.44008779, 0.08349139, 0.46315259, 0.54053036]),\n",
      "                      array([0.52565436, 0.45400871, 0.08471014, 0.47470185, 0.54663662]),\n",
      "                      array([0.53412181, 0.46792964, 0.08592888, 0.48625111, 0.55274288]),\n",
      "                      array([0.54263399, 0.48183906, 0.08707257, 0.49777131, 0.5588699 ]),\n",
      "                      array([0.55114616, 0.49574847, 0.08821626, 0.50929151, 0.56499692]),\n",
      "                      array([0.55965834, 0.50965788, 0.08935995, 0.52081171, 0.57112394]),\n",
      "                      array([0.57301628, 0.52221437, 0.09018421, 0.52747483, 0.57858999]),\n",
      "                      array([0.58637423, 0.53477086, 0.09100847, 0.53413796, 0.58605604]),\n",
      "                      array([0.59973217, 0.54732735, 0.09183274, 0.54080109, 0.59352209]),\n",
      "                      array([0.61309012, 0.55988384, 0.092657  , 0.54746421, 0.60098814]),\n",
      "                      array([0.62644806, 0.57244033, 0.09348126, 0.55412734, 0.60845419]),\n",
      "                      array([0.639806  , 0.58499682, 0.09430552, 0.56079047, 0.61592024]),\n",
      "                      array([0.65316395, 0.59755331, 0.09512978, 0.56745359, 0.62338629]),\n",
      "                      array([0.66652189, 0.6101098 , 0.09595404, 0.57411672, 0.63085234]),\n",
      "                      array([0.6798858 , 0.62269801, 0.09672768, 0.58077233, 0.63828992]),\n",
      "                      array([0.6932497 , 0.63528621, 0.09750132, 0.58742794, 0.6457275 ]),\n",
      "                      array([0.7066136 , 0.64787441, 0.09827496, 0.59408355, 0.65316509]),\n",
      "                      array([0.71997751, 0.66046261, 0.0990486 , 0.60073916, 0.66060267]),\n",
      "                      array([0.73334141, 0.67305082, 0.09982224, 0.60739477, 0.66804025]),\n",
      "                      array([0.74670532, 0.68563902, 0.10059587, 0.61405038, 0.67547783]),\n",
      "                      array([0.76007412, 0.69824952, 0.10133447, 0.62070207, 0.68290386]),\n",
      "                      array([0.77344293, 0.71086002, 0.10207306, 0.62735376, 0.69032989]),\n",
      "                      array([0.78681174, 0.72347052, 0.10281165, 0.63400545, 0.69775593]),\n",
      "                      array([0.80018055, 0.73608102, 0.10355024, 0.64065714, 0.70518196]),\n",
      "                      array([0.81354936, 0.74869152, 0.10428883, 0.64730883, 0.71260799]),\n",
      "                      array([0.82692615, 0.76133026, 0.10498027, 0.65395061, 0.71999931]),\n",
      "                      array([0.84030294, 0.77396901, 0.10567171, 0.66059238, 0.72739063]),\n",
      "                      array([0.85367973, 0.78660776, 0.10636315, 0.66723415, 0.73478195]),\n",
      "                      array([0.86705652, 0.7992465 , 0.10705459, 0.67387593, 0.74217327]),\n",
      "                      array([0.88043331, 0.81188525, 0.10774603, 0.6805177 , 0.74956459]),\n",
      "                      array([0.8938101 , 0.82452399, 0.10843746, 0.68715947, 0.7569559 ]),\n",
      "                      array([0.90718689, 0.83716274, 0.1091289 , 0.69380125, 0.76434722]),\n",
      "                      array([0.92056716, 0.84981808, 0.10978396, 0.70043804, 0.77172199]),\n",
      "                      array([0.93394744, 0.86247342, 0.11043902, 0.70707484, 0.77909676]),\n",
      "                      array([0.94732772, 0.87512876, 0.11109408, 0.71371163, 0.78647152]),\n",
      "                      array([0.960708  , 0.8877841 , 0.11174914, 0.72034843, 0.79384629]),\n",
      "                      array([0.97408828, 0.90043944, 0.1124042 , 0.72698522, 0.80122106]),\n",
      "                      array([0.98746856, 0.91309478, 0.11305926, 0.73362202, 0.80859583]),\n",
      "                      array([1.00084884, 0.92575012, 0.11371432, 0.74025882, 0.81597059]),\n",
      "                      array([1.01423093, 0.93841944, 0.11433803, 0.74689404, 0.82333394]),\n",
      "                      array([1.02761301, 0.95108875, 0.11496174, 0.75352926, 0.83069729]),\n",
      "                      array([1.04099509, 0.96375807, 0.11558546, 0.76016447, 0.83806064]),\n",
      "                      array([1.05437717, 0.97642739, 0.11620917, 0.76679969, 0.84542399]),\n",
      "                      array([1.06775926, 0.98909671, 0.11683288, 0.77343491, 0.85278734]),\n",
      "                      array([1.08114134, 1.00176603, 0.11745659, 0.78007013, 0.86015069]),\n",
      "                      array([1.09452342, 1.01443534, 0.1180803 , 0.78670535, 0.86751404]),\n",
      "                      array([1.1079055 , 1.02710466, 0.11870401, 0.79334057, 0.87487739]),\n",
      "                      array([1.1212839 , 1.03978087, 0.11930364, 0.79997867, 0.88223512]),\n",
      "                      array([1.1346623 , 1.05245708, 0.11990326, 0.80661677, 0.88959286]),\n",
      "                      array([1.14804069, 1.06513329, 0.12050289, 0.81325487, 0.89695059]),\n",
      "                      array([1.16141909, 1.0778095 , 0.12110251, 0.81989297, 0.90430832]),\n",
      "                      array([1.17479748, 1.09048571, 0.12170214, 0.82653108, 0.91166605])],\n",
      "    'times': [   0.0,\n",
      "                 0.01,\n",
      "                 0.02,\n",
      "                 0.03,\n",
      "                 0.04,\n",
      "                 0.05,\n",
      "                 0.06,\n",
      "                 0.07,\n",
      "                 0.08,\n",
      "                 0.09,\n",
      "                 0.1,\n",
      "                 0.11,\n",
      "                 0.12,\n",
      "                 0.13,\n",
      "                 0.14,\n",
      "                 0.15,\n",
      "                 0.16,\n",
      "                 0.17,\n",
      "                 0.18,\n",
      "                 0.19,\n",
      "                 0.2,\n",
      "                 0.21,\n",
      "                 0.22,\n",
      "                 0.23,\n",
      "                 0.24,\n",
      "                 0.25,\n",
      "                 0.26,\n",
      "                 0.27,\n",
      "                 0.28,\n",
      "                 0.29,\n",
      "                 0.3,\n",
      "                 0.31,\n",
      "                 0.32,\n",
      "                 0.33,\n",
      "                 0.34,\n",
      "                 0.35000000000000003,\n",
      "                 0.36,\n",
      "                 0.37,\n",
      "                 0.38,\n",
      "                 0.39,\n",
      "                 0.4,\n",
      "                 0.41000000000000003,\n",
      "                 0.42,\n",
      "                 0.43,\n",
      "                 0.44,\n",
      "                 0.45,\n",
      "                 0.46,\n",
      "                 0.47000000000000003,\n",
      "                 0.48,\n",
      "                 0.49,\n",
      "                 0.5,\n",
      "                 0.51,\n",
      "                 0.52,\n",
      "                 0.53,\n",
      "                 0.54,\n",
      "                 0.55,\n",
      "                 0.56,\n",
      "                 0.5700000000000001,\n",
      "                 0.58,\n",
      "                 0.59,\n",
      "                 0.6,\n",
      "                 0.61,\n",
      "                 0.62,\n",
      "                 0.63,\n",
      "                 0.64,\n",
      "                 0.65,\n",
      "                 0.66,\n",
      "                 0.67,\n",
      "                 0.68,\n",
      "                 0.6900000000000001,\n",
      "                 0.7000000000000001,\n",
      "                 0.71,\n",
      "                 0.72,\n",
      "                 0.73,\n",
      "                 0.74,\n",
      "                 0.75,\n",
      "                 0.76,\n",
      "                 0.77,\n",
      "                 0.78,\n",
      "                 0.79,\n",
      "                 0.8,\n",
      "                 0.81,\n",
      "                 0.8200000000000001,\n",
      "                 0.8300000000000001,\n",
      "                 0.84,\n",
      "                 0.85,\n",
      "                 0.86,\n",
      "                 0.87,\n",
      "                 0.88,\n",
      "                 0.89,\n",
      "                 0.9,\n",
      "                 0.91,\n",
      "                 0.92,\n",
      "                 0.93,\n",
      "                 0.9400000000000001,\n",
      "                 0.9500000000000001,\n",
      "                 0.96,\n",
      "                 0.97,\n",
      "                 0.98,\n",
      "                 0.99,\n",
      "                 1.0]}\n"
     ]
    }
   ],
   "source": [
    "result = pvqd.evolve(problem)\n",
    "print(result)"
   ]
  },
  {
   "cell_type": "markdown",
   "metadata": {},
   "source": [
    "Now we can have a look at the results, which are stored in a `PVQDResult` object. This class has the fields\n",
    "\n",
    "* `evolved_state`: The quantum circuit with the parameters at the final evolution time.\n",
    "* `times`: The timesteps of the time integration. At these times we have the parameter values and evaluated the observables.\n",
    "* `parameters`: The parameter values at each timestep.\n",
    "* `observables`: The observable values at each timestep.\n",
    "* `fidelities`: The fidelity of projecting the Trotter timestep onto the variational form at each timestep.\n",
    "* `estimated_error`: The estimated error as product of all fidelities."
   ]
  },
  {
   "cell_type": "markdown",
   "metadata": {},
   "source": [
    "The energy should be constant in a real time evolution. However, we are projecting the time-evolved state onto a variational form, which might violate this rule. Ideally the energy is still more or less constant. In this evolution here we observe shifts of ~5% of the energy."
   ]
  },
  {
   "cell_type": "code",
   "execution_count": 9,
   "metadata": {
    "execution": {
     "iopub.execute_input": "2024-01-19T16:19:21.720499Z",
     "iopub.status.busy": "2024-01-19T16:19:21.720121Z",
     "iopub.status.idle": "2024-01-19T16:19:21.916646Z",
     "shell.execute_reply": "2024-01-19T16:19:21.915924Z"
    }
   },
   "outputs": [
    {
     "data": {
      "text/plain": [
       "Text(0.5, 1.0, 'Energy over time')"
      ]
     },
     "execution_count": 9,
     "metadata": {},
     "output_type": "execute_result"
    },
    {
     "data": {
      "image/png": "[encoded data removed]",
      "text/plain": [
       "<Figure size 640x480 with 1 Axes>"
      ]
     },
     "metadata": {},
     "output_type": "display_data"
    }
   ],
   "source": [
    "import matplotlib.pyplot as plt\n",
    "\n",
    "energies = np.real(result.observables)[:, 0]\n",
    "\n",
    "plt.plot(result.times, energies, color=\"royalblue\")\n",
    "plt.xlabel(\"time $t$\")\n",
    "plt.ylabel(\"energy $E$\")\n",
    "plt.title(\"Energy over time\")"
   ]
  },
  {
   "cell_type": "markdown",
   "metadata": {},
   "source": [
    "Since we also kept track of the total magnetization of the system, we can plot that quantity too. However let's first compute exact reference values to verify our algorithm results."
   ]
  },
  {
   "cell_type": "code",
   "execution_count": 10,
   "metadata": {
    "execution": {
     "iopub.execute_input": "2024-01-19T16:19:21.919513Z",
     "iopub.status.busy": "2024-01-19T16:19:21.919275Z",
     "iopub.status.idle": "2024-01-19T16:19:21.924349Z",
     "shell.execute_reply": "2024-01-19T16:19:21.923756Z"
    }
   },
   "outputs": [],
   "source": [
    "import scipy as sc\n",
    "\n",
    "def exact(final_time, timestep, hamiltonian, initial_state):\n",
    "    \"\"\"Get the exact values for energy and the observable.\"\"\"\n",
    "    O = observable.to_matrix()\n",
    "    H = hamiltonian.to_matrix()\n",
    "\n",
    "    energ, magn = [], []  # list of energies and magnetizations evaluated at timesteps timestep\n",
    "    times = []  # list of timepoints at which energy/obs are evaluated\n",
    "    time = 0\n",
    "    while time <= final_time:\n",
    "        # get exact state at time t\n",
    "        exact_state = initial_state.evolve(sc.linalg.expm(-1j * time * H))\n",
    "        # store observables and time\n",
    "        times.append(time)\n",
    "        energ.append(exact_state.expectation_value(H).real)\n",
    "        magn.append(exact_state.expectation_value(observable).real)\n",
    "\n",
    "        # next timestep\n",
    "        time += timestep\n",
    "\n",
    "    return times, energ, magn"
   ]
  },
  {
   "cell_type": "code",
   "execution_count": 11,
   "metadata": {
    "execution": {
     "iopub.execute_input": "2024-01-19T16:19:21.926710Z",
     "iopub.status.busy": "2024-01-19T16:19:21.926502Z",
     "iopub.status.idle": "2024-01-19T16:19:21.959668Z",
     "shell.execute_reply": "2024-01-19T16:19:21.959005Z"
    }
   },
   "outputs": [
    {
     "name": "stderr",
     "output_type": "stream",
     "text": [
      "/tmp/ipykernel_7899/4229986699.py:3: DeprecationWarning: The method ``qiskit.circuit.quantumcircuit.QuantumCircuit.bind_parameters()`` is deprecated as of qiskit 0.45.0. It will be removed no earlier than 3 months after the release date. Use assign_parameters() instead\n",
      "  initial_state = Statevector(ansatz.bind_parameters(initial_parameters))\n"
     ]
    }
   ],
   "source": [
    "from qiskit.quantum_info import Statevector\n",
    "\n",
    "initial_state = Statevector(ansatz.bind_parameters(initial_parameters))\n",
    "exact_times, exact_energies, exact_magnetizations = exact(final_time, 0.01, hamiltonian, initial_state)"
   ]
  },
  {
   "cell_type": "code",
   "execution_count": 12,
   "metadata": {
    "execution": {
     "iopub.execute_input": "2024-01-19T16:19:21.962877Z",
     "iopub.status.busy": "2024-01-19T16:19:21.962413Z",
     "iopub.status.idle": "2024-01-19T16:19:22.185293Z",
     "shell.execute_reply": "2024-01-19T16:19:22.184544Z"
    }
   },
   "outputs": [
    {
     "data": {
      "text/plain": [
       "<matplotlib.legend.Legend at 0x7f614dbeeb80>"
      ]
     },
     "execution_count": 12,
     "metadata": {},
     "output_type": "execute_result"
    },
    {
     "data": {
      "image/png": "[encoded data removed]",
      "text/plain": [
       "<Figure size 640x480 with 1 Axes>"
      ]
     },
     "metadata": {},
     "output_type": "display_data"
    }
   ],
   "source": [
    "magnetizations = np.real(result.observables)[:, 1]\n",
    "\n",
    "plt.plot(result.times, magnetizations.real, color=\"crimson\", label=\"PVQD\")\n",
    "plt.plot(exact_times, exact_magnetizations, \":\", color=\"k\", label=\"Exact\")\n",
    "plt.xlabel(\"time $t$\")\n",
    "plt.ylabel(r\"magnetization $\\langle Z_1 Z_2 \\rangle$\")\n",
    "plt.title(\"Magnetization over time\")\n",
    "plt.legend(loc=\"best\")"
   ]
  },
  {
   "cell_type": "markdown",
   "metadata": {},
   "source": [
    "Looks pretty good!"
   ]
  },
  {
   "cell_type": "markdown",
   "metadata": {},
   "source": [
    "### Gradient-based optimizations\n",
    "\n",
    "The `PVQD` class also implements parameter-shift gradients for the loss function and we can use a gradient descent optimization routine\n",
    "\n",
    "$$\n",
    "    \\theta_{k+1} = \\theta_{k} - \\eta_k \\nabla\\ell(\\theta_k).\n",
    "$$\n",
    "\n",
    "Here we're using a learning rate of\n",
    "\n",
    "$$\n",
    "    \\eta_k = 0.1 k^{-0.602}\n",
    "$$\n",
    "and 80 optimization steps in each timestep."
   ]
  },
  {
   "cell_type": "code",
   "execution_count": 13,
   "metadata": {
    "execution": {
     "iopub.execute_input": "2024-01-19T16:19:22.187980Z",
     "iopub.status.busy": "2024-01-19T16:19:22.187757Z",
     "iopub.status.idle": "2024-01-19T16:19:22.191658Z",
     "shell.execute_reply": "2024-01-19T16:19:22.191007Z"
    },
    "scrolled": true
   },
   "outputs": [],
   "source": [
    "from qiskit_algorithms.optimizers import GradientDescent\n",
    "\n",
    "maxiter = 80\n",
    "learning_rate = 0.1 * np.arange(1, maxiter + 1) ** (-0.602)\n",
    "gd = GradientDescent(maxiter, lambda: iter(learning_rate))"
   ]
  },
  {
   "cell_type": "code",
   "execution_count": 14,
   "metadata": {
    "execution": {
     "iopub.execute_input": "2024-01-19T16:19:22.194360Z",
     "iopub.status.busy": "2024-01-19T16:19:22.193913Z",
     "iopub.status.idle": "2024-01-19T16:19:22.196968Z",
     "shell.execute_reply": "2024-01-19T16:19:22.196295Z"
    }
   },
   "outputs": [],
   "source": [
    "pvqd.optimizer = gd"
   ]
  },
  {
   "cell_type": "markdown",
   "metadata": {},
   "source": [
    "The following cell would take a few minutes to run for 100 timesteps, so we reduce them here."
   ]
  },
  {
   "cell_type": "code",
   "execution_count": 15,
   "metadata": {
    "execution": {
     "iopub.execute_input": "2024-01-19T16:19:22.199509Z",
     "iopub.status.busy": "2024-01-19T16:19:22.199121Z",
     "iopub.status.idle": "2024-01-19T16:19:22.202201Z",
     "shell.execute_reply": "2024-01-19T16:19:22.201623Z"
    }
   },
   "outputs": [],
   "source": [
    "n = 10\n",
    "pvqd.num_timesteps = n\n",
    "problem.time = 0.1"
   ]
  },
  {
   "cell_type": "code",
   "execution_count": 16,
   "metadata": {
    "execution": {
     "iopub.execute_input": "2024-01-19T16:19:22.204581Z",
     "iopub.status.busy": "2024-01-19T16:19:22.204192Z",
     "iopub.status.idle": "2024-01-19T16:19:42.257038Z",
     "shell.execute_reply": "2024-01-19T16:19:42.256322Z"
    }
   },
   "outputs": [],
   "source": [
    "result_gd = pvqd.evolve(problem)"
   ]
  },
  {
   "cell_type": "code",
   "execution_count": 17,
   "metadata": {
    "execution": {
     "iopub.execute_input": "2024-01-19T16:19:42.260142Z",
     "iopub.status.busy": "2024-01-19T16:19:42.259768Z",
     "iopub.status.idle": "2024-01-19T16:19:42.480196Z",
     "shell.execute_reply": "2024-01-19T16:19:42.479492Z"
    }
   },
   "outputs": [
    {
     "data": {
      "text/plain": [
       "Text(0.5, 1.0, 'Energy over time')"
      ]
     },
     "execution_count": 17,
     "metadata": {},
     "output_type": "execute_result"
    },
    {
     "data": {
      "image/png": "[encoded data removed]",
      "text/plain": [
       "<Figure size 640x480 with 1 Axes>"
      ]
     },
     "metadata": {},
     "output_type": "display_data"
    }
   ],
   "source": [
    "energies_gd = np.real(result_gd.observables)[:, 0]\n",
    "\n",
    "plt.plot(result.times[:n + 1], energies[:n + 1], \"-\", color=\"royalblue\", label=\"BFGS\")\n",
    "plt.plot(result_gd.times, energies_gd, \"--\", color=\"royalblue\", label=\"Gradient descent\")\n",
    "plt.plot(exact_times[:n + 1], exact_energies[:n + 1], \":\", color=\"k\", label=\"Exact\")\n",
    "plt.legend(loc=\"best\")\n",
    "plt.xlabel(\"time $t$\")\n",
    "plt.ylabel(\"energy $E$\")\n",
    "plt.title(\"Energy over time\")"
   ]
  },
  {
   "cell_type": "markdown",
   "metadata": {},
   "source": [
    "We can observe here, that the energy does vary quite a bit! But as we mentioned before, p-VQD does not preserve the energy."
   ]
  },
  {
   "cell_type": "code",
   "execution_count": 18,
   "metadata": {
    "execution": {
     "iopub.execute_input": "2024-01-19T16:19:42.483066Z",
     "iopub.status.busy": "2024-01-19T16:19:42.482850Z",
     "iopub.status.idle": "2024-01-19T16:19:42.725378Z",
     "shell.execute_reply": "2024-01-19T16:19:42.724672Z"
    },
    "tags": [
     "nbsphinx-thumbnail"
    ]
   },
   "outputs": [
    {
     "data": {
      "text/plain": [
       "Text(0.5, 1.0, 'Magnetization over time')"
      ]
     },
     "execution_count": 18,
     "metadata": {},
     "output_type": "execute_result"
    },
    {
     "data": {
      "image/png": "[encoded data removed]",
      "text/plain": [
       "<Figure size 640x480 with 1 Axes>"
      ]
     },
     "metadata": {},
     "output_type": "display_data"
    }
   ],
   "source": [
    "magnetizations_gd = np.real(result_gd.observables)[:, 1]\n",
    "\n",
    "plt.plot(result.times[:n + 1], magnetizations[:n + 1], \"-\", color=\"crimson\", label=\"BFGS\")\n",
    "plt.plot(result_gd.times, magnetizations_gd, \"--\", color=\"crimson\", label=\"Gradient descent\")\n",
    "plt.plot(exact_times[:n + 1], exact_magnetizations[:n + 1], \":\", color=\"k\", label=\"Exact\")\n",
    "plt.legend(loc=\"best\")\n",
    "plt.xlabel(\"time $t$\")\n",
    "plt.ylabel(r\"magnetization $\\langle Z_1 + Z_2 \\rangle$\")\n",
    "plt.title(\"Magnetization over time\")"
   ]
  },
  {
   "cell_type": "markdown",
   "metadata": {},
   "source": [
    "The magnetization, however, is computed very precisely."
   ]
  },
  {
   "cell_type": "code",
   "execution_count": 19,
   "metadata": {
    "execution": {
     "iopub.execute_input": "2024-01-19T16:19:42.728431Z",
     "iopub.status.busy": "2024-01-19T16:19:42.728009Z",
     "iopub.status.idle": "2024-01-19T16:19:42.813408Z",
     "shell.execute_reply": "2024-01-19T16:19:42.812696Z"
    }
   },
   "outputs": [
    {
     "data": {
      "text/html": [
       "<h3>Version Information</h3><table><tr><th>Software</th><th>Version</th></tr><tr><td><code>qiskit</code></td><td>0.45.2</td></tr><tr><td><code>qiskit_algorithms</code></td><td>0.2.2</td></tr><tr><td><code>qiskit_aer</code></td><td>0.13.2</td></tr><tr><th colspan='2'>System information</th></tr><tr><td>Python version</td><td>3.8.18</td></tr><tr><td>Python compiler</td><td>GCC 11.4.0</td></tr><tr><td>Python build</td><td>default, Aug 28 2023 08:27:22</td></tr><tr><td>OS</td><td>Linux</td></tr><tr><td>CPUs</td><td>2</td></tr><tr><td>Memory (Gb)</td><td>15.606903076171875</td></tr><tr><td colspan='2'>Fri Jan 19 16:19:42 2024 UTC</td></tr></table>"
      ],
      "text/plain": [
       "<IPython.core.display.HTML object>"
      ]
     },
     "metadata": {},
     "output_type": "display_data"
    },
    {
     "data": {
      "text/html": [
       "<div style='width: 100%; background-color:#d5d9e0;padding-left: 10px; padding-bottom: 10px; padding-right: 10px; padding-top: 5px'><h3>This code is a part of Qiskit</h3><p>&copy; Copyright IBM 2017, 2024.</p><p>This code is licensed under the Apache License, Version 2.0. You may<br>obtain a copy of this license in the LICENSE.txt file in the root directory<br> of this source tree or at http://www.apache.org/licenses/LICENSE-2.0.<p>Any modifications or derivative works of this code must retain this<br>copyright notice, and modified files need to carry a notice indicating<br>that they have been altered from the originals.</p></div>"
      ],
      "text/plain": [
       "<IPython.core.display.HTML object>"
      ]
     },
     "metadata": {},
     "output_type": "display_data"
    }
   ],
   "source": [
    "import qiskit.tools.jupyter\n",
    "%qiskit_version_table\n",
    "%qiskit_copyright\n"
   ]
  }
 ],
 "metadata": {
  "celltoolbar": "Edit Metadata",
  "kernelspec": {
   "display_name": "Python 3",
   "language": "python",
   "name": "python3"
  },
  "language_info": {
   "codemirror_mode": {
    "name": "ipython",
    "version": 3
   },
   "file_extension": ".py",
   "mimetype": "text/x-python",
   "name": "python",
   "nbconvert_exporter": "python",
   "pygments_lexer": "ipython3",
   "version": "3.8.18"
  },
  "widgets": {
   "application/vnd.jupyter.widget-state+json": {
    "state": {
     "1bf7bac84de54273825c2622326e6583": {
      "model_module": "@jupyter-widgets/controls",
      "model_module_version": "2.0.0",
      "model_name": "HTMLModel",
      "state": {
       "_dom_classes": [],
       "_model_module": "@jupyter-widgets/controls",
       "_model_module_version": "2.0.0",
       "_model_name": "HTMLModel",
       "_view_count": null,
       "_view_module": "@jupyter-widgets/controls",
       "_view_module_version": "2.0.0",
       "_view_name": "HTMLView",
       "description": "",
       "description_allow_html": false,
       "layout": "IPY_MODEL_29bd49c851924f6dbf4ef01484c06763",
       "placeholder": "​",
       "style": "IPY_MODEL_65fcd4e49fe84da98829ad0ae50e27cb",
       "tabbable": null,
       "tooltip": null,
       "value": "<p style='font-family: IBM Plex Sans, Arial, Helvetica, sans-serif; font-size: 20px; font-weight: medium;'>Circuit Properties</p>"
      }
     },
     "29bd49c851924f6dbf4ef01484c06763": {
      "model_module": "@jupyter-widgets/base",
      "model_module_version": "2.0.0",
      "model_name": "LayoutModel",
      "state": {
       "_model_module": "@jupyter-widgets/base",
       "_model_module_version": "2.0.0",
       "_model_name": "LayoutModel",
       "_view_count": null,
       "_view_module": "@jupyter-widgets/base",
       "_view_module_version": "2.0.0",
       "_view_name": "LayoutView",
       "align_content": null,
       "align_items": null,
       "align_self": null,
       "border_bottom": null,
       "border_left": null,
       "border_right": null,
       "border_top": null,
       "bottom": null,
       "display": null,
       "flex": null,
       "flex_flow": null,
       "grid_area": null,
       "grid_auto_columns": null,
       "grid_auto_flow": null,
       "grid_auto_rows": null,
       "grid_column": null,
       "grid_gap": null,
       "grid_row": null,
       "grid_template_areas": null,
       "grid_template_columns": null,
       "grid_template_rows": null,
       "height": null,
       "justify_content": null,
       "justify_items": null,
       "left": null,
       "margin": "0px 0px 10px 0px",
       "max_height": null,
       "max_width": null,
       "min_height": null,
       "min_width": null,
       "object_fit": null,
       "object_position": null,
       "order": null,
       "overflow": null,
       "padding": null,
       "right": null,
       "top": null,
       "visibility": null,
       "width": null
      }
     },
     "65fcd4e49fe84da98829ad0ae50e27cb": {
      "model_module": "@jupyter-widgets/controls",
      "model_module_version": "2.0.0",
      "model_name": "HTMLStyleModel",
      "state": {
       "_model_module": "@jupyter-widgets/controls",
       "_model_module_version": "2.0.0",
       "_model_name": "HTMLStyleModel",
       "_view_count": null,
       "_view_module": "@jupyter-widgets/base",
       "_view_module_version": "2.0.0",
       "_view_name": "StyleView",
       "background": null,
       "description_width": "",
       "font_size": null,
       "text_color": null
      }
     }
    },
    "version_major": 2,
    "version_minor": 0
   }
  }
 },
 "nbformat": 4,
 "nbformat_minor": 4
}
